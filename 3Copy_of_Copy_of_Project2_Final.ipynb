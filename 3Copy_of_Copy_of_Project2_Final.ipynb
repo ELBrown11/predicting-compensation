{
  "cells": [
    {
      "cell_type": "markdown",
      "metadata": {
        "id": "view-in-github",
        "colab_type": "text"
      },
      "source": [
        "<a href=\"https://colab.research.google.com/github/ELBrown11/predicting-compensation/blob/main/3Copy_of_Copy_of_Project2_Final.ipynb\" target=\"_parent\"><img src=\"https://colab.research.google.com/assets/colab-badge.svg\" alt=\"Open In Colab\"/></a>"
      ]
    },
    {
      "cell_type": "markdown",
      "metadata": {
        "id": "3GYoIUS34uWp"
      },
      "source": [
        "# **Using Employee Data to Predict Base Salary**"
      ]
    },
    {
      "cell_type": "code",
      "execution_count": null,
      "metadata": {
        "colab": {
          "base_uri": "https://localhost:8080/"
        },
        "id": "-xg5VgdFEqxV",
        "outputId": "9e290a8e-f9b5-4d49-bf40-940d1b9110e1"
      },
      "outputs": [
        {
          "output_type": "stream",
          "name": "stdout",
          "text": [
            "Drive already mounted at /content/drive; to attempt to forcibly remount, call drive.mount(\"/content/drive\", force_remount=True).\n"
          ]
        }
      ],
      "source": [
        "#mount drive\n",
        "from google.colab import drive\n",
        "drive.mount('/content/drive')"
      ]
    },
    {
      "cell_type": "code",
      "execution_count": null,
      "metadata": {
        "id": "XfitpKpAKpIL"
      },
      "outputs": [],
      "source": [
        "#import pandas\n",
        "import pandas as pd"
      ]
    },
    {
      "cell_type": "markdown",
      "metadata": {
        "id": "7ZUwaXtwLNpN"
      },
      "source": [
        "## **Data Background**\n",
        "\n",
        "This data comes from [Kaggle](https://www.kaggle.com/jackogozaly/data-science-and-stem-salaries). The data, which consists of 62,000+ records and 29 columns, was scraped from [levels.fyi](http://levels.fyi). Levels is a website where employee of top companies, including MAANG (Meta, Amazon, Apple, Netflix, Google) companies, share employee data including compensation and demographic information. The data also includes several one hot encoded columns for specific levels of education and racial identities likely created by whomever scraped this data.\n",
        "\n"
      ]
    },
    {
      "cell_type": "code",
      "execution_count": null,
      "metadata": {
        "colab": {
          "base_uri": "https://localhost:8080/",
          "height": 475
        },
        "id": "E8sB7CSMLINV",
        "outputId": "0dcef97f-3bf9-466e-ef2b-650b004d5a86"
      },
      "outputs": [
        {
          "output_type": "stream",
          "name": "stdout",
          "text": [
            "Data table contains 62642 rows and 29 columns\n",
            "\n",
            "\n"
          ]
        },
        {
          "output_type": "execute_result",
          "data": {
            "text/html": [
              "\n",
              "  <div id=\"df-cdabe678-3a94-48a1-9c5f-47fc463e0030\">\n",
              "    <div class=\"colab-df-container\">\n",
              "      <div>\n",
              "<style scoped>\n",
              "    .dataframe tbody tr th:only-of-type {\n",
              "        vertical-align: middle;\n",
              "    }\n",
              "\n",
              "    .dataframe tbody tr th {\n",
              "        vertical-align: top;\n",
              "    }\n",
              "\n",
              "    .dataframe thead th {\n",
              "        text-align: right;\n",
              "    }\n",
              "</style>\n",
              "<table border=\"1\" class=\"dataframe\">\n",
              "  <thead>\n",
              "    <tr style=\"text-align: right;\">\n",
              "      <th></th>\n",
              "      <th>timestamp</th>\n",
              "      <th>company</th>\n",
              "      <th>level</th>\n",
              "      <th>title</th>\n",
              "      <th>totalyearlycompensation</th>\n",
              "      <th>location</th>\n",
              "      <th>yearsofexperience</th>\n",
              "      <th>yearsatcompany</th>\n",
              "      <th>tag</th>\n",
              "      <th>basesalary</th>\n",
              "      <th>...</th>\n",
              "      <th>Doctorate_Degree</th>\n",
              "      <th>Highschool</th>\n",
              "      <th>Some_College</th>\n",
              "      <th>Race_Asian</th>\n",
              "      <th>Race_White</th>\n",
              "      <th>Race_Two_Or_More</th>\n",
              "      <th>Race_Black</th>\n",
              "      <th>Race_Hispanic</th>\n",
              "      <th>Race</th>\n",
              "      <th>Education</th>\n",
              "    </tr>\n",
              "  </thead>\n",
              "  <tbody>\n",
              "    <tr>\n",
              "      <th>0</th>\n",
              "      <td>6/7/2017 11:33:27</td>\n",
              "      <td>Oracle</td>\n",
              "      <td>L3</td>\n",
              "      <td>Product Manager</td>\n",
              "      <td>127000</td>\n",
              "      <td>Redwood City, CA</td>\n",
              "      <td>1.5</td>\n",
              "      <td>1.5</td>\n",
              "      <td>NaN</td>\n",
              "      <td>107000.0</td>\n",
              "      <td>...</td>\n",
              "      <td>0</td>\n",
              "      <td>0</td>\n",
              "      <td>0</td>\n",
              "      <td>0</td>\n",
              "      <td>0</td>\n",
              "      <td>0</td>\n",
              "      <td>0</td>\n",
              "      <td>0</td>\n",
              "      <td>NaN</td>\n",
              "      <td>NaN</td>\n",
              "    </tr>\n",
              "    <tr>\n",
              "      <th>1</th>\n",
              "      <td>6/10/2017 17:11:29</td>\n",
              "      <td>eBay</td>\n",
              "      <td>SE 2</td>\n",
              "      <td>Software Engineer</td>\n",
              "      <td>100000</td>\n",
              "      <td>San Francisco, CA</td>\n",
              "      <td>5.0</td>\n",
              "      <td>3.0</td>\n",
              "      <td>NaN</td>\n",
              "      <td>0.0</td>\n",
              "      <td>...</td>\n",
              "      <td>0</td>\n",
              "      <td>0</td>\n",
              "      <td>0</td>\n",
              "      <td>0</td>\n",
              "      <td>0</td>\n",
              "      <td>0</td>\n",
              "      <td>0</td>\n",
              "      <td>0</td>\n",
              "      <td>NaN</td>\n",
              "      <td>NaN</td>\n",
              "    </tr>\n",
              "    <tr>\n",
              "      <th>2</th>\n",
              "      <td>6/11/2017 14:53:57</td>\n",
              "      <td>Amazon</td>\n",
              "      <td>L7</td>\n",
              "      <td>Product Manager</td>\n",
              "      <td>310000</td>\n",
              "      <td>Seattle, WA</td>\n",
              "      <td>8.0</td>\n",
              "      <td>0.0</td>\n",
              "      <td>NaN</td>\n",
              "      <td>155000.0</td>\n",
              "      <td>...</td>\n",
              "      <td>0</td>\n",
              "      <td>0</td>\n",
              "      <td>0</td>\n",
              "      <td>0</td>\n",
              "      <td>0</td>\n",
              "      <td>0</td>\n",
              "      <td>0</td>\n",
              "      <td>0</td>\n",
              "      <td>NaN</td>\n",
              "      <td>NaN</td>\n",
              "    </tr>\n",
              "    <tr>\n",
              "      <th>3</th>\n",
              "      <td>6/17/2017 0:23:14</td>\n",
              "      <td>Apple</td>\n",
              "      <td>M1</td>\n",
              "      <td>Software Engineering Manager</td>\n",
              "      <td>372000</td>\n",
              "      <td>Sunnyvale, CA</td>\n",
              "      <td>7.0</td>\n",
              "      <td>5.0</td>\n",
              "      <td>NaN</td>\n",
              "      <td>157000.0</td>\n",
              "      <td>...</td>\n",
              "      <td>0</td>\n",
              "      <td>0</td>\n",
              "      <td>0</td>\n",
              "      <td>0</td>\n",
              "      <td>0</td>\n",
              "      <td>0</td>\n",
              "      <td>0</td>\n",
              "      <td>0</td>\n",
              "      <td>NaN</td>\n",
              "      <td>NaN</td>\n",
              "    </tr>\n",
              "    <tr>\n",
              "      <th>4</th>\n",
              "      <td>6/20/2017 10:58:51</td>\n",
              "      <td>Microsoft</td>\n",
              "      <td>60</td>\n",
              "      <td>Software Engineer</td>\n",
              "      <td>157000</td>\n",
              "      <td>Mountain View, CA</td>\n",
              "      <td>5.0</td>\n",
              "      <td>3.0</td>\n",
              "      <td>NaN</td>\n",
              "      <td>0.0</td>\n",
              "      <td>...</td>\n",
              "      <td>0</td>\n",
              "      <td>0</td>\n",
              "      <td>0</td>\n",
              "      <td>0</td>\n",
              "      <td>0</td>\n",
              "      <td>0</td>\n",
              "      <td>0</td>\n",
              "      <td>0</td>\n",
              "      <td>NaN</td>\n",
              "      <td>NaN</td>\n",
              "    </tr>\n",
              "  </tbody>\n",
              "</table>\n",
              "<p>5 rows × 29 columns</p>\n",
              "</div>\n",
              "      <button class=\"colab-df-convert\" onclick=\"convertToInteractive('df-cdabe678-3a94-48a1-9c5f-47fc463e0030')\"\n",
              "              title=\"Convert this dataframe to an interactive table.\"\n",
              "              style=\"display:none;\">\n",
              "        \n",
              "  <svg xmlns=\"http://www.w3.org/2000/svg\" height=\"24px\"viewBox=\"0 0 24 24\"\n",
              "       width=\"24px\">\n",
              "    <path d=\"M0 0h24v24H0V0z\" fill=\"none\"/>\n",
              "    <path d=\"M18.56 5.44l.94 2.06.94-2.06 2.06-.94-2.06-.94-.94-2.06-.94 2.06-2.06.94zm-11 1L8.5 8.5l.94-2.06 2.06-.94-2.06-.94L8.5 2.5l-.94 2.06-2.06.94zm10 10l.94 2.06.94-2.06 2.06-.94-2.06-.94-.94-2.06-.94 2.06-2.06.94z\"/><path d=\"M17.41 7.96l-1.37-1.37c-.4-.4-.92-.59-1.43-.59-.52 0-1.04.2-1.43.59L10.3 9.45l-7.72 7.72c-.78.78-.78 2.05 0 2.83L4 21.41c.39.39.9.59 1.41.59.51 0 1.02-.2 1.41-.59l7.78-7.78 2.81-2.81c.8-.78.8-2.07 0-2.86zM5.41 20L4 18.59l7.72-7.72 1.47 1.35L5.41 20z\"/>\n",
              "  </svg>\n",
              "      </button>\n",
              "      \n",
              "  <style>\n",
              "    .colab-df-container {\n",
              "      display:flex;\n",
              "      flex-wrap:wrap;\n",
              "      gap: 12px;\n",
              "    }\n",
              "\n",
              "    .colab-df-convert {\n",
              "      background-color: #E8F0FE;\n",
              "      border: none;\n",
              "      border-radius: 50%;\n",
              "      cursor: pointer;\n",
              "      display: none;\n",
              "      fill: #1967D2;\n",
              "      height: 32px;\n",
              "      padding: 0 0 0 0;\n",
              "      width: 32px;\n",
              "    }\n",
              "\n",
              "    .colab-df-convert:hover {\n",
              "      background-color: #E2EBFA;\n",
              "      box-shadow: 0px 1px 2px rgba(60, 64, 67, 0.3), 0px 1px 3px 1px rgba(60, 64, 67, 0.15);\n",
              "      fill: #174EA6;\n",
              "    }\n",
              "\n",
              "    [theme=dark] .colab-df-convert {\n",
              "      background-color: #3B4455;\n",
              "      fill: #D2E3FC;\n",
              "    }\n",
              "\n",
              "    [theme=dark] .colab-df-convert:hover {\n",
              "      background-color: #434B5C;\n",
              "      box-shadow: 0px 1px 3px 1px rgba(0, 0, 0, 0.15);\n",
              "      filter: drop-shadow(0px 1px 2px rgba(0, 0, 0, 0.3));\n",
              "      fill: #FFFFFF;\n",
              "    }\n",
              "  </style>\n",
              "\n",
              "      <script>\n",
              "        const buttonEl =\n",
              "          document.querySelector('#df-cdabe678-3a94-48a1-9c5f-47fc463e0030 button.colab-df-convert');\n",
              "        buttonEl.style.display =\n",
              "          google.colab.kernel.accessAllowed ? 'block' : 'none';\n",
              "\n",
              "        async function convertToInteractive(key) {\n",
              "          const element = document.querySelector('#df-cdabe678-3a94-48a1-9c5f-47fc463e0030');\n",
              "          const dataTable =\n",
              "            await google.colab.kernel.invokeFunction('convertToInteractive',\n",
              "                                                     [key], {});\n",
              "          if (!dataTable) return;\n",
              "\n",
              "          const docLinkHtml = 'Like what you see? Visit the ' +\n",
              "            '<a target=\"_blank\" href=https://colab.research.google.com/notebooks/data_table.ipynb>data table notebook</a>'\n",
              "            + ' to learn more about interactive tables.';\n",
              "          element.innerHTML = '';\n",
              "          dataTable['output_type'] = 'display_data';\n",
              "          await google.colab.output.renderOutput(dataTable, element);\n",
              "          const docLink = document.createElement('div');\n",
              "          docLink.innerHTML = docLinkHtml;\n",
              "          element.appendChild(docLink);\n",
              "        }\n",
              "      </script>\n",
              "    </div>\n",
              "  </div>\n",
              "  "
            ],
            "text/plain": [
              "            timestamp    company level                         title  \\\n",
              "0   6/7/2017 11:33:27     Oracle    L3               Product Manager   \n",
              "1  6/10/2017 17:11:29       eBay  SE 2             Software Engineer   \n",
              "2  6/11/2017 14:53:57     Amazon    L7               Product Manager   \n",
              "3   6/17/2017 0:23:14      Apple    M1  Software Engineering Manager   \n",
              "4  6/20/2017 10:58:51  Microsoft    60             Software Engineer   \n",
              "\n",
              "   totalyearlycompensation           location  yearsofexperience  \\\n",
              "0                   127000   Redwood City, CA                1.5   \n",
              "1                   100000  San Francisco, CA                5.0   \n",
              "2                   310000        Seattle, WA                8.0   \n",
              "3                   372000      Sunnyvale, CA                7.0   \n",
              "4                   157000  Mountain View, CA                5.0   \n",
              "\n",
              "   yearsatcompany  tag  basesalary  ...  Doctorate_Degree  Highschool  \\\n",
              "0             1.5  NaN    107000.0  ...                 0           0   \n",
              "1             3.0  NaN         0.0  ...                 0           0   \n",
              "2             0.0  NaN    155000.0  ...                 0           0   \n",
              "3             5.0  NaN    157000.0  ...                 0           0   \n",
              "4             3.0  NaN         0.0  ...                 0           0   \n",
              "\n",
              "  Some_College Race_Asian  Race_White  Race_Two_Or_More  Race_Black  \\\n",
              "0            0          0           0                 0           0   \n",
              "1            0          0           0                 0           0   \n",
              "2            0          0           0                 0           0   \n",
              "3            0          0           0                 0           0   \n",
              "4            0          0           0                 0           0   \n",
              "\n",
              "   Race_Hispanic  Race  Education  \n",
              "0              0   NaN        NaN  \n",
              "1              0   NaN        NaN  \n",
              "2              0   NaN        NaN  \n",
              "3              0   NaN        NaN  \n",
              "4              0   NaN        NaN  \n",
              "\n",
              "[5 rows x 29 columns]"
            ]
          },
          "metadata": {},
          "execution_count": 3
        }
      ],
      "source": [
        "filename = '/content/drive/MyDrive/Levels_Fyi_Salary_Data.csv'\n",
        "df = pd.read_csv(filename)\n",
        "\n",
        "\n",
        "print(f'Data table contains {df.shape[0]} rows and {df.shape[1]} columns')\n",
        "print('\\n')\n",
        "df.head()"
      ]
    },
    {
      "cell_type": "code",
      "execution_count": null,
      "metadata": {
        "colab": {
          "base_uri": "https://localhost:8080/"
        },
        "id": "BPJFWi5Ggugs",
        "outputId": "4edd3199-d1b2-4a4f-db4b-8da033957755"
      },
      "outputs": [
        {
          "output_type": "stream",
          "name": "stdout",
          "text": [
            "<class 'pandas.core.frame.DataFrame'>\n",
            "RangeIndex: 62642 entries, 0 to 62641\n",
            "Data columns (total 29 columns):\n",
            " #   Column                   Non-Null Count  Dtype  \n",
            "---  ------                   --------------  -----  \n",
            " 0   timestamp                62642 non-null  object \n",
            " 1   company                  62637 non-null  object \n",
            " 2   level                    62523 non-null  object \n",
            " 3   title                    62642 non-null  object \n",
            " 4   totalyearlycompensation  62642 non-null  int64  \n",
            " 5   location                 62642 non-null  object \n",
            " 6   yearsofexperience        62642 non-null  float64\n",
            " 7   yearsatcompany           62642 non-null  float64\n",
            " 8   tag                      61788 non-null  object \n",
            " 9   basesalary               62642 non-null  float64\n",
            " 10  stockgrantvalue          62642 non-null  float64\n",
            " 11  bonus                    62642 non-null  float64\n",
            " 12  gender                   43102 non-null  object \n",
            " 13  otherdetails             40137 non-null  object \n",
            " 14  cityid                   62642 non-null  int64  \n",
            " 15  dmaid                    62640 non-null  float64\n",
            " 16  rowNumber                62642 non-null  int64  \n",
            " 17  Masters_Degree           62642 non-null  int64  \n",
            " 18  Bachelors_Degree         62642 non-null  int64  \n",
            " 19  Doctorate_Degree         62642 non-null  int64  \n",
            " 20  Highschool               62642 non-null  int64  \n",
            " 21  Some_College             62642 non-null  int64  \n",
            " 22  Race_Asian               62642 non-null  int64  \n",
            " 23  Race_White               62642 non-null  int64  \n",
            " 24  Race_Two_Or_More         62642 non-null  int64  \n",
            " 25  Race_Black               62642 non-null  int64  \n",
            " 26  Race_Hispanic            62642 non-null  int64  \n",
            " 27  Race                     22427 non-null  object \n",
            " 28  Education                30370 non-null  object \n",
            "dtypes: float64(6), int64(13), object(10)\n",
            "memory usage: 13.9+ MB\n"
          ]
        }
      ],
      "source": [
        "df.info()"
      ]
    },
    {
      "cell_type": "markdown",
      "metadata": {
        "id": "-XdgV5EhB29v"
      },
      "source": [
        "|Column Names | Description of Data |\n",
        "|:--------|:--------------------|\n",
        "|timestamp| date that employee submitted data|\n",
        "|company| name of company where employee works|\n",
        "|level| level of seniority in position/job title|\n",
        "|title| job title|\n",
        "|totalyearlycompensation| total yearly earnings in usd|\n",
        "|location| location of the job|\n",
        "|yearsofexperience| number of years of experience employee has|\n",
        "|yearsatcompany| number of years with the company|\n",
        "|tag| metadata on skills|\n",
        "|basesalary| yearly earnings not including stocks or bonus|\n",
        "|stockgrantvalue| amount of stocks or grants earned in usd|\n",
        "|bonus| amount earned via bonus in usd|\n",
        "|otherdetails| contains metadata about employee|\n",
        "|cityid| ?|\n",
        "|dmaid| ? |\n",
        "|rowNumber| row number|\n",
        "|Masters_Degree| ohe* masters degree data, does this person have this degree, where 1 is yes and 0 is no|\n",
        "|Bachelors_Degree| ohe* bachelors degree data, does this person have this degree, where 1 is yes and 0 is no|\n",
        "|Doctorate_Degree| ohe* doctorate degree data, does this person have this degree, where 1 is yes and 0 is no|\n",
        "|Highschool| ohe* high school data, does this person have this level of education, where 1 is yes and 0 is no|\n",
        "|Some_College| ohe* some college data, does this person have this level of education, where 1 is yes and 0 is no|\n",
        "|Race_Asian| ohe* asian race data, does this person have idenitify as this race, if yes 1 if no 0|\n",
        "|Race_White| ohe* white race data, does this person have idenitify as this race, if yes 1 if no 0|\n",
        "|Race_Two_Or_More|ohe* two or more race data, does this person have idenitify as this race, if yes 1 if no 0|\n",
        "|Race_Black|ohe* black race data, does this person have idenitify as this race, if yes 1 if no 0|\n",
        "|Race_Hispanic|ohe* hispanic race data, does this person have idenitify as this race, if yes 1 if no 0|\n",
        "|Race| complete list of race data|\n",
        "|Education| complete list of education data|\n",
        "\n",
        "****ohe = one hot encoded***"
      ]
    },
    {
      "cell_type": "markdown",
      "metadata": {
        "id": "2BOOtDc1mULH"
      },
      "source": [
        "## **Hypothesis:** years of experience, years at company, education and gender would have strong correlations with and effects on base salary.\n",
        "\n"
      ]
    },
    {
      "cell_type": "markdown",
      "metadata": {
        "id": "XSG2HFqS_jK0"
      },
      "source": [
        "## **Goal of this Project:** use feature data and regression modeling  to predict base salary.\n",
        "\n"
      ]
    },
    {
      "cell_type": "markdown",
      "metadata": {
        "id": "trbwiHMWDz1z"
      },
      "source": [
        "## **Exploring the Contents of Data in Each Column**"
      ]
    },
    {
      "cell_type": "code",
      "execution_count": null,
      "metadata": {
        "colab": {
          "base_uri": "https://localhost:8080/"
        },
        "id": "Zprda6ZYHLvJ",
        "outputId": "ed4b18bd-5d55-4b6c-a1f0-87525c36a655"
      },
      "outputs": [
        {
          "output_type": "execute_result",
          "data": {
            "text/plain": [
              "Full Stack                        11382\n",
              "Distributed Systems (Back-End)    10838\n",
              "API Development (Back-End)         6277\n",
              "ML / AI                            4204\n",
              "Web Development (Front-End)        2971\n",
              "                                  ...  \n",
              "Public Policy                         1\n",
              "D&I                                   1\n",
              "TeleSales                             1\n",
              "Serverless                            1\n",
              "Industry Cloud                        1\n",
              "Name: tag, Length: 3058, dtype: int64"
            ]
          },
          "metadata": {},
          "execution_count": 5
        }
      ],
      "source": [
        "#contents of tag column\n",
        "df.tag.value_counts()"
      ]
    },
    {
      "cell_type": "markdown",
      "metadata": {
        "id": "Eyy6s2IlHahL"
      },
      "source": [
        "----------------\n",
        "- contains data about certain skills that the employee has\n",
        "---------------"
      ]
    },
    {
      "cell_type": "code",
      "execution_count": null,
      "metadata": {
        "colab": {
          "base_uri": "https://localhost:8080/"
        },
        "id": "SyQb2F0fHXKJ",
        "outputId": "b360e917-f44b-4396-d9e7-1d1aab243e75"
      },
      "outputs": [
        {
          "output_type": "execute_result",
          "data": {
            "text/plain": [
              "Masters                                                                                                                                3983\n",
              "Title: Software Engineer                                                                                                               1453\n",
              "Race: Asian, Academic Level: Master’s degree                                                                                           1213\n",
              "Race: White, Academic Level: Bachelor’s degree                                                                                         1075\n",
              "Race: Asian, Academic Level: Bachelor’s degree                                                                                          977\n",
              "                                                                                                                                       ... \n",
              "150,000 sign on, Title: Sr. Engineering Manager, Race: White, Academic Level: Doctorate (PhD)                                             1\n",
              "Title: Sde2, Race: Two or More Races, Academic Level: Doctorate (PhD)                                                                     1\n",
              "10k relocation, 20k sign in bonus, 35k RSU over 4 years, Title: Tech Lead, Race: Hispanic / Latino, Academic Level: Master’s degree       1\n",
              "Title: Pm 3                                                                                                                               1\n",
              "industry hire                                                                                                                             1\n",
              "Name: otherdetails, Length: 12841, dtype: int64"
            ]
          },
          "metadata": {},
          "execution_count": 6
        }
      ],
      "source": [
        "#contents of otherdetails\n",
        "df.otherdetails.value_counts()"
      ]
    },
    {
      "cell_type": "markdown",
      "metadata": {
        "id": "diKOph8bHnil"
      },
      "source": [
        "--------------\n",
        "- contains metadata, some rows include education, title, race\n",
        "- the data each row contains varies (12841 unique values)\n",
        "- this row contains data that is already in other columns therefore it can be dropped\n",
        "\n",
        "--------------\n",
        "\n"
      ]
    },
    {
      "cell_type": "code",
      "execution_count": null,
      "metadata": {
        "colab": {
          "base_uri": "https://localhost:8080/"
        },
        "id": "WQtAgwG_KPjZ",
        "outputId": "9c5d237c-5a26-4f1d-c954-c6f90587ae5e"
      },
      "outputs": [
        {
          "output_type": "execute_result",
          "data": {
            "text/plain": [
              "11527    8701\n",
              "7419     6796\n",
              "10182    4562\n",
              "11521    2649\n",
              "7322     2275\n",
              "         ... \n",
              "13149       1\n",
              "7786        1\n",
              "38771       1\n",
              "9509        1\n",
              "28230       1\n",
              "Name: cityid, Length: 1045, dtype: int64"
            ]
          },
          "metadata": {},
          "execution_count": 7
        }
      ],
      "source": [
        "df.cityid.value_counts()"
      ]
    },
    {
      "cell_type": "code",
      "execution_count": null,
      "metadata": {
        "colab": {
          "base_uri": "https://localhost:8080/"
        },
        "id": "KvEcPJWLKibN",
        "outputId": "6c63aa26-dce6-47cc-c214-6b4aeef13a53"
      },
      "outputs": [
        {
          "output_type": "execute_result",
          "data": {
            "text/plain": [
              "807.0    20400\n",
              "819.0    12343\n",
              "0.0       9826\n",
              "501.0     5156\n",
              "506.0     1773\n",
              "         ...  \n",
              "503.0        1\n",
              "687.0        1\n",
              "693.0        1\n",
              "651.0        1\n",
              "658.0        1\n",
              "Name: dmaid, Length: 149, dtype: int64"
            ]
          },
          "metadata": {},
          "execution_count": 8
        }
      ],
      "source": [
        "df.dmaid.value_counts()"
      ]
    },
    {
      "cell_type": "code",
      "execution_count": null,
      "metadata": {
        "colab": {
          "base_uri": "https://localhost:8080/"
        },
        "id": "bDFjSSzfKlHQ",
        "outputId": "bf2d5ef6-25ae-41d2-d910-3415535f1b21"
      },
      "outputs": [
        {
          "output_type": "execute_result",
          "data": {
            "text/plain": [
              "1        1\n",
              "57263    1\n",
              "57266    1\n",
              "57267    1\n",
              "57268    1\n",
              "        ..\n",
              "28494    1\n",
              "28495    1\n",
              "28496    1\n",
              "28497    1\n",
              "5424     1\n",
              "Name: rowNumber, Length: 62642, dtype: int64"
            ]
          },
          "metadata": {},
          "execution_count": 9
        }
      ],
      "source": [
        "df.rowNumber.value_counts()"
      ]
    },
    {
      "cell_type": "code",
      "execution_count": null,
      "metadata": {
        "colab": {
          "base_uri": "https://localhost:8080/"
        },
        "id": "JLbe6u1b7OgE",
        "outputId": "d11f82c2-1cea-449a-c836-e289c30851ab"
      },
      "outputs": [
        {
          "output_type": "execute_result",
          "data": {
            "text/plain": [
              "Male                               35702\n",
              "Female                              6999\n",
              "Other                                400\n",
              "Title: Senior Software Engineer        1\n",
              "Name: gender, dtype: int64"
            ]
          },
          "metadata": {},
          "execution_count": 10
        }
      ],
      "source": [
        "df.gender.value_counts()"
      ]
    },
    {
      "cell_type": "markdown",
      "metadata": {
        "id": "6Ggovyme3oN2"
      },
      "source": [
        " - incorrect value in gender column, will be imputed with mode/most frequent value in gender column"
      ]
    },
    {
      "cell_type": "code",
      "execution_count": null,
      "metadata": {
        "id": "JLEj9TtI77qi"
      },
      "outputs": [],
      "source": [
        "#for loop that find that incorrect record then replaces it with the most frequent\n",
        "#there's a break because there's only one of these values and a lot of data to loop through\n",
        "for i in range(0, len(df)):\n",
        "  gender_mode = df.gender.mode()[0]\n",
        "  if (df['gender'][i] == 'Title: Senior Software Engineer'):\n",
        "    df['gender'] = df['gender'].replace('Title: Senior Software Engineer',gender_mode)\n",
        "    break"
      ]
    },
    {
      "cell_type": "code",
      "execution_count": null,
      "metadata": {
        "colab": {
          "base_uri": "https://localhost:8080/"
        },
        "id": "1aoN1sGJ9wpn",
        "outputId": "f6ebceed-fd30-474a-f061-c7100b7a2e14"
      },
      "outputs": [
        {
          "output_type": "execute_result",
          "data": {
            "text/plain": [
              "Male      35703\n",
              "Female     6999\n",
              "Other       400\n",
              "Name: gender, dtype: int64"
            ]
          },
          "metadata": {},
          "execution_count": 12
        }
      ],
      "source": [
        "#to check that the loop worked correctly\n",
        "df.gender.value_counts()"
      ]
    },
    {
      "cell_type": "markdown",
      "metadata": {
        "id": "hPAlG8xnWvZG"
      },
      "source": [
        "## **Creating 2 DataFrames**\n",
        "\n",
        "- `df` - for machine learning modeling\n",
        "- `df2` - for data visualization and insight analysis, to prevent data leakage\n",
        "\n"
      ]
    },
    {
      "cell_type": "code",
      "execution_count": null,
      "metadata": {
        "id": "V6m88UoDaP3h"
      },
      "outputs": [],
      "source": [
        "df2 = df.drop(columns=['timestamp','totalyearlycompensation','tag','stockgrantvalue', \n",
        "                       'bonus','otherdetails', 'cityid', 'dmaid','rowNumber','Masters_Degree', \n",
        "                       'Bachelors_Degree', 'Doctorate_Degree','Highschool', 'Some_College', \n",
        "                       'Race_Asian', 'Race_White','Race_Two_Or_More', 'Race_Black', 'Race_Hispanic'])\n",
        "df = df2\n"
      ]
    },
    {
      "cell_type": "markdown",
      "metadata": {
        "id": "cT33oqUuFudp"
      },
      "source": [
        "## **Dropping Irelevent Data**\n",
        "\n",
        "I am specifically interested these columns...\n",
        "- `company`,`level`,`title`,`location`,`yearsofexperience`,`yearsatcompany`,`basesalary`,`Race`, `Education`\n",
        "\n",
        "\n",
        "`cityid`, `dmaid`,`timestamp`,`rowNumber` `otherdetails` columns don't contain info that i think will be impactful in predicting or relating to base salary\n",
        "\n",
        "`stockgrantvalue`,`bonus`, `totalyearlycompensation` are the other columms with compensation data, there was also some overlap with in these so they're going to be removed \n",
        "\n",
        "the one hot encode version of `Race` and `Education` columns are dropped bc they were created from columns with a lot of missing data. This is addressed by during the cleaning and preprocessing methods on `df` and `df2`.\n",
        "\n"
      ]
    },
    {
      "cell_type": "markdown",
      "metadata": {
        "id": "9jTj7C0Eg2ds"
      },
      "source": [
        "## **Cleaning `df2`** "
      ]
    },
    {
      "cell_type": "code",
      "execution_count": null,
      "metadata": {
        "colab": {
          "base_uri": "https://localhost:8080/",
          "height": 642
        },
        "id": "Vv7hrGvVgmm3",
        "outputId": "eca35452-ce95-4502-b373-a97a015b53f9"
      },
      "outputs": [
        {
          "output_type": "display_data",
          "data": {
            "image/png": "[encoded data removed]",
            "text/plain": [
              "<Figure size 864x576 with 3 Axes>"
            ]
          },
          "metadata": {
            "needs_background": "light"
          }
        }
      ],
      "source": [
        "#library for missing data graphics for df2\n",
        "import missingno as msno\n",
        "msno.bar(df2, figsize=(12,8));"
      ]
    },
    {
      "cell_type": "markdown",
      "metadata": {
        "id": "D9Vxhd72-FG5"
      },
      "source": [
        "> <mark>*graph gives a clear picture of which columns have missing data from df2 and how much data is missing*</mark>"
      ]
    },
    {
      "cell_type": "markdown",
      "metadata": {
        "id": "JI8z_Wt8oPDa"
      },
      "source": [
        "------------\n",
        "> ## **Missing Data**\n",
        "- **5** missing in `company` column\n",
        "  - can impute with mode\n",
        "- **119** missing in `level` column\n",
        "  - can impute with mode\n",
        "- **19540** missing in `gender` column\n",
        "  - can impute with mode\n",
        "- **40215** missing in `Race`column\n",
        "  - impute with mode and ohe\n",
        "- **32272** missing in `Education` column\n",
        " - impute with mode and ohe\n",
        "- technically there is missing `basesalary` column\n",
        "  - there are a number of `0` values which should be imputed with mean\n",
        "\n",
        "\n",
        "--------------"
      ]
    },
    {
      "cell_type": "code",
      "execution_count": null,
      "metadata": {
        "id": "AF8GgXbOxe6E"
      },
      "outputs": [],
      "source": [
        "#import machine learning libraries and methods\n",
        "from sklearn.compose import make_column_selector, make_column_transformer\n",
        "from sklearn.impute import SimpleImputer\n",
        "from sklearn.preprocessing import OneHotEncoder, StandardScaler\n",
        "from sklearn.pipeline import make_pipeline\n",
        "\n",
        "\n",
        "#number and category selectors\n",
        "num_selector = make_column_selector(dtype_include='number')\n",
        "cat_selector = make_column_selector(dtype_include='object')\n",
        "\n",
        "\n",
        "\n",
        "median_imputer = SimpleImputer(strategy='median')\n",
        "freq_imputer = SimpleImputer(strategy='most_frequent')\n",
        "\n",
        "#tuples for transformation\n",
        "num_tuple = (median_imputer, num_selector)\n",
        "cat_tuple = (freq_imputer, cat_selector)\n",
        "column_transformer = make_column_transformer(num_tuple, cat_tuple)"
      ]
    },
    {
      "cell_type": "code",
      "execution_count": null,
      "metadata": {
        "id": "6q1E0dWJzekq"
      },
      "outputs": [],
      "source": [
        "#use column transformer impute df2 columns with missing values\n",
        "columns = ['yearsofexperience','yearsatcompany','basesalary','company', 'level', 'title', 'location','gender', 'Race', 'Education']\n",
        "df3 = pd.DataFrame(column_transformer.fit_transform(df2), columns=columns)\n",
        "\n",
        "\n",
        "#create another dataframe where education and race are one hot encoded\n",
        "df4 = pd.get_dummies(df3[['Education','Race']])\n",
        "\n",
        "#concatonate df3 and df4 to recreate df2 that includes one hot encoded columns\n",
        "df2 = pd.concat([df3,df4],\n",
        "                axis=1,\n",
        "                join='inner')\n",
        "#change back to floats\n",
        "df2.yearsofexperience = df2.yearsofexperience.astype(float)\n",
        "df2.yearsatcompany = df2.yearsatcompany.astype(float)\n",
        "df2.basesalary = df2.basesalary.astype(float)\n"
      ]
    },
    {
      "cell_type": "code",
      "source": [
        "#imputing median basesalary,df2\n",
        "for i in range(0,len(df2)):\n",
        "  median_bs = df2.basesalary.median()\n",
        "  if (df2['basesalary'][i] == 0):\n",
        "    df2['basesalary'] = df2['basesalary'].replace(0,median_bs)"
      ],
      "metadata": {
        "id": "4ghfHePoXcq6"
      },
      "execution_count": null,
      "outputs": []
    },
    {
      "cell_type": "code",
      "source": [
        "#imputing median basesalary,df\n",
        "for i in range(0,len(df)):\n",
        "  median_bs = df.basesalary.median()\n",
        "  if (df['basesalary'][i] == 0):\n",
        "    df['basesalary'] = df['basesalary'].replace(0,median_bs)"
      ],
      "metadata": {
        "id": "22Q_jYhzfnoW"
      },
      "execution_count": null,
      "outputs": []
    },
    {
      "cell_type": "code",
      "source": [
        "df2.describe()"
      ],
      "metadata": {
        "colab": {
          "base_uri": "https://localhost:8080/"
        },
        "id": "7o7MltI7XWl-",
        "outputId": "85b850c1-995a-4674-efed-b0dcb75eaa9e"
      },
      "execution_count": null,
      "outputs": [
        {
          "output_type": "execute_result",
          "data": {
            "text/html": [
              "\n",
              "  <div id=\"df-598c0439-3e8b-410c-afa6-4c42cca27091\">\n",
              "    <div class=\"colab-df-container\">\n",
              "      <div>\n",
              "<style scoped>\n",
              "    .dataframe tbody tr th:only-of-type {\n",
              "        vertical-align: middle;\n",
              "    }\n",
              "\n",
              "    .dataframe tbody tr th {\n",
              "        vertical-align: top;\n",
              "    }\n",
              "\n",
              "    .dataframe thead th {\n",
              "        text-align: right;\n",
              "    }\n",
              "</style>\n",
              "<table border=\"1\" class=\"dataframe\">\n",
              "  <thead>\n",
              "    <tr style=\"text-align: right;\">\n",
              "      <th></th>\n",
              "      <th>yearsofexperience</th>\n",
              "      <th>yearsatcompany</th>\n",
              "      <th>basesalary</th>\n",
              "      <th>Education_Bachelor's Degree</th>\n",
              "      <th>Education_Highschool</th>\n",
              "      <th>Education_Master's Degree</th>\n",
              "      <th>Education_PhD</th>\n",
              "      <th>Education_Some College</th>\n",
              "      <th>Race_Asian</th>\n",
              "      <th>Race_Black</th>\n",
              "      <th>Race_Hispanic</th>\n",
              "      <th>Race_Two Or More</th>\n",
              "      <th>Race_White</th>\n",
              "    </tr>\n",
              "  </thead>\n",
              "  <tbody>\n",
              "    <tr>\n",
              "      <th>count</th>\n",
              "      <td>62642.000000</td>\n",
              "      <td>62642.000000</td>\n",
              "      <td>6.264200e+04</td>\n",
              "      <td>62642.000000</td>\n",
              "      <td>62642.000000</td>\n",
              "      <td>62642.000000</td>\n",
              "      <td>62642.000000</td>\n",
              "      <td>62642.000000</td>\n",
              "      <td>62642.000000</td>\n",
              "      <td>62642.000000</td>\n",
              "      <td>62642.000000</td>\n",
              "      <td>62642.000000</td>\n",
              "      <td>62642.000000</td>\n",
              "    </tr>\n",
              "    <tr>\n",
              "      <th>mean</th>\n",
              "      <td>7.204135</td>\n",
              "      <td>2.702093</td>\n",
              "      <td>1.418365e+05</td>\n",
              "      <td>0.201159</td>\n",
              "      <td>0.005108</td>\n",
              "      <td>0.760879</td>\n",
              "      <td>0.027186</td>\n",
              "      <td>0.005667</td>\n",
              "      <td>0.829906</td>\n",
              "      <td>0.011015</td>\n",
              "      <td>0.018023</td>\n",
              "      <td>0.012835</td>\n",
              "      <td>0.128221</td>\n",
              "    </tr>\n",
              "    <tr>\n",
              "      <th>std</th>\n",
              "      <td>5.840375</td>\n",
              "      <td>3.263656</td>\n",
              "      <td>5.525289e+04</td>\n",
              "      <td>0.400870</td>\n",
              "      <td>0.071291</td>\n",
              "      <td>0.426550</td>\n",
              "      <td>0.162627</td>\n",
              "      <td>0.075067</td>\n",
              "      <td>0.375718</td>\n",
              "      <td>0.104373</td>\n",
              "      <td>0.133036</td>\n",
              "      <td>0.112562</td>\n",
              "      <td>0.334338</td>\n",
              "    </tr>\n",
              "    <tr>\n",
              "      <th>min</th>\n",
              "      <td>0.000000</td>\n",
              "      <td>0.000000</td>\n",
              "      <td>1.000000e+03</td>\n",
              "      <td>0.000000</td>\n",
              "      <td>0.000000</td>\n",
              "      <td>0.000000</td>\n",
              "      <td>0.000000</td>\n",
              "      <td>0.000000</td>\n",
              "      <td>0.000000</td>\n",
              "      <td>0.000000</td>\n",
              "      <td>0.000000</td>\n",
              "      <td>0.000000</td>\n",
              "      <td>0.000000</td>\n",
              "    </tr>\n",
              "    <tr>\n",
              "      <th>25%</th>\n",
              "      <td>3.000000</td>\n",
              "      <td>0.000000</td>\n",
              "      <td>1.120000e+05</td>\n",
              "      <td>0.000000</td>\n",
              "      <td>0.000000</td>\n",
              "      <td>1.000000</td>\n",
              "      <td>0.000000</td>\n",
              "      <td>0.000000</td>\n",
              "      <td>1.000000</td>\n",
              "      <td>0.000000</td>\n",
              "      <td>0.000000</td>\n",
              "      <td>0.000000</td>\n",
              "      <td>0.000000</td>\n",
              "    </tr>\n",
              "    <tr>\n",
              "      <th>50%</th>\n",
              "      <td>6.000000</td>\n",
              "      <td>2.000000</td>\n",
              "      <td>1.400000e+05</td>\n",
              "      <td>0.000000</td>\n",
              "      <td>0.000000</td>\n",
              "      <td>1.000000</td>\n",
              "      <td>0.000000</td>\n",
              "      <td>0.000000</td>\n",
              "      <td>1.000000</td>\n",
              "      <td>0.000000</td>\n",
              "      <td>0.000000</td>\n",
              "      <td>0.000000</td>\n",
              "      <td>0.000000</td>\n",
              "    </tr>\n",
              "    <tr>\n",
              "      <th>75%</th>\n",
              "      <td>10.000000</td>\n",
              "      <td>4.000000</td>\n",
              "      <td>1.700000e+05</td>\n",
              "      <td>0.000000</td>\n",
              "      <td>0.000000</td>\n",
              "      <td>1.000000</td>\n",
              "      <td>0.000000</td>\n",
              "      <td>0.000000</td>\n",
              "      <td>1.000000</td>\n",
              "      <td>0.000000</td>\n",
              "      <td>0.000000</td>\n",
              "      <td>0.000000</td>\n",
              "      <td>0.000000</td>\n",
              "    </tr>\n",
              "    <tr>\n",
              "      <th>max</th>\n",
              "      <td>69.000000</td>\n",
              "      <td>69.000000</td>\n",
              "      <td>1.659870e+06</td>\n",
              "      <td>1.000000</td>\n",
              "      <td>1.000000</td>\n",
              "      <td>1.000000</td>\n",
              "      <td>1.000000</td>\n",
              "      <td>1.000000</td>\n",
              "      <td>1.000000</td>\n",
              "      <td>1.000000</td>\n",
              "      <td>1.000000</td>\n",
              "      <td>1.000000</td>\n",
              "      <td>1.000000</td>\n",
              "    </tr>\n",
              "  </tbody>\n",
              "</table>\n",
              "</div>\n",
              "      <button class=\"colab-df-convert\" onclick=\"convertToInteractive('df-598c0439-3e8b-410c-afa6-4c42cca27091')\"\n",
              "              title=\"Convert this dataframe to an interactive table.\"\n",
              "              style=\"display:none;\">\n",
              "        \n",
              "  <svg xmlns=\"http://www.w3.org/2000/svg\" height=\"24px\"viewBox=\"0 0 24 24\"\n",
              "       width=\"24px\">\n",
              "    <path d=\"M0 0h24v24H0V0z\" fill=\"none\"/>\n",
              "    <path d=\"M18.56 5.44l.94 2.06.94-2.06 2.06-.94-2.06-.94-.94-2.06-.94 2.06-2.06.94zm-11 1L8.5 8.5l.94-2.06 2.06-.94-2.06-.94L8.5 2.5l-.94 2.06-2.06.94zm10 10l.94 2.06.94-2.06 2.06-.94-2.06-.94-.94-2.06-.94 2.06-2.06.94z\"/><path d=\"M17.41 7.96l-1.37-1.37c-.4-.4-.92-.59-1.43-.59-.52 0-1.04.2-1.43.59L10.3 9.45l-7.72 7.72c-.78.78-.78 2.05 0 2.83L4 21.41c.39.39.9.59 1.41.59.51 0 1.02-.2 1.41-.59l7.78-7.78 2.81-2.81c.8-.78.8-2.07 0-2.86zM5.41 20L4 18.59l7.72-7.72 1.47 1.35L5.41 20z\"/>\n",
              "  </svg>\n",
              "      </button>\n",
              "      \n",
              "  <style>\n",
              "    .colab-df-container {\n",
              "      display:flex;\n",
              "      flex-wrap:wrap;\n",
              "      gap: 12px;\n",
              "    }\n",
              "\n",
              "    .colab-df-convert {\n",
              "      background-color: #E8F0FE;\n",
              "      border: none;\n",
              "      border-radius: 50%;\n",
              "      cursor: pointer;\n",
              "      display: none;\n",
              "      fill: #1967D2;\n",
              "      height: 32px;\n",
              "      padding: 0 0 0 0;\n",
              "      width: 32px;\n",
              "    }\n",
              "\n",
              "    .colab-df-convert:hover {\n",
              "      background-color: #E2EBFA;\n",
              "      box-shadow: 0px 1px 2px rgba(60, 64, 67, 0.3), 0px 1px 3px 1px rgba(60, 64, 67, 0.15);\n",
              "      fill: #174EA6;\n",
              "    }\n",
              "\n",
              "    [theme=dark] .colab-df-convert {\n",
              "      background-color: #3B4455;\n",
              "      fill: #D2E3FC;\n",
              "    }\n",
              "\n",
              "    [theme=dark] .colab-df-convert:hover {\n",
              "      background-color: #434B5C;\n",
              "      box-shadow: 0px 1px 3px 1px rgba(0, 0, 0, 0.15);\n",
              "      filter: drop-shadow(0px 1px 2px rgba(0, 0, 0, 0.3));\n",
              "      fill: #FFFFFF;\n",
              "    }\n",
              "  </style>\n",
              "\n",
              "      <script>\n",
              "        const buttonEl =\n",
              "          document.querySelector('#df-598c0439-3e8b-410c-afa6-4c42cca27091 button.colab-df-convert');\n",
              "        buttonEl.style.display =\n",
              "          google.colab.kernel.accessAllowed ? 'block' : 'none';\n",
              "\n",
              "        async function convertToInteractive(key) {\n",
              "          const element = document.querySelector('#df-598c0439-3e8b-410c-afa6-4c42cca27091');\n",
              "          const dataTable =\n",
              "            await google.colab.kernel.invokeFunction('convertToInteractive',\n",
              "                                                     [key], {});\n",
              "          if (!dataTable) return;\n",
              "\n",
              "          const docLinkHtml = 'Like what you see? Visit the ' +\n",
              "            '<a target=\"_blank\" href=https://colab.research.google.com/notebooks/data_table.ipynb>data table notebook</a>'\n",
              "            + ' to learn more about interactive tables.';\n",
              "          element.innerHTML = '';\n",
              "          dataTable['output_type'] = 'display_data';\n",
              "          await google.colab.output.renderOutput(dataTable, element);\n",
              "          const docLink = document.createElement('div');\n",
              "          docLink.innerHTML = docLinkHtml;\n",
              "          element.appendChild(docLink);\n",
              "        }\n",
              "      </script>\n",
              "    </div>\n",
              "  </div>\n",
              "  "
            ],
            "text/plain": [
              "       yearsofexperience  yearsatcompany    basesalary  \\\n",
              "count       62642.000000    62642.000000  6.264200e+04   \n",
              "mean            7.204135        2.702093  1.418365e+05   \n",
              "std             5.840375        3.263656  5.525289e+04   \n",
              "min             0.000000        0.000000  1.000000e+03   \n",
              "25%             3.000000        0.000000  1.120000e+05   \n",
              "50%             6.000000        2.000000  1.400000e+05   \n",
              "75%            10.000000        4.000000  1.700000e+05   \n",
              "max            69.000000       69.000000  1.659870e+06   \n",
              "\n",
              "       Education_Bachelor's Degree  Education_Highschool  \\\n",
              "count                 62642.000000          62642.000000   \n",
              "mean                      0.201159              0.005108   \n",
              "std                       0.400870              0.071291   \n",
              "min                       0.000000              0.000000   \n",
              "25%                       0.000000              0.000000   \n",
              "50%                       0.000000              0.000000   \n",
              "75%                       0.000000              0.000000   \n",
              "max                       1.000000              1.000000   \n",
              "\n",
              "       Education_Master's Degree  Education_PhD  Education_Some College  \\\n",
              "count               62642.000000   62642.000000            62642.000000   \n",
              "mean                    0.760879       0.027186                0.005667   \n",
              "std                     0.426550       0.162627                0.075067   \n",
              "min                     0.000000       0.000000                0.000000   \n",
              "25%                     1.000000       0.000000                0.000000   \n",
              "50%                     1.000000       0.000000                0.000000   \n",
              "75%                     1.000000       0.000000                0.000000   \n",
              "max                     1.000000       1.000000                1.000000   \n",
              "\n",
              "         Race_Asian    Race_Black  Race_Hispanic  Race_Two Or More  \\\n",
              "count  62642.000000  62642.000000   62642.000000      62642.000000   \n",
              "mean       0.829906      0.011015       0.018023          0.012835   \n",
              "std        0.375718      0.104373       0.133036          0.112562   \n",
              "min        0.000000      0.000000       0.000000          0.000000   \n",
              "25%        1.000000      0.000000       0.000000          0.000000   \n",
              "50%        1.000000      0.000000       0.000000          0.000000   \n",
              "75%        1.000000      0.000000       0.000000          0.000000   \n",
              "max        1.000000      1.000000       1.000000          1.000000   \n",
              "\n",
              "         Race_White  \n",
              "count  62642.000000  \n",
              "mean       0.128221  \n",
              "std        0.334338  \n",
              "min        0.000000  \n",
              "25%        0.000000  \n",
              "50%        0.000000  \n",
              "75%        0.000000  \n",
              "max        1.000000  "
            ]
          },
          "metadata": {},
          "execution_count": 19
        }
      ]
    },
    {
      "cell_type": "code",
      "source": [
        "df.describe()"
      ],
      "metadata": {
        "colab": {
          "base_uri": "https://localhost:8080/"
        },
        "id": "RrDqqGAwf2n9",
        "outputId": "afe62bfd-0e1a-4eb0-f763-931831e0b99a"
      },
      "execution_count": null,
      "outputs": [
        {
          "output_type": "execute_result",
          "data": {
            "text/html": [
              "\n",
              "  <div id=\"df-d551d514-2e39-4181-aa99-99e4d6bbab01\">\n",
              "    <div class=\"colab-df-container\">\n",
              "      <div>\n",
              "<style scoped>\n",
              "    .dataframe tbody tr th:only-of-type {\n",
              "        vertical-align: middle;\n",
              "    }\n",
              "\n",
              "    .dataframe tbody tr th {\n",
              "        vertical-align: top;\n",
              "    }\n",
              "\n",
              "    .dataframe thead th {\n",
              "        text-align: right;\n",
              "    }\n",
              "</style>\n",
              "<table border=\"1\" class=\"dataframe\">\n",
              "  <thead>\n",
              "    <tr style=\"text-align: right;\">\n",
              "      <th></th>\n",
              "      <th>yearsofexperience</th>\n",
              "      <th>yearsatcompany</th>\n",
              "      <th>basesalary</th>\n",
              "    </tr>\n",
              "  </thead>\n",
              "  <tbody>\n",
              "    <tr>\n",
              "      <th>count</th>\n",
              "      <td>62642.000000</td>\n",
              "      <td>62642.000000</td>\n",
              "      <td>6.264200e+04</td>\n",
              "    </tr>\n",
              "    <tr>\n",
              "      <th>mean</th>\n",
              "      <td>7.204135</td>\n",
              "      <td>2.702093</td>\n",
              "      <td>1.418365e+05</td>\n",
              "    </tr>\n",
              "    <tr>\n",
              "      <th>std</th>\n",
              "      <td>5.840375</td>\n",
              "      <td>3.263656</td>\n",
              "      <td>5.525289e+04</td>\n",
              "    </tr>\n",
              "    <tr>\n",
              "      <th>min</th>\n",
              "      <td>0.000000</td>\n",
              "      <td>0.000000</td>\n",
              "      <td>1.000000e+03</td>\n",
              "    </tr>\n",
              "    <tr>\n",
              "      <th>25%</th>\n",
              "      <td>3.000000</td>\n",
              "      <td>0.000000</td>\n",
              "      <td>1.120000e+05</td>\n",
              "    </tr>\n",
              "    <tr>\n",
              "      <th>50%</th>\n",
              "      <td>6.000000</td>\n",
              "      <td>2.000000</td>\n",
              "      <td>1.400000e+05</td>\n",
              "    </tr>\n",
              "    <tr>\n",
              "      <th>75%</th>\n",
              "      <td>10.000000</td>\n",
              "      <td>4.000000</td>\n",
              "      <td>1.700000e+05</td>\n",
              "    </tr>\n",
              "    <tr>\n",
              "      <th>max</th>\n",
              "      <td>69.000000</td>\n",
              "      <td>69.000000</td>\n",
              "      <td>1.659870e+06</td>\n",
              "    </tr>\n",
              "  </tbody>\n",
              "</table>\n",
              "</div>\n",
              "      <button class=\"colab-df-convert\" onclick=\"convertToInteractive('df-d551d514-2e39-4181-aa99-99e4d6bbab01')\"\n",
              "              title=\"Convert this dataframe to an interactive table.\"\n",
              "              style=\"display:none;\">\n",
              "        \n",
              "  <svg xmlns=\"http://www.w3.org/2000/svg\" height=\"24px\"viewBox=\"0 0 24 24\"\n",
              "       width=\"24px\">\n",
              "    <path d=\"M0 0h24v24H0V0z\" fill=\"none\"/>\n",
              "    <path d=\"M18.56 5.44l.94 2.06.94-2.06 2.06-.94-2.06-.94-.94-2.06-.94 2.06-2.06.94zm-11 1L8.5 8.5l.94-2.06 2.06-.94-2.06-.94L8.5 2.5l-.94 2.06-2.06.94zm10 10l.94 2.06.94-2.06 2.06-.94-2.06-.94-.94-2.06-.94 2.06-2.06.94z\"/><path d=\"M17.41 7.96l-1.37-1.37c-.4-.4-.92-.59-1.43-.59-.52 0-1.04.2-1.43.59L10.3 9.45l-7.72 7.72c-.78.78-.78 2.05 0 2.83L4 21.41c.39.39.9.59 1.41.59.51 0 1.02-.2 1.41-.59l7.78-7.78 2.81-2.81c.8-.78.8-2.07 0-2.86zM5.41 20L4 18.59l7.72-7.72 1.47 1.35L5.41 20z\"/>\n",
              "  </svg>\n",
              "      </button>\n",
              "      \n",
              "  <style>\n",
              "    .colab-df-container {\n",
              "      display:flex;\n",
              "      flex-wrap:wrap;\n",
              "      gap: 12px;\n",
              "    }\n",
              "\n",
              "    .colab-df-convert {\n",
              "      background-color: #E8F0FE;\n",
              "      border: none;\n",
              "      border-radius: 50%;\n",
              "      cursor: pointer;\n",
              "      display: none;\n",
              "      fill: #1967D2;\n",
              "      height: 32px;\n",
              "      padding: 0 0 0 0;\n",
              "      width: 32px;\n",
              "    }\n",
              "\n",
              "    .colab-df-convert:hover {\n",
              "      background-color: #E2EBFA;\n",
              "      box-shadow: 0px 1px 2px rgba(60, 64, 67, 0.3), 0px 1px 3px 1px rgba(60, 64, 67, 0.15);\n",
              "      fill: #174EA6;\n",
              "    }\n",
              "\n",
              "    [theme=dark] .colab-df-convert {\n",
              "      background-color: #3B4455;\n",
              "      fill: #D2E3FC;\n",
              "    }\n",
              "\n",
              "    [theme=dark] .colab-df-convert:hover {\n",
              "      background-color: #434B5C;\n",
              "      box-shadow: 0px 1px 3px 1px rgba(0, 0, 0, 0.15);\n",
              "      filter: drop-shadow(0px 1px 2px rgba(0, 0, 0, 0.3));\n",
              "      fill: #FFFFFF;\n",
              "    }\n",
              "  </style>\n",
              "\n",
              "      <script>\n",
              "        const buttonEl =\n",
              "          document.querySelector('#df-d551d514-2e39-4181-aa99-99e4d6bbab01 button.colab-df-convert');\n",
              "        buttonEl.style.display =\n",
              "          google.colab.kernel.accessAllowed ? 'block' : 'none';\n",
              "\n",
              "        async function convertToInteractive(key) {\n",
              "          const element = document.querySelector('#df-d551d514-2e39-4181-aa99-99e4d6bbab01');\n",
              "          const dataTable =\n",
              "            await google.colab.kernel.invokeFunction('convertToInteractive',\n",
              "                                                     [key], {});\n",
              "          if (!dataTable) return;\n",
              "\n",
              "          const docLinkHtml = 'Like what you see? Visit the ' +\n",
              "            '<a target=\"_blank\" href=https://colab.research.google.com/notebooks/data_table.ipynb>data table notebook</a>'\n",
              "            + ' to learn more about interactive tables.';\n",
              "          element.innerHTML = '';\n",
              "          dataTable['output_type'] = 'display_data';\n",
              "          await google.colab.output.renderOutput(dataTable, element);\n",
              "          const docLink = document.createElement('div');\n",
              "          docLink.innerHTML = docLinkHtml;\n",
              "          element.appendChild(docLink);\n",
              "        }\n",
              "      </script>\n",
              "    </div>\n",
              "  </div>\n",
              "  "
            ],
            "text/plain": [
              "       yearsofexperience  yearsatcompany    basesalary\n",
              "count       62642.000000    62642.000000  6.264200e+04\n",
              "mean            7.204135        2.702093  1.418365e+05\n",
              "std             5.840375        3.263656  5.525289e+04\n",
              "min             0.000000        0.000000  1.000000e+03\n",
              "25%             3.000000        0.000000  1.120000e+05\n",
              "50%             6.000000        2.000000  1.400000e+05\n",
              "75%            10.000000        4.000000  1.700000e+05\n",
              "max            69.000000       69.000000  1.659870e+06"
            ]
          },
          "metadata": {},
          "execution_count": 20
        }
      ]
    },
    {
      "cell_type": "code",
      "execution_count": null,
      "metadata": {
        "colab": {
          "base_uri": "https://localhost:8080/"
        },
        "id": "h9mH6-m7oGrQ",
        "outputId": "7a4b8aa6-a085-4daa-ff81-336e4439dd04"
      },
      "outputs": [
        {
          "output_type": "stream",
          "name": "stdout",
          "text": [
            "<class 'pandas.core.frame.DataFrame'>\n",
            "RangeIndex: 62642 entries, 0 to 62641\n",
            "Data columns (total 20 columns):\n",
            " #   Column                       Non-Null Count  Dtype  \n",
            "---  ------                       --------------  -----  \n",
            " 0   yearsofexperience            62642 non-null  float64\n",
            " 1   yearsatcompany               62642 non-null  float64\n",
            " 2   basesalary                   62642 non-null  float64\n",
            " 3   company                      62642 non-null  object \n",
            " 4   level                        62642 non-null  object \n",
            " 5   title                        62642 non-null  object \n",
            " 6   location                     62642 non-null  object \n",
            " 7   gender                       62642 non-null  object \n",
            " 8   Race                         62642 non-null  object \n",
            " 9   Education                    62642 non-null  object \n",
            " 10  Education_Bachelor's Degree  62642 non-null  uint8  \n",
            " 11  Education_Highschool         62642 non-null  uint8  \n",
            " 12  Education_Master's Degree    62642 non-null  uint8  \n",
            " 13  Education_PhD                62642 non-null  uint8  \n",
            " 14  Education_Some College       62642 non-null  uint8  \n",
            " 15  Race_Asian                   62642 non-null  uint8  \n",
            " 16  Race_Black                   62642 non-null  uint8  \n",
            " 17  Race_Hispanic                62642 non-null  uint8  \n",
            " 18  Race_Two Or More             62642 non-null  uint8  \n",
            " 19  Race_White                   62642 non-null  uint8  \n",
            "dtypes: float64(3), object(7), uint8(10)\n",
            "memory usage: 5.4+ MB\n"
          ]
        }
      ],
      "source": [
        "df2.info()"
      ]
    },
    {
      "cell_type": "markdown",
      "metadata": {
        "id": "2B2Yoizm06je"
      },
      "source": [
        "## **Duplicated Data**"
      ]
    },
    {
      "cell_type": "markdown",
      "metadata": {
        "id": "z4b5uPZVDwPZ"
      },
      "source": [
        "> ### `df`"
      ]
    },
    {
      "cell_type": "code",
      "execution_count": null,
      "metadata": {
        "colab": {
          "base_uri": "https://localhost:8080/"
        },
        "id": "ldUXqzhMEE4G",
        "outputId": "bd29ab08-f6c4-40a7-ec23-745df68e1611"
      },
      "outputs": [
        {
          "output_type": "stream",
          "name": "stdout",
          "text": [
            "2101 duplicates\n"
          ]
        }
      ],
      "source": [
        "print(f'{df.duplicated().sum()} duplicates')"
      ]
    },
    {
      "cell_type": "code",
      "execution_count": null,
      "metadata": {
        "id": "lc2PLrNtEHu5"
      },
      "outputs": [],
      "source": [
        "df = df.drop_duplicates()"
      ]
    },
    {
      "cell_type": "code",
      "execution_count": null,
      "metadata": {
        "colab": {
          "base_uri": "https://localhost:8080/"
        },
        "id": "wHaqJPmEEO4J",
        "outputId": "35dea2d1-23b4-4cee-93b6-8d4de9dc6767"
      },
      "outputs": [
        {
          "output_type": "stream",
          "name": "stdout",
          "text": [
            "Now there are 0 duplicates\n"
          ]
        }
      ],
      "source": [
        "print(f'Now there are {df.duplicated().sum()} duplicates')"
      ]
    },
    {
      "cell_type": "markdown",
      "metadata": {
        "id": "xpJCAXgED8Rn"
      },
      "source": [
        "> ### `df2`"
      ]
    },
    {
      "cell_type": "code",
      "execution_count": null,
      "metadata": {
        "colab": {
          "base_uri": "https://localhost:8080/"
        },
        "id": "PvhXZFlq1n5J",
        "outputId": "9e9c91b5-2238-4800-e9ac-cf20fdb5f457"
      },
      "outputs": [
        {
          "output_type": "stream",
          "name": "stdout",
          "text": [
            "3304 duplicates\n"
          ]
        }
      ],
      "source": [
        "print(f'{df2.duplicated().sum()} duplicates')"
      ]
    },
    {
      "cell_type": "code",
      "execution_count": null,
      "metadata": {
        "id": "r0yg4Xlt4syx"
      },
      "outputs": [],
      "source": [
        "df2 = df2.drop_duplicates()"
      ]
    },
    {
      "cell_type": "code",
      "execution_count": null,
      "metadata": {
        "colab": {
          "base_uri": "https://localhost:8080/"
        },
        "id": "_tYMsRVp2GtN",
        "outputId": "6137b726-ee5d-44db-f9a1-b49c2022fee1"
      },
      "outputs": [
        {
          "output_type": "stream",
          "name": "stdout",
          "text": [
            "Now there are 0 duplicates\n"
          ]
        }
      ],
      "source": [
        "print(f'Now there are {df2.duplicated().sum()} duplicates')"
      ]
    },
    {
      "cell_type": "code",
      "execution_count": null,
      "metadata": {
        "colab": {
          "base_uri": "https://localhost:8080/"
        },
        "id": "NCGzuNZIhZhp",
        "outputId": "40b6350f-281c-4d6e-a0af-d51255d0e0b5"
      },
      "outputs": [
        {
          "output_type": "stream",
          "name": "stdout",
          "text": [
            "<class 'pandas.core.frame.DataFrame'>\n",
            "Int64Index: 59338 entries, 0 to 62641\n",
            "Data columns (total 20 columns):\n",
            " #   Column                       Non-Null Count  Dtype  \n",
            "---  ------                       --------------  -----  \n",
            " 0   yearsofexperience            59338 non-null  float64\n",
            " 1   yearsatcompany               59338 non-null  float64\n",
            " 2   basesalary                   59338 non-null  float64\n",
            " 3   company                      59338 non-null  object \n",
            " 4   level                        59338 non-null  object \n",
            " 5   title                        59338 non-null  object \n",
            " 6   location                     59338 non-null  object \n",
            " 7   gender                       59338 non-null  object \n",
            " 8   Race                         59338 non-null  object \n",
            " 9   Education                    59338 non-null  object \n",
            " 10  Education_Bachelor's Degree  59338 non-null  uint8  \n",
            " 11  Education_Highschool         59338 non-null  uint8  \n",
            " 12  Education_Master's Degree    59338 non-null  uint8  \n",
            " 13  Education_PhD                59338 non-null  uint8  \n",
            " 14  Education_Some College       59338 non-null  uint8  \n",
            " 15  Race_Asian                   59338 non-null  uint8  \n",
            " 16  Race_Black                   59338 non-null  uint8  \n",
            " 17  Race_Hispanic                59338 non-null  uint8  \n",
            " 18  Race_Two Or More             59338 non-null  uint8  \n",
            " 19  Race_White                   59338 non-null  uint8  \n",
            "dtypes: float64(3), object(7), uint8(10)\n",
            "memory usage: 5.5+ MB\n"
          ]
        }
      ],
      "source": [
        "df2.info()"
      ]
    },
    {
      "cell_type": "markdown",
      "metadata": {
        "id": "kONCZzU1_QF2"
      },
      "source": [
        "## **Exploratory Data Visualizations using `df2` Data**\n",
        "\n",
        "\n",
        "\n"
      ]
    },
    {
      "cell_type": "code",
      "execution_count": null,
      "metadata": {
        "id": "fqR1I9iHCZQW"
      },
      "outputs": [],
      "source": [
        "#import visual libraries\n",
        "import matplotlib.pyplot as plt\n",
        "import seaborn as sns"
      ]
    },
    {
      "cell_type": "code",
      "execution_count": null,
      "metadata": {
        "colab": {
          "base_uri": "https://localhost:8080/",
          "height": 546
        },
        "id": "X3Hq61TTqm8G",
        "outputId": "e7e936f9-5fd7-4426-dbb1-326b1fc24dae"
      },
      "outputs": [
        {
          "output_type": "execute_result",
          "data": {
            "text/html": [
              "<style type=\"text/css\">\n",
              "#T_fd0fd_row0_col0, #T_fd0fd_row1_col1, #T_fd0fd_row2_col2, #T_fd0fd_row3_col3, #T_fd0fd_row4_col4, #T_fd0fd_row5_col5, #T_fd0fd_row6_col6, #T_fd0fd_row7_col7, #T_fd0fd_row8_col8, #T_fd0fd_row9_col9, #T_fd0fd_row10_col10, #T_fd0fd_row11_col11, #T_fd0fd_row12_col12 {\n",
              "  background-color: #023858;\n",
              "  color: #f1f1f1;\n",
              "}\n",
              "#T_fd0fd_row0_col1, #T_fd0fd_row11_col3 {\n",
              "  background-color: #65a3cb;\n",
              "  color: #f1f1f1;\n",
              "}\n",
              "#T_fd0fd_row0_col2 {\n",
              "  background-color: #73a9cf;\n",
              "  color: #f1f1f1;\n",
              "}\n",
              "#T_fd0fd_row0_col3, #T_fd0fd_row6_col3, #T_fd0fd_row10_col12 {\n",
              "  background-color: #91b5d6;\n",
              "  color: #000000;\n",
              "}\n",
              "#T_fd0fd_row0_col4, #T_fd0fd_row2_col7, #T_fd0fd_row9_col2, #T_fd0fd_row10_col2 {\n",
              "  background-color: #ede7f2;\n",
              "  color: #000000;\n",
              "}\n",
              "#T_fd0fd_row0_col5 {\n",
              "  background-color: #6fa7ce;\n",
              "  color: #f1f1f1;\n",
              "}\n",
              "#T_fd0fd_row0_col6, #T_fd0fd_row1_col10, #T_fd0fd_row4_col6, #T_fd0fd_row4_col11, #T_fd0fd_row7_col6 {\n",
              "  background-color: #d7d6e9;\n",
              "  color: #000000;\n",
              "}\n",
              "#T_fd0fd_row0_col7, #T_fd0fd_row9_col7, #T_fd0fd_row12_col9 {\n",
              "  background-color: #e6e2ef;\n",
              "  color: #000000;\n",
              "}\n",
              "#T_fd0fd_row0_col8 {\n",
              "  background-color: #8cb3d5;\n",
              "  color: #000000;\n",
              "}\n",
              "#T_fd0fd_row0_col9, #T_fd0fd_row8_col2 {\n",
              "  background-color: #e3e0ee;\n",
              "  color: #000000;\n",
              "}\n",
              "#T_fd0fd_row0_col10, #T_fd0fd_row6_col2, #T_fd0fd_row9_col6 {\n",
              "  background-color: #d6d6e9;\n",
              "  color: #000000;\n",
              "}\n",
              "#T_fd0fd_row0_col11, #T_fd0fd_row1_col11, #T_fd0fd_row10_col11 {\n",
              "  background-color: #dfddec;\n",
              "  color: #000000;\n",
              "}\n",
              "#T_fd0fd_row0_col12, #T_fd0fd_row1_col5 {\n",
              "  background-color: #78abd0;\n",
              "  color: #f1f1f1;\n",
              "}\n",
              "#T_fd0fd_row1_col0 {\n",
              "  background-color: #5a9ec9;\n",
              "  color: #f1f1f1;\n",
              "}\n",
              "#T_fd0fd_row1_col2 {\n",
              "  background-color: #c2cbe2;\n",
              "  color: #000000;\n",
              "}\n",
              "#T_fd0fd_row1_col3 {\n",
              "  background-color: #86b0d3;\n",
              "  color: #000000;\n",
              "}\n",
              "#T_fd0fd_row1_col4, #T_fd0fd_row7_col0, #T_fd0fd_row7_col4 {\n",
              "  background-color: #efe9f3;\n",
              "  color: #000000;\n",
              "}\n",
              "#T_fd0fd_row1_col6, #T_fd0fd_row7_col11, #T_fd0fd_row11_col6, #T_fd0fd_row12_col7 {\n",
              "  background-color: #d5d5e8;\n",
              "  color: #000000;\n",
              "}\n",
              "#T_fd0fd_row1_col7, #T_fd0fd_row4_col2, #T_fd0fd_row9_col4, #T_fd0fd_row12_col0 {\n",
              "  background-color: #ece7f2;\n",
              "  color: #000000;\n",
              "}\n",
              "#T_fd0fd_row1_col8 {\n",
              "  background-color: #89b1d4;\n",
              "  color: #000000;\n",
              "}\n",
              "#T_fd0fd_row1_col9, #T_fd0fd_row3_col6, #T_fd0fd_row12_col11 {\n",
              "  background-color: #e4e1ef;\n",
              "  color: #000000;\n",
              "}\n",
              "#T_fd0fd_row1_col12, #T_fd0fd_row6_col12 {\n",
              "  background-color: #7bacd1;\n",
              "  color: #f1f1f1;\n",
              "}\n",
              "#T_fd0fd_row2_col0 {\n",
              "  background-color: #81aed2;\n",
              "  color: #f1f1f1;\n",
              "}\n",
              "#T_fd0fd_row2_col1, #T_fd0fd_row4_col9, #T_fd0fd_row6_col11 {\n",
              "  background-color: #dbdaeb;\n",
              "  color: #000000;\n",
              "}\n",
              "#T_fd0fd_row2_col3 {\n",
              "  background-color: #a2bcda;\n",
              "  color: #000000;\n",
              "}\n",
              "#T_fd0fd_row2_col4, #T_fd0fd_row5_col9, #T_fd0fd_row6_col4 {\n",
              "  background-color: #f0eaf4;\n",
              "  color: #000000;\n",
              "}\n",
              "#T_fd0fd_row2_col5 {\n",
              "  background-color: #62a2cb;\n",
              "  color: #f1f1f1;\n",
              "}\n",
              "#T_fd0fd_row2_col6 {\n",
              "  background-color: #bfc9e1;\n",
              "  color: #000000;\n",
              "}\n",
              "#T_fd0fd_row2_col8 {\n",
              "  background-color: #7eadd1;\n",
              "  color: #f1f1f1;\n",
              "}\n",
              "#T_fd0fd_row2_col9 {\n",
              "  background-color: #e1dfed;\n",
              "  color: #000000;\n",
              "}\n",
              "#T_fd0fd_row2_col10 {\n",
              "  background-color: #d9d8ea;\n",
              "  color: #000000;\n",
              "}\n",
              "#T_fd0fd_row2_col11 {\n",
              "  background-color: #dddbec;\n",
              "  color: #000000;\n",
              "}\n",
              "#T_fd0fd_row2_col12, #T_fd0fd_row4_col3, #T_fd0fd_row7_col3 {\n",
              "  background-color: #88b1d4;\n",
              "  color: #000000;\n",
              "}\n",
              "#T_fd0fd_row3_col0, #T_fd0fd_row3_col1, #T_fd0fd_row3_col2, #T_fd0fd_row3_col5, #T_fd0fd_row5_col3, #T_fd0fd_row5_col4, #T_fd0fd_row5_col6, #T_fd0fd_row8_col4, #T_fd0fd_row8_col7, #T_fd0fd_row8_col9, #T_fd0fd_row8_col10, #T_fd0fd_row8_col11, #T_fd0fd_row8_col12, #T_fd0fd_row12_col8 {\n",
              "  background-color: #fff7fb;\n",
              "  color: #000000;\n",
              "}\n",
              "#T_fd0fd_row3_col4 {\n",
              "  background-color: #f3edf5;\n",
              "  color: #000000;\n",
              "}\n",
              "#T_fd0fd_row3_col7, #T_fd0fd_row4_col0 {\n",
              "  background-color: #f2ecf5;\n",
              "  color: #000000;\n",
              "}\n",
              "#T_fd0fd_row3_col8, #T_fd0fd_row10_col6 {\n",
              "  background-color: #d4d4e8;\n",
              "  color: #000000;\n",
              "}\n",
              "#T_fd0fd_row3_col9 {\n",
              "  background-color: #c9cee4;\n",
              "  color: #000000;\n",
              "}\n",
              "#T_fd0fd_row3_col10, #T_fd0fd_row9_col8 {\n",
              "  background-color: #b4c4df;\n",
              "  color: #000000;\n",
              "}\n",
              "#T_fd0fd_row3_col11 {\n",
              "  background-color: #c4cbe3;\n",
              "  color: #000000;\n",
              "}\n",
              "#T_fd0fd_row3_col12 {\n",
              "  background-color: #2d8abd;\n",
              "  color: #f1f1f1;\n",
              "}\n",
              "#T_fd0fd_row4_col1 {\n",
              "  background-color: #fbf4f9;\n",
              "  color: #000000;\n",
              "}\n",
              "#T_fd0fd_row4_col5 {\n",
              "  background-color: #9ab8d8;\n",
              "  color: #000000;\n",
              "}\n",
              "#T_fd0fd_row4_col7, #T_fd0fd_row5_col10 {\n",
              "  background-color: #ede8f3;\n",
              "  color: #000000;\n",
              "}\n",
              "#T_fd0fd_row4_col8 {\n",
              "  background-color: #a1bbda;\n",
              "  color: #000000;\n",
              "}\n",
              "#T_fd0fd_row4_col10, #T_fd0fd_row12_col6 {\n",
              "  background-color: #cccfe5;\n",
              "  color: #000000;\n",
              "}\n",
              "#T_fd0fd_row4_col12 {\n",
              "  background-color: #69a5cc;\n",
              "  color: #f1f1f1;\n",
              "}\n",
              "#T_fd0fd_row5_col0, #T_fd0fd_row7_col2 {\n",
              "  background-color: #e8e4f0;\n",
              "  color: #000000;\n",
              "}\n",
              "#T_fd0fd_row5_col1, #T_fd0fd_row10_col0 {\n",
              "  background-color: #f5eef6;\n",
              "  color: #000000;\n",
              "}\n",
              "#T_fd0fd_row5_col2, #T_fd0fd_row5_col12 {\n",
              "  background-color: #d1d2e6;\n",
              "  color: #000000;\n",
              "}\n",
              "#T_fd0fd_row5_col7, #T_fd0fd_row9_col1 {\n",
              "  background-color: #fef6fb;\n",
              "  color: #000000;\n",
              "}\n",
              "#T_fd0fd_row5_col8 {\n",
              "  background-color: #167bb6;\n",
              "  color: #f1f1f1;\n",
              "}\n",
              "#T_fd0fd_row5_col11, #T_fd0fd_row6_col7 {\n",
              "  background-color: #eee9f3;\n",
              "  color: #000000;\n",
              "}\n",
              "#T_fd0fd_row6_col0 {\n",
              "  background-color: #f5eff6;\n",
              "  color: #000000;\n",
              "}\n",
              "#T_fd0fd_row6_col1 {\n",
              "  background-color: #faf3f9;\n",
              "  color: #000000;\n",
              "}\n",
              "#T_fd0fd_row6_col5 {\n",
              "  background-color: #bbc7e0;\n",
              "  color: #000000;\n",
              "}\n",
              "#T_fd0fd_row6_col8, #T_fd0fd_row9_col12 {\n",
              "  background-color: #8eb3d5;\n",
              "  color: #000000;\n",
              "}\n",
              "#T_fd0fd_row6_col9 {\n",
              "  background-color: #e0dded;\n",
              "  color: #000000;\n",
              "}\n",
              "#T_fd0fd_row6_col10 {\n",
              "  background-color: #d3d4e7;\n",
              "  color: #000000;\n",
              "}\n",
              "#T_fd0fd_row7_col1 {\n",
              "  background-color: #faf2f8;\n",
              "  color: #000000;\n",
              "}\n",
              "#T_fd0fd_row7_col5 {\n",
              "  background-color: #9cb9d9;\n",
              "  color: #000000;\n",
              "}\n",
              "#T_fd0fd_row7_col8 {\n",
              "  background-color: #a4bcda;\n",
              "  color: #000000;\n",
              "}\n",
              "#T_fd0fd_row7_col9, #T_fd0fd_row9_col10, #T_fd0fd_row11_col10, #T_fd0fd_row12_col4 {\n",
              "  background-color: #d8d7e9;\n",
              "  color: #000000;\n",
              "}\n",
              "#T_fd0fd_row7_col10, #T_fd0fd_row8_col3 {\n",
              "  background-color: #d0d1e6;\n",
              "  color: #000000;\n",
              "}\n",
              "#T_fd0fd_row7_col12, #T_fd0fd_row9_col3 {\n",
              "  background-color: #67a4cc;\n",
              "  color: #f1f1f1;\n",
              "}\n",
              "#T_fd0fd_row8_col0 {\n",
              "  background-color: #f8f1f8;\n",
              "  color: #000000;\n",
              "}\n",
              "#T_fd0fd_row8_col1, #T_fd0fd_row11_col1 {\n",
              "  background-color: #fdf5fa;\n",
              "  color: #000000;\n",
              "}\n",
              "#T_fd0fd_row8_col5 {\n",
              "  background-color: #1379b5;\n",
              "  color: #f1f1f1;\n",
              "}\n",
              "#T_fd0fd_row8_col6 {\n",
              "  background-color: #dcdaeb;\n",
              "  color: #000000;\n",
              "}\n",
              "#T_fd0fd_row9_col0 {\n",
              "  background-color: #f7f0f7;\n",
              "  color: #000000;\n",
              "}\n",
              "#T_fd0fd_row9_col5 {\n",
              "  background-color: #96b6d7;\n",
              "  color: #000000;\n",
              "}\n",
              "#T_fd0fd_row9_col11, #T_fd0fd_row12_col10 {\n",
              "  background-color: #dedcec;\n",
              "  color: #000000;\n",
              "}\n",
              "#T_fd0fd_row10_col1 {\n",
              "  background-color: #fcf4fa;\n",
              "  color: #000000;\n",
              "}\n",
              "#T_fd0fd_row10_col3 {\n",
              "  background-color: #5ea0ca;\n",
              "  color: #f1f1f1;\n",
              "}\n",
              "#T_fd0fd_row10_col4, #T_fd0fd_row10_col7, #T_fd0fd_row11_col7 {\n",
              "  background-color: #e7e3f0;\n",
              "  color: #000000;\n",
              "}\n",
              "#T_fd0fd_row10_col5 {\n",
              "  background-color: #9ebad9;\n",
              "  color: #000000;\n",
              "}\n",
              "#T_fd0fd_row10_col8 {\n",
              "  background-color: #c1cae2;\n",
              "  color: #000000;\n",
              "}\n",
              "#T_fd0fd_row10_col9, #T_fd0fd_row11_col9 {\n",
              "  background-color: #e0deed;\n",
              "  color: #000000;\n",
              "}\n",
              "#T_fd0fd_row11_col0 {\n",
              "  background-color: #f6eff7;\n",
              "  color: #000000;\n",
              "}\n",
              "#T_fd0fd_row11_col2, #T_fd0fd_row11_col4 {\n",
              "  background-color: #eae6f1;\n",
              "  color: #000000;\n",
              "}\n",
              "#T_fd0fd_row11_col5 {\n",
              "  background-color: #97b7d7;\n",
              "  color: #000000;\n",
              "}\n",
              "#T_fd0fd_row11_col8 {\n",
              "  background-color: #b8c6e0;\n",
              "  color: #000000;\n",
              "}\n",
              "#T_fd0fd_row11_col12 {\n",
              "  background-color: #8fb4d6;\n",
              "  color: #000000;\n",
              "}\n",
              "#T_fd0fd_row12_col1 {\n",
              "  background-color: #f4eef6;\n",
              "  color: #000000;\n",
              "}\n",
              "#T_fd0fd_row12_col2 {\n",
              "  background-color: #ebe6f2;\n",
              "  color: #000000;\n",
              "}\n",
              "#T_fd0fd_row12_col3 {\n",
              "  background-color: #2a88bc;\n",
              "  color: #f1f1f1;\n",
              "}\n",
              "#T_fd0fd_row12_col5 {\n",
              "  background-color: #cacee5;\n",
              "  color: #000000;\n",
              "}\n",
              "</style>\n",
              "<table id=\"T_fd0fd_\" class=\"dataframe\">\n",
              "  <thead>\n",
              "    <tr>\n",
              "      <th class=\"blank level0\" >&nbsp;</th>\n",
              "      <th class=\"col_heading level0 col0\" >yearsofexperience</th>\n",
              "      <th class=\"col_heading level0 col1\" >yearsatcompany</th>\n",
              "      <th class=\"col_heading level0 col2\" >basesalary</th>\n",
              "      <th class=\"col_heading level0 col3\" >Education_Bachelor's Degree</th>\n",
              "      <th class=\"col_heading level0 col4\" >Education_Highschool</th>\n",
              "      <th class=\"col_heading level0 col5\" >Education_Master's Degree</th>\n",
              "      <th class=\"col_heading level0 col6\" >Education_PhD</th>\n",
              "      <th class=\"col_heading level0 col7\" >Education_Some College</th>\n",
              "      <th class=\"col_heading level0 col8\" >Race_Asian</th>\n",
              "      <th class=\"col_heading level0 col9\" >Race_Black</th>\n",
              "      <th class=\"col_heading level0 col10\" >Race_Hispanic</th>\n",
              "      <th class=\"col_heading level0 col11\" >Race_Two Or More</th>\n",
              "      <th class=\"col_heading level0 col12\" >Race_White</th>\n",
              "    </tr>\n",
              "  </thead>\n",
              "  <tbody>\n",
              "    <tr>\n",
              "      <th id=\"T_fd0fd_level0_row0\" class=\"row_heading level0 row0\" >yearsofexperience</th>\n",
              "      <td id=\"T_fd0fd_row0_col0\" class=\"data row0 col0\" >1.000000</td>\n",
              "      <td id=\"T_fd0fd_row0_col1\" class=\"data row0 col1\" >0.514572</td>\n",
              "      <td id=\"T_fd0fd_row0_col2\" class=\"data row0 col2\" >0.421420</td>\n",
              "      <td id=\"T_fd0fd_row0_col3\" class=\"data row0 col3\" >-0.081507</td>\n",
              "      <td id=\"T_fd0fd_row0_col4\" class=\"data row0 col4\" >0.009402</td>\n",
              "      <td id=\"T_fd0fd_row0_col5\" class=\"data row0 col5\" >0.073463</td>\n",
              "      <td id=\"T_fd0fd_row0_col6\" class=\"data row0 col6\" >-0.012862</td>\n",
              "      <td id=\"T_fd0fd_row0_col7\" class=\"data row0 col7\" >0.036527</td>\n",
              "      <td id=\"T_fd0fd_row0_col8\" class=\"data row0 col8\" >-0.034625</td>\n",
              "      <td id=\"T_fd0fd_row0_col9\" class=\"data row0 col9\" >-0.026078</td>\n",
              "      <td id=\"T_fd0fd_row0_col10\" class=\"data row0 col10\" >-0.007272</td>\n",
              "      <td id=\"T_fd0fd_row0_col11\" class=\"data row0 col11\" >-0.017464</td>\n",
              "      <td id=\"T_fd0fd_row0_col12\" class=\"data row0 col12\" >0.055801</td>\n",
              "    </tr>\n",
              "    <tr>\n",
              "      <th id=\"T_fd0fd_level0_row1\" class=\"row_heading level0 row1\" >yearsatcompany</th>\n",
              "      <td id=\"T_fd0fd_row1_col0\" class=\"data row1 col0\" >0.514572</td>\n",
              "      <td id=\"T_fd0fd_row1_col1\" class=\"data row1 col1\" >1.000000</td>\n",
              "      <td id=\"T_fd0fd_row1_col2\" class=\"data row1 col2\" >0.174722</td>\n",
              "      <td id=\"T_fd0fd_row1_col3\" class=\"data row1 col3\" >-0.035021</td>\n",
              "      <td id=\"T_fd0fd_row1_col4\" class=\"data row1 col4\" >-0.007646</td>\n",
              "      <td id=\"T_fd0fd_row1_col5\" class=\"data row1 col5\" >0.034386</td>\n",
              "      <td id=\"T_fd0fd_row1_col6\" class=\"data row1 col6\" >-0.002471</td>\n",
              "      <td id=\"T_fd0fd_row1_col7\" class=\"data row1 col7\" >0.004421</td>\n",
              "      <td id=\"T_fd0fd_row1_col8\" class=\"data row1 col8\" >-0.019053</td>\n",
              "      <td id=\"T_fd0fd_row1_col9\" class=\"data row1 col9\" >-0.030845</td>\n",
              "      <td id=\"T_fd0fd_row1_col10\" class=\"data row1 col10\" >-0.011097</td>\n",
              "      <td id=\"T_fd0fd_row1_col11\" class=\"data row1 col11\" >-0.017095</td>\n",
              "      <td id=\"T_fd0fd_row1_col12\" class=\"data row1 col12\" >0.041219</td>\n",
              "    </tr>\n",
              "    <tr>\n",
              "      <th id=\"T_fd0fd_level0_row2\" class=\"row_heading level0 row2\" >basesalary</th>\n",
              "      <td id=\"T_fd0fd_row2_col0\" class=\"data row2 col0\" >0.421420</td>\n",
              "      <td id=\"T_fd0fd_row2_col1\" class=\"data row2 col1\" >0.174722</td>\n",
              "      <td id=\"T_fd0fd_row2_col2\" class=\"data row2 col2\" >1.000000</td>\n",
              "      <td id=\"T_fd0fd_row2_col3\" class=\"data row2 col3\" >-0.165220</td>\n",
              "      <td id=\"T_fd0fd_row2_col4\" class=\"data row2 col4\" >-0.016976</td>\n",
              "      <td id=\"T_fd0fd_row2_col5\" class=\"data row2 col5\" >0.121866</td>\n",
              "      <td id=\"T_fd0fd_row2_col6\" class=\"data row2 col6\" >0.094903</td>\n",
              "      <td id=\"T_fd0fd_row2_col7\" class=\"data row2 col7\" >-0.000130</td>\n",
              "      <td id=\"T_fd0fd_row2_col8\" class=\"data row2 col8\" >0.029805</td>\n",
              "      <td id=\"T_fd0fd_row2_col9\" class=\"data row2 col9\" >-0.019798</td>\n",
              "      <td id=\"T_fd0fd_row2_col10\" class=\"data row2 col10\" >-0.023706</td>\n",
              "      <td id=\"T_fd0fd_row2_col11\" class=\"data row2 col11\" >-0.009273</td>\n",
              "      <td id=\"T_fd0fd_row2_col12\" class=\"data row2 col12\" >-0.014662</td>\n",
              "    </tr>\n",
              "    <tr>\n",
              "      <th id=\"T_fd0fd_level0_row3\" class=\"row_heading level0 row3\" >Education_Bachelor's Degree</th>\n",
              "      <td id=\"T_fd0fd_row3_col0\" class=\"data row3 col0\" >-0.081507</td>\n",
              "      <td id=\"T_fd0fd_row3_col1\" class=\"data row3 col1\" >-0.035021</td>\n",
              "      <td id=\"T_fd0fd_row3_col2\" class=\"data row3 col2\" >-0.165220</td>\n",
              "      <td id=\"T_fd0fd_row3_col3\" class=\"data row3 col3\" >1.000000</td>\n",
              "      <td id=\"T_fd0fd_row3_col4\" class=\"data row3 col4\" >-0.037602</td>\n",
              "      <td id=\"T_fd0fd_row3_col5\" class=\"data row3 col5\" >-0.893495</td>\n",
              "      <td id=\"T_fd0fd_row3_col6\" class=\"data row3 col6\" >-0.087011</td>\n",
              "      <td id=\"T_fd0fd_row3_col7\" class=\"data row3 col7\" >-0.039567</td>\n",
              "      <td id=\"T_fd0fd_row3_col8\" class=\"data row3 col8\" >-0.419920</td>\n",
              "      <td id=\"T_fd0fd_row3_col9\" class=\"data row3 col9\" >0.101464</td>\n",
              "      <td id=\"T_fd0fd_row3_col10\" class=\"data row3 col10\" >0.136777</td>\n",
              "      <td id=\"T_fd0fd_row3_col11\" class=\"data row3 col11\" >0.109457</td>\n",
              "      <td id=\"T_fd0fd_row3_col12\" class=\"data row3 col12\" >0.348013</td>\n",
              "    </tr>\n",
              "    <tr>\n",
              "      <th id=\"T_fd0fd_level0_row4\" class=\"row_heading level0 row4\" >Education_Highschool</th>\n",
              "      <td id=\"T_fd0fd_row4_col0\" class=\"data row4 col0\" >0.009402</td>\n",
              "      <td id=\"T_fd0fd_row4_col1\" class=\"data row4 col1\" >-0.007646</td>\n",
              "      <td id=\"T_fd0fd_row4_col2\" class=\"data row4 col2\" >-0.016976</td>\n",
              "      <td id=\"T_fd0fd_row4_col3\" class=\"data row4 col3\" >-0.037602</td>\n",
              "      <td id=\"T_fd0fd_row4_col4\" class=\"data row4 col4\" >1.000000</td>\n",
              "      <td id=\"T_fd0fd_row4_col5\" class=\"data row4 col5\" >-0.128432</td>\n",
              "      <td id=\"T_fd0fd_row4_col6\" class=\"data row4 col6\" >-0.012507</td>\n",
              "      <td id=\"T_fd0fd_row4_col7\" class=\"data row4 col7\" >-0.005687</td>\n",
              "      <td id=\"T_fd0fd_row4_col8\" class=\"data row4 col8\" >-0.128208</td>\n",
              "      <td id=\"T_fd0fd_row4_col9\" class=\"data row4 col9\" >0.013781</td>\n",
              "      <td id=\"T_fd0fd_row4_col10\" class=\"data row4 col10\" >0.042304</td>\n",
              "      <td id=\"T_fd0fd_row4_col11\" class=\"data row4 col11\" >0.025617</td>\n",
              "      <td id=\"T_fd0fd_row4_col12\" class=\"data row4 col12\" >0.114038</td>\n",
              "    </tr>\n",
              "    <tr>\n",
              "      <th id=\"T_fd0fd_level0_row5\" class=\"row_heading level0 row5\" >Education_Master's Degree</th>\n",
              "      <td id=\"T_fd0fd_row5_col0\" class=\"data row5 col0\" >0.073463</td>\n",
              "      <td id=\"T_fd0fd_row5_col1\" class=\"data row5 col1\" >0.034386</td>\n",
              "      <td id=\"T_fd0fd_row5_col2\" class=\"data row5 col2\" >0.121866</td>\n",
              "      <td id=\"T_fd0fd_row5_col3\" class=\"data row5 col3\" >-0.893495</td>\n",
              "      <td id=\"T_fd0fd_row5_col4\" class=\"data row5 col4\" >-0.128432</td>\n",
              "      <td id=\"T_fd0fd_row5_col5\" class=\"data row5 col5\" >1.000000</td>\n",
              "      <td id=\"T_fd0fd_row5_col6\" class=\"data row5 col6\" >-0.297189</td>\n",
              "      <td id=\"T_fd0fd_row5_col7\" class=\"data row5 col7\" >-0.135142</td>\n",
              "      <td id=\"T_fd0fd_row5_col8\" class=\"data row5 col8\" >0.456669</td>\n",
              "      <td id=\"T_fd0fd_row5_col9\" class=\"data row5 col9\" >-0.102118</td>\n",
              "      <td id=\"T_fd0fd_row5_col10\" class=\"data row5 col10\" >-0.143494</td>\n",
              "      <td id=\"T_fd0fd_row5_col11\" class=\"data row5 col11\" >-0.113417</td>\n",
              "      <td id=\"T_fd0fd_row5_col12\" class=\"data row5 col12\" >-0.385033</td>\n",
              "    </tr>\n",
              "    <tr>\n",
              "      <th id=\"T_fd0fd_level0_row6\" class=\"row_heading level0 row6\" >Education_PhD</th>\n",
              "      <td id=\"T_fd0fd_row6_col0\" class=\"data row6 col0\" >-0.012862</td>\n",
              "      <td id=\"T_fd0fd_row6_col1\" class=\"data row6 col1\" >-0.002471</td>\n",
              "      <td id=\"T_fd0fd_row6_col2\" class=\"data row6 col2\" >0.094903</td>\n",
              "      <td id=\"T_fd0fd_row6_col3\" class=\"data row6 col3\" >-0.087011</td>\n",
              "      <td id=\"T_fd0fd_row6_col4\" class=\"data row6 col4\" >-0.012507</td>\n",
              "      <td id=\"T_fd0fd_row6_col5\" class=\"data row6 col5\" >-0.297189</td>\n",
              "      <td id=\"T_fd0fd_row6_col6\" class=\"data row6 col6\" >1.000000</td>\n",
              "      <td id=\"T_fd0fd_row6_col7\" class=\"data row6 col7\" >-0.013161</td>\n",
              "      <td id=\"T_fd0fd_row6_col8\" class=\"data row6 col8\" >-0.039537</td>\n",
              "      <td id=\"T_fd0fd_row6_col9\" class=\"data row6 col9\" >-0.005822</td>\n",
              "      <td id=\"T_fd0fd_row6_col10\" class=\"data row6 col10\" >0.006365</td>\n",
              "      <td id=\"T_fd0fd_row6_col11\" class=\"data row6 col11\" >0.000668</td>\n",
              "      <td id=\"T_fd0fd_row6_col12\" class=\"data row6 col12\" >0.043422</td>\n",
              "    </tr>\n",
              "    <tr>\n",
              "      <th id=\"T_fd0fd_level0_row7\" class=\"row_heading level0 row7\" >Education_Some College</th>\n",
              "      <td id=\"T_fd0fd_row7_col0\" class=\"data row7 col0\" >0.036527</td>\n",
              "      <td id=\"T_fd0fd_row7_col1\" class=\"data row7 col1\" >0.004421</td>\n",
              "      <td id=\"T_fd0fd_row7_col2\" class=\"data row7 col2\" >-0.000130</td>\n",
              "      <td id=\"T_fd0fd_row7_col3\" class=\"data row7 col3\" >-0.039567</td>\n",
              "      <td id=\"T_fd0fd_row7_col4\" class=\"data row7 col4\" >-0.005687</td>\n",
              "      <td id=\"T_fd0fd_row7_col5\" class=\"data row7 col5\" >-0.135142</td>\n",
              "      <td id=\"T_fd0fd_row7_col6\" class=\"data row7 col6\" >-0.013161</td>\n",
              "      <td id=\"T_fd0fd_row7_col7\" class=\"data row7 col7\" >1.000000</td>\n",
              "      <td id=\"T_fd0fd_row7_col8\" class=\"data row7 col8\" >-0.139686</td>\n",
              "      <td id=\"T_fd0fd_row7_col9\" class=\"data row7 col9\" >0.037047</td>\n",
              "      <td id=\"T_fd0fd_row7_col10\" class=\"data row7 col10\" >0.029530</td>\n",
              "      <td id=\"T_fd0fd_row7_col11\" class=\"data row7 col11\" >0.033048</td>\n",
              "      <td id=\"T_fd0fd_row7_col12\" class=\"data row7 col12\" >0.122257</td>\n",
              "    </tr>\n",
              "    <tr>\n",
              "      <th id=\"T_fd0fd_level0_row8\" class=\"row_heading level0 row8\" >Race_Asian</th>\n",
              "      <td id=\"T_fd0fd_row8_col0\" class=\"data row8 col0\" >-0.034625</td>\n",
              "      <td id=\"T_fd0fd_row8_col1\" class=\"data row8 col1\" >-0.019053</td>\n",
              "      <td id=\"T_fd0fd_row8_col2\" class=\"data row8 col2\" >0.029805</td>\n",
              "      <td id=\"T_fd0fd_row8_col3\" class=\"data row8 col3\" >-0.419920</td>\n",
              "      <td id=\"T_fd0fd_row8_col4\" class=\"data row8 col4\" >-0.128208</td>\n",
              "      <td id=\"T_fd0fd_row8_col5\" class=\"data row8 col5\" >0.456669</td>\n",
              "      <td id=\"T_fd0fd_row8_col6\" class=\"data row8 col6\" >-0.039537</td>\n",
              "      <td id=\"T_fd0fd_row8_col7\" class=\"data row8 col7\" >-0.139686</td>\n",
              "      <td id=\"T_fd0fd_row8_col8\" class=\"data row8 col8\" >1.000000</td>\n",
              "      <td id=\"T_fd0fd_row8_col9\" class=\"data row8 col9\" >-0.231607</td>\n",
              "      <td id=\"T_fd0fd_row8_col10\" class=\"data row8 col10\" >-0.298805</td>\n",
              "      <td id=\"T_fd0fd_row8_col11\" class=\"data row8 col11\" >-0.250405</td>\n",
              "      <td id=\"T_fd0fd_row8_col12\" class=\"data row8 col12\" >-0.846113</td>\n",
              "    </tr>\n",
              "    <tr>\n",
              "      <th id=\"T_fd0fd_level0_row9\" class=\"row_heading level0 row9\" >Race_Black</th>\n",
              "      <td id=\"T_fd0fd_row9_col0\" class=\"data row9 col0\" >-0.026078</td>\n",
              "      <td id=\"T_fd0fd_row9_col1\" class=\"data row9 col1\" >-0.030845</td>\n",
              "      <td id=\"T_fd0fd_row9_col2\" class=\"data row9 col2\" >-0.019798</td>\n",
              "      <td id=\"T_fd0fd_row9_col3\" class=\"data row9 col3\" >0.101464</td>\n",
              "      <td id=\"T_fd0fd_row9_col4\" class=\"data row9 col4\" >0.013781</td>\n",
              "      <td id=\"T_fd0fd_row9_col5\" class=\"data row9 col5\" >-0.102118</td>\n",
              "      <td id=\"T_fd0fd_row9_col6\" class=\"data row9 col6\" >-0.005822</td>\n",
              "      <td id=\"T_fd0fd_row9_col7\" class=\"data row9 col7\" >0.037047</td>\n",
              "      <td id=\"T_fd0fd_row9_col8\" class=\"data row9 col8\" >-0.231607</td>\n",
              "      <td id=\"T_fd0fd_row9_col9\" class=\"data row9 col9\" >1.000000</td>\n",
              "      <td id=\"T_fd0fd_row9_col10\" class=\"data row9 col10\" >-0.014912</td>\n",
              "      <td id=\"T_fd0fd_row9_col11\" class=\"data row9 col11\" >-0.012496</td>\n",
              "      <td id=\"T_fd0fd_row9_col12\" class=\"data row9 col12\" >-0.042225</td>\n",
              "    </tr>\n",
              "    <tr>\n",
              "      <th id=\"T_fd0fd_level0_row10\" class=\"row_heading level0 row10\" >Race_Hispanic</th>\n",
              "      <td id=\"T_fd0fd_row10_col0\" class=\"data row10 col0\" >-0.007272</td>\n",
              "      <td id=\"T_fd0fd_row10_col1\" class=\"data row10 col1\" >-0.011097</td>\n",
              "      <td id=\"T_fd0fd_row10_col2\" class=\"data row10 col2\" >-0.023706</td>\n",
              "      <td id=\"T_fd0fd_row10_col3\" class=\"data row10 col3\" >0.136777</td>\n",
              "      <td id=\"T_fd0fd_row10_col4\" class=\"data row10 col4\" >0.042304</td>\n",
              "      <td id=\"T_fd0fd_row10_col5\" class=\"data row10 col5\" >-0.143494</td>\n",
              "      <td id=\"T_fd0fd_row10_col6\" class=\"data row10 col6\" >0.006365</td>\n",
              "      <td id=\"T_fd0fd_row10_col7\" class=\"data row10 col7\" >0.029530</td>\n",
              "      <td id=\"T_fd0fd_row10_col8\" class=\"data row10 col8\" >-0.298805</td>\n",
              "      <td id=\"T_fd0fd_row10_col9\" class=\"data row10 col9\" >-0.014912</td>\n",
              "      <td id=\"T_fd0fd_row10_col10\" class=\"data row10 col10\" >1.000000</td>\n",
              "      <td id=\"T_fd0fd_row10_col11\" class=\"data row10 col11\" >-0.016122</td>\n",
              "      <td id=\"T_fd0fd_row10_col12\" class=\"data row10 col12\" >-0.054476</td>\n",
              "    </tr>\n",
              "    <tr>\n",
              "      <th id=\"T_fd0fd_level0_row11\" class=\"row_heading level0 row11\" >Race_Two Or More</th>\n",
              "      <td id=\"T_fd0fd_row11_col0\" class=\"data row11 col0\" >-0.017464</td>\n",
              "      <td id=\"T_fd0fd_row11_col1\" class=\"data row11 col1\" >-0.017095</td>\n",
              "      <td id=\"T_fd0fd_row11_col2\" class=\"data row11 col2\" >-0.009273</td>\n",
              "      <td id=\"T_fd0fd_row11_col3\" class=\"data row11 col3\" >0.109457</td>\n",
              "      <td id=\"T_fd0fd_row11_col4\" class=\"data row11 col4\" >0.025617</td>\n",
              "      <td id=\"T_fd0fd_row11_col5\" class=\"data row11 col5\" >-0.113417</td>\n",
              "      <td id=\"T_fd0fd_row11_col6\" class=\"data row11 col6\" >0.000668</td>\n",
              "      <td id=\"T_fd0fd_row11_col7\" class=\"data row11 col7\" >0.033048</td>\n",
              "      <td id=\"T_fd0fd_row11_col8\" class=\"data row11 col8\" >-0.250405</td>\n",
              "      <td id=\"T_fd0fd_row11_col9\" class=\"data row11 col9\" >-0.012496</td>\n",
              "      <td id=\"T_fd0fd_row11_col10\" class=\"data row11 col10\" >-0.016122</td>\n",
              "      <td id=\"T_fd0fd_row11_col11\" class=\"data row11 col11\" >1.000000</td>\n",
              "      <td id=\"T_fd0fd_row11_col12\" class=\"data row11 col12\" >-0.045652</td>\n",
              "    </tr>\n",
              "    <tr>\n",
              "      <th id=\"T_fd0fd_level0_row12\" class=\"row_heading level0 row12\" >Race_White</th>\n",
              "      <td id=\"T_fd0fd_row12_col0\" class=\"data row12 col0\" >0.055801</td>\n",
              "      <td id=\"T_fd0fd_row12_col1\" class=\"data row12 col1\" >0.041219</td>\n",
              "      <td id=\"T_fd0fd_row12_col2\" class=\"data row12 col2\" >-0.014662</td>\n",
              "      <td id=\"T_fd0fd_row12_col3\" class=\"data row12 col3\" >0.348013</td>\n",
              "      <td id=\"T_fd0fd_row12_col4\" class=\"data row12 col4\" >0.114038</td>\n",
              "      <td id=\"T_fd0fd_row12_col5\" class=\"data row12 col5\" >-0.385033</td>\n",
              "      <td id=\"T_fd0fd_row12_col6\" class=\"data row12 col6\" >0.043422</td>\n",
              "      <td id=\"T_fd0fd_row12_col7\" class=\"data row12 col7\" >0.122257</td>\n",
              "      <td id=\"T_fd0fd_row12_col8\" class=\"data row12 col8\" >-0.846113</td>\n",
              "      <td id=\"T_fd0fd_row12_col9\" class=\"data row12 col9\" >-0.042225</td>\n",
              "      <td id=\"T_fd0fd_row12_col10\" class=\"data row12 col10\" >-0.054476</td>\n",
              "      <td id=\"T_fd0fd_row12_col11\" class=\"data row12 col11\" >-0.045652</td>\n",
              "      <td id=\"T_fd0fd_row12_col12\" class=\"data row12 col12\" >1.000000</td>\n",
              "    </tr>\n",
              "  </tbody>\n",
              "</table>\n"
            ],
            "text/plain": [
              "<pandas.io.formats.style.Styler at 0x7f907500c710>"
            ]
          },
          "metadata": {},
          "execution_count": 30
        }
      ],
      "source": [
        "#make visuals for targets and features\n",
        "#heatmap\n",
        "corr = df2.corr()\n",
        "corr.style.background_gradient()\n"
      ]
    },
    {
      "cell_type": "code",
      "execution_count": null,
      "metadata": {
        "colab": {
          "base_uri": "https://localhost:8080/",
          "height": 380
        },
        "id": "0LCIInWU2Vjq",
        "outputId": "88c385d2-315a-40a3-fa9f-3f137480cb84"
      },
      "outputs": [
        {
          "output_type": "display_data",
          "data": {
            "image/png": "[encoded data removed]",
            "text/plain": [
              "<Figure size 432x288 with 1 Axes>"
            ]
          },
          "metadata": {
            "needs_background": "light"
          }
        }
      ],
      "source": [
        "df2.location.value_counts()[:10].plot(kind='bar');\n",
        "plt.title('Top 10 Locations', fontsize=14)\n",
        "plt.xlabel('Locations')\n",
        "plt.ylabel('Number of People Working at Location');"
      ]
    },
    {
      "cell_type": "code",
      "execution_count": null,
      "metadata": {
        "colab": {
          "base_uri": "https://localhost:8080/",
          "height": 442
        },
        "id": "fvu-dJEU2H_B",
        "outputId": "c84c8b4b-2989-4e45-fc77-62e17ca56b74"
      },
      "outputs": [
        {
          "output_type": "display_data",
          "data": {
            "image/png": "[encoded data removed]",
            "text/plain": [
              "<Figure size 432x288 with 1 Axes>"
            ]
          },
          "metadata": {
            "needs_background": "light"
          }
        }
      ],
      "source": [
        "df2.title.value_counts().plot(kind='bar')\n",
        "plt.title('Most Popular Job Title', fontsize=16)\n",
        "plt.xlabel('Job Titles')\n",
        "plt.ylabel('Number of People with the Job Title');"
      ]
    },
    {
      "cell_type": "markdown",
      "metadata": {
        "id": "i3SUUKuXFdGX"
      },
      "source": [
        "> ### **Additional Dataframe** \n",
        "created an additional dataframe which contains data with the 25 highest base salaries"
      ]
    },
    {
      "cell_type": "code",
      "execution_count": null,
      "metadata": {
        "colab": {
          "base_uri": "https://localhost:8080/",
          "height": 409
        },
        "id": "0jePbfhy9nlw",
        "outputId": "6f0a83ed-c41b-4306-fb26-b9160681d474"
      },
      "outputs": [
        {
          "output_type": "execute_result",
          "data": {
            "text/html": [
              "\n",
              "  <div id=\"df-95489575-68d5-462c-a387-2d0779068c64\">\n",
              "    <div class=\"colab-df-container\">\n",
              "      <div>\n",
              "<style scoped>\n",
              "    .dataframe tbody tr th:only-of-type {\n",
              "        vertical-align: middle;\n",
              "    }\n",
              "\n",
              "    .dataframe tbody tr th {\n",
              "        vertical-align: top;\n",
              "    }\n",
              "\n",
              "    .dataframe thead th {\n",
              "        text-align: right;\n",
              "    }\n",
              "</style>\n",
              "<table border=\"1\" class=\"dataframe\">\n",
              "  <thead>\n",
              "    <tr style=\"text-align: right;\">\n",
              "      <th></th>\n",
              "      <th>yearsofexperience</th>\n",
              "      <th>yearsatcompany</th>\n",
              "      <th>basesalary</th>\n",
              "      <th>company</th>\n",
              "      <th>level</th>\n",
              "      <th>title</th>\n",
              "      <th>location</th>\n",
              "      <th>gender</th>\n",
              "      <th>Race</th>\n",
              "      <th>Education</th>\n",
              "      <th>Education_Bachelor's Degree</th>\n",
              "      <th>Education_Highschool</th>\n",
              "      <th>Education_Master's Degree</th>\n",
              "      <th>Education_PhD</th>\n",
              "      <th>Education_Some College</th>\n",
              "      <th>Race_Asian</th>\n",
              "      <th>Race_Black</th>\n",
              "      <th>Race_Hispanic</th>\n",
              "      <th>Race_Two Or More</th>\n",
              "      <th>Race_White</th>\n",
              "    </tr>\n",
              "  </thead>\n",
              "  <tbody>\n",
              "    <tr>\n",
              "      <th>62351</th>\n",
              "      <td>13.0</td>\n",
              "      <td>13.0</td>\n",
              "      <td>1659870.0</td>\n",
              "      <td>Microsoft</td>\n",
              "      <td>64</td>\n",
              "      <td>Product Manager</td>\n",
              "      <td>Redmond, WA</td>\n",
              "      <td>Male</td>\n",
              "      <td>Asian</td>\n",
              "      <td>Master's Degree</td>\n",
              "      <td>0</td>\n",
              "      <td>0</td>\n",
              "      <td>1</td>\n",
              "      <td>0</td>\n",
              "      <td>0</td>\n",
              "      <td>1</td>\n",
              "      <td>0</td>\n",
              "      <td>0</td>\n",
              "      <td>0</td>\n",
              "      <td>0</td>\n",
              "    </tr>\n",
              "    <tr>\n",
              "      <th>61851</th>\n",
              "      <td>7.0</td>\n",
              "      <td>7.0</td>\n",
              "      <td>1620000.0</td>\n",
              "      <td>Squarespace</td>\n",
              "      <td>Senior I</td>\n",
              "      <td>Software Engineer</td>\n",
              "      <td>New York, NY</td>\n",
              "      <td>Male</td>\n",
              "      <td>Asian</td>\n",
              "      <td>Master's Degree</td>\n",
              "      <td>0</td>\n",
              "      <td>0</td>\n",
              "      <td>1</td>\n",
              "      <td>0</td>\n",
              "      <td>0</td>\n",
              "      <td>1</td>\n",
              "      <td>0</td>\n",
              "      <td>0</td>\n",
              "      <td>0</td>\n",
              "      <td>0</td>\n",
              "    </tr>\n",
              "    <tr>\n",
              "      <th>45054</th>\n",
              "      <td>22.0</td>\n",
              "      <td>4.0</td>\n",
              "      <td>900000.0</td>\n",
              "      <td>PwC</td>\n",
              "      <td>Partner / Principal</td>\n",
              "      <td>Management Consultant</td>\n",
              "      <td>Raleigh, NC</td>\n",
              "      <td>Male</td>\n",
              "      <td>Asian</td>\n",
              "      <td>Master's Degree</td>\n",
              "      <td>0</td>\n",
              "      <td>0</td>\n",
              "      <td>1</td>\n",
              "      <td>0</td>\n",
              "      <td>0</td>\n",
              "      <td>1</td>\n",
              "      <td>0</td>\n",
              "      <td>0</td>\n",
              "      <td>0</td>\n",
              "      <td>0</td>\n",
              "    </tr>\n",
              "    <tr>\n",
              "      <th>56175</th>\n",
              "      <td>19.0</td>\n",
              "      <td>8.0</td>\n",
              "      <td>893000.0</td>\n",
              "      <td>Netflix</td>\n",
              "      <td>Senior Software Engineer</td>\n",
              "      <td>Software Engineer</td>\n",
              "      <td>Los Gatos, CA</td>\n",
              "      <td>Male</td>\n",
              "      <td>White</td>\n",
              "      <td>Bachelor's Degree</td>\n",
              "      <td>1</td>\n",
              "      <td>0</td>\n",
              "      <td>0</td>\n",
              "      <td>0</td>\n",
              "      <td>0</td>\n",
              "      <td>0</td>\n",
              "      <td>0</td>\n",
              "      <td>0</td>\n",
              "      <td>0</td>\n",
              "      <td>1</td>\n",
              "    </tr>\n",
              "    <tr>\n",
              "      <th>57701</th>\n",
              "      <td>15.0</td>\n",
              "      <td>7.0</td>\n",
              "      <td>861000.0</td>\n",
              "      <td>Netflix</td>\n",
              "      <td>Senior Software Engineer</td>\n",
              "      <td>Software Engineer</td>\n",
              "      <td>Los Gatos, CA</td>\n",
              "      <td>Male</td>\n",
              "      <td>White</td>\n",
              "      <td>Bachelor's Degree</td>\n",
              "      <td>1</td>\n",
              "      <td>0</td>\n",
              "      <td>0</td>\n",
              "      <td>0</td>\n",
              "      <td>0</td>\n",
              "      <td>0</td>\n",
              "      <td>0</td>\n",
              "      <td>0</td>\n",
              "      <td>0</td>\n",
              "      <td>1</td>\n",
              "    </tr>\n",
              "  </tbody>\n",
              "</table>\n",
              "</div>\n",
              "      <button class=\"colab-df-convert\" onclick=\"convertToInteractive('df-95489575-68d5-462c-a387-2d0779068c64')\"\n",
              "              title=\"Convert this dataframe to an interactive table.\"\n",
              "              style=\"display:none;\">\n",
              "        \n",
              "  <svg xmlns=\"http://www.w3.org/2000/svg\" height=\"24px\"viewBox=\"0 0 24 24\"\n",
              "       width=\"24px\">\n",
              "    <path d=\"M0 0h24v24H0V0z\" fill=\"none\"/>\n",
              "    <path d=\"M18.56 5.44l.94 2.06.94-2.06 2.06-.94-2.06-.94-.94-2.06-.94 2.06-2.06.94zm-11 1L8.5 8.5l.94-2.06 2.06-.94-2.06-.94L8.5 2.5l-.94 2.06-2.06.94zm10 10l.94 2.06.94-2.06 2.06-.94-2.06-.94-.94-2.06-.94 2.06-2.06.94z\"/><path d=\"M17.41 7.96l-1.37-1.37c-.4-.4-.92-.59-1.43-.59-.52 0-1.04.2-1.43.59L10.3 9.45l-7.72 7.72c-.78.78-.78 2.05 0 2.83L4 21.41c.39.39.9.59 1.41.59.51 0 1.02-.2 1.41-.59l7.78-7.78 2.81-2.81c.8-.78.8-2.07 0-2.86zM5.41 20L4 18.59l7.72-7.72 1.47 1.35L5.41 20z\"/>\n",
              "  </svg>\n",
              "      </button>\n",
              "      \n",
              "  <style>\n",
              "    .colab-df-container {\n",
              "      display:flex;\n",
              "      flex-wrap:wrap;\n",
              "      gap: 12px;\n",
              "    }\n",
              "\n",
              "    .colab-df-convert {\n",
              "      background-color: #E8F0FE;\n",
              "      border: none;\n",
              "      border-radius: 50%;\n",
              "      cursor: pointer;\n",
              "      display: none;\n",
              "      fill: #1967D2;\n",
              "      height: 32px;\n",
              "      padding: 0 0 0 0;\n",
              "      width: 32px;\n",
              "    }\n",
              "\n",
              "    .colab-df-convert:hover {\n",
              "      background-color: #E2EBFA;\n",
              "      box-shadow: 0px 1px 2px rgba(60, 64, 67, 0.3), 0px 1px 3px 1px rgba(60, 64, 67, 0.15);\n",
              "      fill: #174EA6;\n",
              "    }\n",
              "\n",
              "    [theme=dark] .colab-df-convert {\n",
              "      background-color: #3B4455;\n",
              "      fill: #D2E3FC;\n",
              "    }\n",
              "\n",
              "    [theme=dark] .colab-df-convert:hover {\n",
              "      background-color: #434B5C;\n",
              "      box-shadow: 0px 1px 3px 1px rgba(0, 0, 0, 0.15);\n",
              "      filter: drop-shadow(0px 1px 2px rgba(0, 0, 0, 0.3));\n",
              "      fill: #FFFFFF;\n",
              "    }\n",
              "  </style>\n",
              "\n",
              "      <script>\n",
              "        const buttonEl =\n",
              "          document.querySelector('#df-95489575-68d5-462c-a387-2d0779068c64 button.colab-df-convert');\n",
              "        buttonEl.style.display =\n",
              "          google.colab.kernel.accessAllowed ? 'block' : 'none';\n",
              "\n",
              "        async function convertToInteractive(key) {\n",
              "          const element = document.querySelector('#df-95489575-68d5-462c-a387-2d0779068c64');\n",
              "          const dataTable =\n",
              "            await google.colab.kernel.invokeFunction('convertToInteractive',\n",
              "                                                     [key], {});\n",
              "          if (!dataTable) return;\n",
              "\n",
              "          const docLinkHtml = 'Like what you see? Visit the ' +\n",
              "            '<a target=\"_blank\" href=https://colab.research.google.com/notebooks/data_table.ipynb>data table notebook</a>'\n",
              "            + ' to learn more about interactive tables.';\n",
              "          element.innerHTML = '';\n",
              "          dataTable['output_type'] = 'display_data';\n",
              "          await google.colab.output.renderOutput(dataTable, element);\n",
              "          const docLink = document.createElement('div');\n",
              "          docLink.innerHTML = docLinkHtml;\n",
              "          element.appendChild(docLink);\n",
              "        }\n",
              "      </script>\n",
              "    </div>\n",
              "  </div>\n",
              "  "
            ],
            "text/plain": [
              "       yearsofexperience  yearsatcompany  basesalary      company  \\\n",
              "62351               13.0            13.0   1659870.0    Microsoft   \n",
              "61851                7.0             7.0   1620000.0  Squarespace   \n",
              "45054               22.0             4.0    900000.0          PwC   \n",
              "56175               19.0             8.0    893000.0      Netflix   \n",
              "57701               15.0             7.0    861000.0      Netflix   \n",
              "\n",
              "                          level                  title       location gender  \\\n",
              "62351                        64        Product Manager    Redmond, WA   Male   \n",
              "61851                  Senior I      Software Engineer   New York, NY   Male   \n",
              "45054       Partner / Principal  Management Consultant    Raleigh, NC   Male   \n",
              "56175  Senior Software Engineer      Software Engineer  Los Gatos, CA   Male   \n",
              "57701  Senior Software Engineer      Software Engineer  Los Gatos, CA   Male   \n",
              "\n",
              "        Race          Education  Education_Bachelor's Degree  \\\n",
              "62351  Asian    Master's Degree                            0   \n",
              "61851  Asian    Master's Degree                            0   \n",
              "45054  Asian    Master's Degree                            0   \n",
              "56175  White  Bachelor's Degree                            1   \n",
              "57701  White  Bachelor's Degree                            1   \n",
              "\n",
              "       Education_Highschool  Education_Master's Degree  Education_PhD  \\\n",
              "62351                     0                          1              0   \n",
              "61851                     0                          1              0   \n",
              "45054                     0                          1              0   \n",
              "56175                     0                          0              0   \n",
              "57701                     0                          0              0   \n",
              "\n",
              "       Education_Some College  Race_Asian  Race_Black  Race_Hispanic  \\\n",
              "62351                       0           1           0              0   \n",
              "61851                       0           1           0              0   \n",
              "45054                       0           1           0              0   \n",
              "56175                       0           0           0              0   \n",
              "57701                       0           0           0              0   \n",
              "\n",
              "       Race_Two Or More  Race_White  \n",
              "62351                 0           0  \n",
              "61851                 0           0  \n",
              "45054                 0           0  \n",
              "56175                 0           1  \n",
              "57701                 0           1  "
            ]
          },
          "metadata": {},
          "execution_count": 33
        }
      ],
      "source": [
        "#records for top 1% base salary earners\n",
        "top_1per = df2.sort_values('basesalary', ascending=False)[:620]\n",
        "top_1per.head()"
      ]
    },
    {
      "cell_type": "code",
      "execution_count": null,
      "metadata": {
        "colab": {
          "base_uri": "https://localhost:8080/"
        },
        "id": "DyajcZUDGPGs",
        "outputId": "4133bb96-0e2d-4879-9e94-d24fe868a3db"
      },
      "outputs": [
        {
          "output_type": "execute_result",
          "data": {
            "text/plain": [
              "Netflix        232\n",
              "Google          51\n",
              "Salesforce      41\n",
              "Facebook        23\n",
              "Bloomberg       19\n",
              "              ... \n",
              "Walmart          1\n",
              "Squarespace      1\n",
              "Perspecta        1\n",
              "KPMG             1\n",
              "Mozilla          1\n",
              "Name: company, Length: 106, dtype: int64"
            ]
          },
          "metadata": {},
          "execution_count": 34
        }
      ],
      "source": [
        "top_1per.company.value_counts()"
      ]
    },
    {
      "cell_type": "markdown",
      "metadata": {
        "id": "i9RGXhA4F989"
      },
      "source": [
        "> - companies where the top earners (via total yearly compensation) work"
      ]
    },
    {
      "cell_type": "code",
      "source": [
        "top_1per.location.value_counts()[:10].plot(kind='bar');\n",
        "plt.title('Top 10 Locations', fontsize=14)\n",
        "plt.xlabel('Locations')\n",
        "plt.ylabel('Number of People Working at Location');"
      ],
      "metadata": {
        "colab": {
          "base_uri": "https://localhost:8080/",
          "height": 380
        },
        "id": "u6r1wGOeqPeq",
        "outputId": "fe2ba04c-59c2-4bcf-940e-24b074580718"
      },
      "execution_count": null,
      "outputs": [
        {
          "output_type": "display_data",
          "data": {
            "image/png": "[encoded data removed]",
            "text/plain": [
              "<Figure size 432x288 with 1 Axes>"
            ]
          },
          "metadata": {
            "needs_background": "light"
          }
        }
      ]
    },
    {
      "cell_type": "code",
      "execution_count": null,
      "metadata": {
        "colab": {
          "base_uri": "https://localhost:8080/",
          "height": 380
        },
        "id": "hjKBAQf5DWNB",
        "outputId": "fd42d8da-971b-42ff-ed0f-59bbf8841dbf"
      },
      "outputs": [
        {
          "output_type": "display_data",
          "data": {
            "image/png": "[encoded data removed]",
            "text/plain": [
              "<Figure size 432x288 with 1 Axes>"
            ]
          },
          "metadata": {
            "needs_background": "light"
          }
        }
      ],
      "source": [
        "companies = top_1per.groupby('company').mean().sort_values(by='basesalary', ascending=False).reset_index().company[:25]\n",
        "sns.barplot(x='company', y='basesalary',data=top_1per,order=companies, palette='Blues_d')\n",
        "plt.ticklabel_format(style='plain', axis='y')\n",
        "plt.xticks(rotation=90);\n",
        "plt.title('25 Companies Where Top %1 Earners (Base Salary)', fontsize=14);"
      ]
    },
    {
      "cell_type": "code",
      "execution_count": null,
      "metadata": {
        "colab": {
          "base_uri": "https://localhost:8080/",
          "height": 310
        },
        "id": "-VjwZ7cMJIT6",
        "outputId": "0a68d0ec-c7e7-4a0b-d674-131a3e641c78"
      },
      "outputs": [
        {
          "output_type": "display_data",
          "data": {
            "image/png": "[encoded data removed]",
            "text/plain": [
              "<Figure size 432x288 with 1 Axes>"
            ]
          },
          "metadata": {
            "needs_background": "light"
          }
        }
      ],
      "source": [
        "top_1per.yearsofexperience.value_counts().plot(kind='bar')\n",
        "plt.title('Years of Experience Counts for Top 25 Earners (Base Salary)', fontsize=16)\n",
        "plt.xlabel('Years of Experience')\n",
        "plt.xticks(rotation=90);\n",
        "plt.ylabel('# of Peoplev W/ X Years of Experience');"
      ]
    },
    {
      "cell_type": "code",
      "execution_count": null,
      "metadata": {
        "colab": {
          "base_uri": "https://localhost:8080/",
          "height": 442
        },
        "id": "Haj1ttRevVN2",
        "outputId": "7ab91f59-f9c9-40a7-a676-e909a19cc5ef"
      },
      "outputs": [
        {
          "output_type": "display_data",
          "data": {
            "image/png": "[encoded data removed]",
            "text/plain": [
              "<Figure size 432x288 with 1 Axes>"
            ]
          },
          "metadata": {
            "needs_background": "light"
          }
        }
      ],
      "source": [
        "titles = top_1per.groupby('title').mean().sort_values(by='basesalary', ascending=False).reset_index().title\n",
        "sns.barplot(x='title', y='basesalary', data=top_1per, order=titles, palette='Blues_d')\n",
        "plt.xticks(rotation=90);\n",
        "plt.title('Job Titles of Top 1% Earners (Base Salary)', fontsize=16);"
      ]
    },
    {
      "cell_type": "code",
      "execution_count": null,
      "metadata": {
        "colab": {
          "base_uri": "https://localhost:8080/",
          "height": 308
        },
        "id": "qLYF1IHdvsXD",
        "outputId": "2d6e5ae7-1839-427d-8e3b-f056461951ce"
      },
      "outputs": [
        {
          "output_type": "display_data",
          "data": {
            "image/png": "[encoded data removed]",
            "text/plain": [
              "<Figure size 432x288 with 1 Axes>"
            ]
          },
          "metadata": {
            "needs_background": "light"
          }
        }
      ],
      "source": [
        "years = top_1per.groupby('yearsofexperience').mean()[:20].sort_values(by='basesalary', ascending=False).reset_index().yearsofexperience\n",
        "\n",
        "sns.barplot(x='yearsofexperience', y='basesalary',data=top_1per,order=years, palette='Blues_d')\n",
        "plt.ticklabel_format(style='plain', axis='y')\n",
        "plt.title('Years of Experience vs. Base Salary')\n",
        "plt.xticks(rotation=90);"
      ]
    },
    {
      "cell_type": "code",
      "execution_count": null,
      "metadata": {
        "colab": {
          "base_uri": "https://localhost:8080/",
          "height": 279
        },
        "id": "M3MTcS5T63Cf",
        "outputId": "c6249380-6c38-44c6-ce1d-5f1e3473c6ba"
      },
      "outputs": [
        {
          "output_type": "display_data",
          "data": {
            "image/png": "[encoded data removed]",
            "text/plain": [
              "<Figure size 432x288 with 1 Axes>"
            ]
          },
          "metadata": {
            "needs_background": "light"
          }
        }
      ],
      "source": [
        "gender = top_1per.groupby('gender').count().sort_values(by='basesalary', ascending=False).reset_index().gender\n",
        "\n",
        "sns.barplot(x='gender', y='basesalary',data=top_1per,order=gender, palette='Blues_d');\n"
      ]
    },
    {
      "cell_type": "code",
      "execution_count": null,
      "metadata": {
        "colab": {
          "base_uri": "https://localhost:8080/",
          "height": 283
        },
        "id": "n1frJU6NoAyK",
        "outputId": "cbdc42a6-c896-41b3-dbcc-23fd7d0a64e1"
      },
      "outputs": [
        {
          "output_type": "display_data",
          "data": {
            "image/png": "[encoded data removed]",
            "text/plain": [
              "<Figure size 432x288 with 1 Axes>"
            ]
          },
          "metadata": {
            "needs_background": "light"
          }
        }
      ],
      "source": [
        "race = top_1per.groupby('Race').count().sort_values(by='basesalary', ascending=False).reset_index().Race\n",
        "a = sns.barplot(x='Race',y='basesalary',data=top_1per,order=race, palette='Blues_d');\n",
        "plt.title('')\n",
        "ticks = [0,250000,500000,750000,1000000]\n",
        "a.set_yticks(ticks)\n",
        "a.set_yticklabels(ticks);"
      ]
    },
    {
      "cell_type": "code",
      "execution_count": null,
      "metadata": {
        "colab": {
          "base_uri": "https://localhost:8080/",
          "height": 348
        },
        "id": "7wwLzIlLp_I7",
        "outputId": "e9b78950-94da-4ce5-d171-f75b985d3b79"
      },
      "outputs": [
        {
          "output_type": "display_data",
          "data": {
            "image/png": "[encoded data removed]",
            "text/plain": [
              "<Figure size 432x288 with 1 Axes>"
            ]
          },
          "metadata": {
            "needs_background": "light"
          }
        }
      ],
      "source": [
        "top_1per.Race.value_counts().plot(kind='bar')\n",
        "plt.title('Races of Top 1% Earners', fontsize=14)\n",
        "plt.xlabel('Race')\n",
        "plt.ylabel('Counts');"
      ]
    },
    {
      "cell_type": "code",
      "execution_count": null,
      "metadata": {
        "colab": {
          "base_uri": "https://localhost:8080/",
          "height": 348
        },
        "id": "u6dNiwe_sXop",
        "outputId": "607a5e01-b0d0-45df-9559-fea53fcd2ee9"
      },
      "outputs": [
        {
          "output_type": "display_data",
          "data": {
            "image/png": "[encoded data removed]",
            "text/plain": [
              "<Figure size 432x288 with 1 Axes>"
            ]
          },
          "metadata": {
            "needs_background": "light"
          }
        }
      ],
      "source": [
        "df2.Race.value_counts().plot(kind='bar')\n",
        "plt.title('Races of Employees', fontsize=14)\n",
        "plt.xlabel('Race')\n",
        "plt.ylabel('Counts');"
      ]
    },
    {
      "cell_type": "code",
      "execution_count": null,
      "metadata": {
        "colab": {
          "base_uri": "https://localhost:8080/",
          "height": 322
        },
        "id": "wcejvDr1qUxs",
        "outputId": "c59b2f35-3104-421f-c369-7918b8620738"
      },
      "outputs": [
        {
          "output_type": "display_data",
          "data": {
            "image/png": "[encoded data removed]",
            "text/plain": [
              "<Figure size 432x288 with 1 Axes>"
            ]
          },
          "metadata": {
            "needs_background": "light"
          }
        }
      ],
      "source": [
        "top_1per.gender.value_counts().plot(kind='bar')\n",
        "plt.title('Genders of Top 1% Earners', fontsize=14)\n",
        "plt.xlabel('Gender')\n",
        "plt.ylabel('Counts');"
      ]
    },
    {
      "cell_type": "code",
      "execution_count": null,
      "metadata": {
        "colab": {
          "base_uri": "https://localhost:8080/",
          "height": 378
        },
        "id": "-W5c1Wh2qrMt",
        "outputId": "f783e6de-1f26-453c-850e-76356e8a4293"
      },
      "outputs": [
        {
          "output_type": "display_data",
          "data": {
            "image/png": "[encoded data removed]",
            "text/plain": [
              "<Figure size 432x288 with 1 Axes>"
            ]
          },
          "metadata": {
            "needs_background": "light"
          }
        }
      ],
      "source": [
        "top_1per.Education.value_counts().plot(kind='bar')\n",
        "plt.title('Education Levels of Top 1% Earners',fontsize=14)\n",
        "plt.xlabel('Education Level')\n",
        "plt.ylabel('Counts');"
      ]
    },
    {
      "cell_type": "markdown",
      "metadata": {
        "id": "jPBvQx1O8kPj"
      },
      "source": [
        "## **Preprocessing and Modelling**"
      ]
    },
    {
      "cell_type": "code",
      "execution_count": null,
      "metadata": {
        "id": "0CVS_0E5KIJT"
      },
      "outputs": [],
      "source": [
        "#import machine learning libraries and methods\n",
        "from sklearn.metrics import r2_score, mean_absolute_error, mean_squared_error, median_absolute_error\n",
        "from sklearn.linear_model import LinearRegression\n",
        "from sklearn.model_selection import train_test_split\n",
        "from sklearn.dummy import DummyRegressor\n",
        "import numpy as np\n",
        "from sklearn.compose import make_column_selector, make_column_transformer\n",
        "from sklearn.impute import SimpleImputer\n",
        "from sklearn.preprocessing import OneHotEncoder, StandardScaler\n",
        "from sklearn.pipeline import make_pipeline\n"
      ]
    },
    {
      "cell_type": "code",
      "execution_count": null,
      "metadata": {
        "id": "7F15bWzHKU0j"
      },
      "outputs": [],
      "source": [
        "#assign target and features\n",
        "X = df.drop(columns='basesalary')\n",
        "y = df['basesalary']"
      ]
    },
    {
      "cell_type": "code",
      "execution_count": null,
      "metadata": {
        "id": "3sXtEUATKnTJ"
      },
      "outputs": [],
      "source": [
        "#create train, test, split\n",
        "X_train, X_test, y_train, y_test = train_test_split(X, y, random_state=42)"
      ]
    },
    {
      "cell_type": "code",
      "execution_count": null,
      "metadata": {
        "colab": {
          "base_uri": "https://localhost:8080/"
        },
        "id": "odapIQntKxh2",
        "outputId": "8f8b3fbf-334c-471e-c629-5aae51aa2331"
      },
      "outputs": [
        {
          "output_type": "stream",
          "name": "stdout",
          "text": [
            "numeric columns are ['yearsofexperience', 'yearsatcompany']\n",
            "categorical columns are ['company', 'level', 'title', 'location', 'gender', 'Race', 'Education']\n"
          ]
        }
      ],
      "source": [
        "#instatiate the selectors for numerical and categorical\n",
        "num_selector = make_column_selector(dtype_include='number')\n",
        "cat_selector = make_column_selector(dtype_include='object')\n",
        "\n",
        "num_columns = num_selector(X_train)\n",
        "cat_columns = cat_selector(X_train)\n",
        "\n",
        "print('numeric columns are', num_columns)\n",
        "print('categorical columns are', cat_columns)\n"
      ]
    },
    {
      "cell_type": "markdown",
      "metadata": {
        "id": "niflI66tQEuM"
      },
      "source": [
        "### **Preprocessing Pipelines**"
      ]
    },
    {
      "cell_type": "code",
      "execution_count": null,
      "metadata": {
        "id": "EvYRLxAyLCoR"
      },
      "outputs": [],
      "source": [
        "#instantiate imputer with mean strategy\n",
        "mean_imputer = SimpleImputer(strategy='mean')\n",
        "#instantiate imputer with most frequent strategy\n",
        "freq_imputer = SimpleImputer(strategy='most_frequent')\n",
        "#instantiate one hot encoder\n",
        "ohe_encoder = OneHotEncoder(sparse=False, handle_unknown='ignore')\n",
        "#instantiate standard scaler\n",
        "scaler = StandardScaler()\n",
        "\n",
        "\n",
        "#match transformation to type of column\n",
        "num_pipe = make_pipeline(mean_imputer, scaler)\n",
        "num_tuple = (num_pipe, num_selector)\n",
        "cat_pipe = make_pipeline(freq_imputer,ohe_encoder,scaler)\n",
        "cat_tuple = (cat_pipe, cat_selector)\n",
        "\n",
        "\n",
        "\n",
        "column_transformer = make_column_transformer(num_tuple,cat_tuple)\n"
      ]
    },
    {
      "cell_type": "markdown",
      "metadata": {
        "id": "2tomsgh_QLSW"
      },
      "source": [
        "### **Linear Regression Model**"
      ]
    },
    {
      "cell_type": "code",
      "execution_count": null,
      "metadata": {
        "colab": {
          "base_uri": "https://localhost:8080/"
        },
        "id": "jeH42fD0NL3q",
        "outputId": "896892ad-558b-4311-8eaa-7b320ccaed0d"
      },
      "outputs": [
        {
          "output_type": "stream",
          "name": "stdout",
          "text": [
            "Train R2 score (linear regression): 0.7940881004146525\n",
            "Test R2 score (linear regression): -1.1733522258694946e+26\n",
            "Difference 117335222586949457290461184.00\n"
          ]
        }
      ],
      "source": [
        "#instantiate linear regression\n",
        "lin_reg = LinearRegression()\n",
        "#instatiate linear regression pipeline\n",
        "linreg_pipe = make_pipeline(column_transformer, lin_reg)\n",
        "#fit pipeline one the training data\n",
        "linreg_pipe.fit(X_train, y_train)\n",
        "\n",
        "#analysis of linear regression\n",
        "linreg_score_train = r2_score(y_train, linreg_pipe.predict(X_train))\n",
        "linreg_score_test = r2_score(y_test, linreg_pipe.predict(X_test))\n",
        "print(f'Train R2 score (linear regression): {linreg_score_train}')\n",
        "print(f'Test R2 score (linear regression): {linreg_score_test}')\n",
        "print(f'Difference {linreg_score_train - linreg_score_test:.2f}')\n"
      ]
    },
    {
      "cell_type": "markdown",
      "metadata": {
        "id": "M-dHTG7JLJeJ"
      },
      "source": [
        "#### **More Linear Regression Model Analysis**"
      ]
    },
    {
      "cell_type": "code",
      "execution_count": null,
      "metadata": {
        "colab": {
          "base_uri": "https://localhost:8080/"
        },
        "id": "ol1fwM46LGIg",
        "outputId": "f4cdbbf5-4c88-4b30-ea3e-8566fd38756f"
      },
      "outputs": [
        {
          "output_type": "stream",
          "name": "stdout",
          "text": [
            "Linear Regression MAE (test): 3.1424691732531744e+16\n",
            "Linear Regression MAE (train): 15529.738895974513\n",
            "\n",
            "\n",
            "Linear Regression RMSE (test): 5.929120872959958e+17\n",
            "Linear Regression RMSE (train): 25479.030063557344\n"
          ]
        }
      ],
      "source": [
        "#test and train predictions\n",
        "linreg_test_preds = linreg_pipe.predict(X_test)\n",
        "linreg_train_preds = linreg_pipe.predict(X_train)\n",
        "\n",
        "#mean absolute errors for test and train\n",
        "MAE_linreg_test = mean_absolute_error(y_test,linreg_test_preds)\n",
        "MAE_linreg_train = mean_absolute_error(y_train,linreg_train_preds)\n",
        "\n",
        "#RMSE for test and train\n",
        "RSME_linreg_test = np.sqrt(mean_squared_error(y_test, linreg_test_preds))\n",
        "RSME_linreg_train = np.sqrt(mean_squared_error(y_train, linreg_train_preds))\n",
        "\n",
        "print(f'Linear Regression MAE (test): {MAE_linreg_test}')\n",
        "print(f'Linear Regression MAE (train): {MAE_linreg_train}')\n",
        "print('\\n')\n",
        "print(f'Linear Regression RMSE (test): {RSME_linreg_test}')\n",
        "print(f'Linear Regression RMSE (train): {RSME_linreg_train}')"
      ]
    },
    {
      "cell_type": "markdown",
      "metadata": {
        "id": "sXVZ_9XIHw6w"
      },
      "source": [
        "### **Random Forest Model**"
      ]
    },
    {
      "cell_type": "code",
      "execution_count": null,
      "metadata": {
        "colab": {
          "base_uri": "https://localhost:8080/"
        },
        "id": "H9hsJjbxHwN6",
        "outputId": "32acf0d4-3e14-4f70-86f1-8b4f2ee3e26e"
      },
      "outputs": [
        {
          "output_type": "stream",
          "name": "stdout",
          "text": [
            "Train R2 score (random forest): 0.9480079464222224\n",
            "Test R2 score (random forest): 0.9480079464222224\n",
            "Difference 0.00\n"
          ]
        }
      ],
      "source": [
        "#import random forest library\n",
        "from sklearn.ensemble import RandomForestRegressor\n",
        "#instantiate random forest model\n",
        "rf = RandomForestRegressor(random_state=42)\n",
        "#instatiate random forest pipeline\n",
        "rf_pipe = make_pipeline(column_transformer, rf)\n",
        "#fit pipeline one the training data\n",
        "rf_pipe.fit(X_train, y_train)\n",
        "\n",
        "#analysis of linear regression\n",
        "rf_score_train = r2_score(y_train, rf_pipe.predict(X_train))\n",
        "rf_score_test = r2_score(y_test, rf_pipe.predict(X_test))\n",
        "print(f'Train R2 score (random forest): {rf_score_train}')\n",
        "print(f'Test R2 score (random forest): {rf_score_train}')\n",
        "print(f'Difference {rf_score_train - rf_score_train:.2f}')"
      ]
    },
    {
      "cell_type": "markdown",
      "metadata": {
        "id": "fVVs1gbNIgTu"
      },
      "source": [
        "#### **More Random Forest Model Analysis**"
      ]
    },
    {
      "cell_type": "code",
      "execution_count": null,
      "metadata": {
        "colab": {
          "base_uri": "https://localhost:8080/"
        },
        "id": "PUrRAxjbIg0t",
        "outputId": "3012d341-6450-41a3-8b84-4ad5a548f24a"
      },
      "outputs": [
        {
          "output_type": "stream",
          "name": "stdout",
          "text": [
            "Random Forest MAE (test): 17893.021325865535\n",
            "Random Forest MAE (train): 7206.444736764501\n",
            "\n",
            "\n",
            "Random Forest RMSE (test): 28059.64440285173\n",
            "Random Forest RMSE (train): 12802.967836137881\n"
          ]
        }
      ],
      "source": [
        "#test and train predictions\n",
        "rf_test_preds = rf_pipe.predict(X_test)\n",
        "rf_train_preds = rf_pipe.predict(X_train)\n",
        "\n",
        "#mean absolute errors for test and train\n",
        "MAE_rf_test = mean_absolute_error(y_test,rf_test_preds)\n",
        "MAE_rf_train = mean_absolute_error(y_train,rf_train_preds)\n",
        "\n",
        "#RMSE for test and train\n",
        "RSME_rf_test = np.sqrt(mean_squared_error(y_test, rf_test_preds))\n",
        "RSME_rf_train = np.sqrt(mean_squared_error(y_train, rf_train_preds))\n",
        "\n",
        "print(f'Random Forest MAE (test): {MAE_rf_test}')\n",
        "print(f'Random Forest MAE (train): {MAE_rf_train}')\n",
        "print('\\n')\n",
        "print(f'Random Forest RMSE (test): {RSME_rf_test}')\n",
        "print(f'Random Forest RMSE (train): {RSME_rf_train}')"
      ]
    },
    {
      "cell_type": "markdown",
      "metadata": {
        "id": "jnoCvZESQXVm"
      },
      "source": [
        "### **Decision Trees Model**"
      ]
    },
    {
      "cell_type": "code",
      "execution_count": null,
      "metadata": {
        "colab": {
          "base_uri": "https://localhost:8080/"
        },
        "id": "bQpFARWJPVeq",
        "outputId": "c7479636-4dc8-46b9-e172-a919e1d81911"
      },
      "outputs": [
        {
          "output_type": "stream",
          "name": "stdout",
          "text": [
            "Train R2 score (decision tree): 0.9843905634825574\n",
            "Test R2 score (decision tree): 0.5547492383883212\n",
            "Difference 0.43\n"
          ]
        }
      ],
      "source": [
        "from sklearn.tree import DecisionTreeRegressor\n",
        "\n",
        "#insantiate decision tree\n",
        "dectree = DecisionTreeRegressor(random_state=42)\n",
        "\n",
        "#decision tree pipeline\n",
        "dectree_pipe = make_pipeline(column_transformer, dectree)\n",
        "\n",
        "#fit decision tree\n",
        "dectree_pipe.fit(X_train, y_train)\n",
        "\n",
        "\n",
        "#decision tree analysis\n",
        "dectree_score_train = r2_score(y_train, dectree_pipe.predict(X_train))\n",
        "dectree_score_test = r2_score(y_test, dectree_pipe.predict(X_test))\n",
        "print(f'Train R2 score (decision tree): {dectree_score_train}')\n",
        "print(f'Test R2 score (decision tree): {dectree_score_test}')\n",
        "print(f'Difference {dectree_score_train - dectree_score_test:.2f}')"
      ]
    },
    {
      "cell_type": "markdown",
      "metadata": {
        "id": "igh81pRTj8K9"
      },
      "source": [
        "- shows overfitting"
      ]
    },
    {
      "cell_type": "markdown",
      "metadata": {
        "id": "-OpwOnwyMsIK"
      },
      "source": [
        "#### **More Decision Tree Model Analysis**"
      ]
    },
    {
      "cell_type": "code",
      "execution_count": null,
      "metadata": {
        "colab": {
          "base_uri": "https://localhost:8080/"
        },
        "id": "0NVwe4EeMusl",
        "outputId": "ce7c9025-4c73-4633-c9b0-2ac724564bbd"
      },
      "outputs": [
        {
          "output_type": "stream",
          "name": "stdout",
          "text": [
            "Decision Tree MAE (test): 22134.423233387603\n",
            "Decision Tree MAE (train): 1146.1623052816378\n",
            "\n",
            "\n",
            "Decision Tree RMSE (test): 36524.00880765469\n",
            "Decision Tree RMSE (train): 7015.1309384194765\n"
          ]
        }
      ],
      "source": [
        "#test and train predictions\n",
        "dectree_test_preds = dectree_pipe.predict(X_test)\n",
        "dectree_train_preds = dectree_pipe.predict(X_train)\n",
        "\n",
        "#mean absolute errors for test and train\n",
        "MAE_dectree_test = mean_absolute_error(y_test,dectree_test_preds)\n",
        "MAE_dectree_train = mean_absolute_error(y_train,dectree_train_preds)\n",
        "\n",
        "#RMSE for test and train\n",
        "RSME_dectree_test = np.sqrt(mean_squared_error(y_test, dectree_test_preds))\n",
        "RSME_dectree_train = np.sqrt(mean_squared_error(y_train, dectree_train_preds))\n",
        "\n",
        "print(f'Decision Tree MAE (test): {MAE_dectree_test}')\n",
        "print(f'Decision Tree MAE (train): {MAE_dectree_train}')\n",
        "print('\\n')\n",
        "print(f'Decision Tree RMSE (test): {RSME_dectree_test}')\n",
        "print(f'Decision Tree RMSE (train): {RSME_dectree_train}')"
      ]
    },
    {
      "cell_type": "markdown",
      "metadata": {
        "id": "utpjHfJvQQFO"
      },
      "source": [
        "### **Bagged Trees Model**"
      ]
    },
    {
      "cell_type": "code",
      "execution_count": null,
      "metadata": {
        "colab": {
          "base_uri": "https://localhost:8080/"
        },
        "id": "VhiGZjGONwwR",
        "outputId": "68daf0ee-e71f-4320-d92c-a07a763ac97f"
      },
      "outputs": [
        {
          "output_type": "stream",
          "name": "stdout",
          "text": [
            "Train R2 score (bagged trees): 0.9365716456611555\n",
            "Test R2 score (bagged trees): 0.7236860006112527\n",
            "Difference 0.21\n"
          ]
        }
      ],
      "source": [
        "#import bagged tree\n",
        "from sklearn.ensemble import BaggingRegressor\n",
        "#instantiate bagged tree\n",
        "bagreg = BaggingRegressor(random_state=42)\n",
        "#bagged pipeline\n",
        "bagreg_pipe = make_pipeline(column_transformer, bagreg)\n",
        "#fit pipeline\n",
        "bagreg_pipe.fit(X_train,y_train)\n",
        "\n",
        "bagreg_score_train = r2_score(y_train, bagreg_pipe.predict(X_train))\n",
        "bagreg_score_test = r2_score(y_test, bagreg_pipe.predict(X_test))\n",
        "print(f'Train R2 score (bagged trees): {bagreg_score_train}')\n",
        "print(f'Test R2 score (bagged trees): {bagreg_score_test}')\n",
        "print(f'Difference {bagreg_score_train - bagreg_score_test:.2f}')"
      ]
    },
    {
      "cell_type": "markdown",
      "metadata": {
        "id": "-YVTpjRQVIKS"
      },
      "source": [
        "#### **More Bagged Trees Model Analysis**"
      ]
    },
    {
      "cell_type": "code",
      "execution_count": null,
      "metadata": {
        "colab": {
          "base_uri": "https://localhost:8080/"
        },
        "id": "2kklXj1qVHn3",
        "outputId": "5449a9a2-8be0-4b01-8d52-e0b1f6c76058"
      },
      "outputs": [
        {
          "output_type": "stream",
          "name": "stdout",
          "text": [
            "Bagged Tree MAE (test): 18516.994387659073\n",
            "Bagged Tree MAE (train): 7700.49777576318\n",
            "\n",
            "\n",
            "Bagged Tree RMSE (test): 28772.49662473506\n",
            "Bagged Tree RMSE (train): 14141.122698722567\n"
          ]
        }
      ],
      "source": [
        "#test and train predictions\n",
        "bagreg_test_preds = bagreg_pipe.predict(X_test)\n",
        "bagreg_train_preds = bagreg_pipe.predict(X_train)\n",
        "\n",
        "#mean absolute errors for test and train\n",
        "MAE_bagreg_test = mean_absolute_error(y_test,bagreg_test_preds)\n",
        "MAE_bagreg_train = mean_absolute_error(y_train,bagreg_train_preds)\n",
        "\n",
        "#RMSE for test and train\n",
        "RSME_bagreg_test = np.sqrt(mean_squared_error(y_test, bagreg_test_preds))\n",
        "RSME_bagreg_train = np.sqrt(mean_squared_error(y_train, bagreg_train_preds))\n",
        "\n",
        "print(f'Bagged Tree MAE (test): {MAE_bagreg_test}')\n",
        "print(f'Bagged Tree MAE (train): {MAE_bagreg_train}')\n",
        "print('\\n')\n",
        "print(f'Bagged Tree RMSE (test): {RSME_bagreg_test}')\n",
        "print(f'Bagged Tree RMSE (train): {RSME_bagreg_train}')"
      ]
    },
    {
      "cell_type": "markdown",
      "metadata": {
        "id": "bZnibUt-WFdO"
      },
      "source": [
        "## **Parameters of Orignal Model**"
      ]
    },
    {
      "cell_type": "code",
      "execution_count": null,
      "metadata": {
        "colab": {
          "base_uri": "https://localhost:8080/"
        },
        "id": "B8UCJs3HWDkx",
        "outputId": "33071f07-748a-4b9a-ad12-bc36e72bf914"
      },
      "outputs": [
        {
          "output_type": "stream",
          "name": "stdout",
          "text": [
            "Parameters currently in use:\n",
            "\n",
            "Base model parameters: {'bootstrap': True, 'ccp_alpha': 0.0, 'criterion': 'squared_error', 'max_depth': None, 'max_features': 'auto', 'max_leaf_nodes': None, 'max_samples': None, 'min_impurity_decrease': 0.0, 'min_samples_leaf': 1, 'min_samples_split': 2, 'min_weight_fraction_leaf': 0.0, 'n_estimators': 100, 'n_jobs': None, 'oob_score': False, 'random_state': 42, 'verbose': 0, 'warm_start': False}\n"
          ]
        }
      ],
      "source": [
        "# Look at parameters used by our current random forest model\n",
        "print('Parameters currently in use:\\n')\n",
        "print(f'Base model parameters: {rf.get_params()}')"
      ]
    },
    {
      "cell_type": "markdown",
      "metadata": {
        "id": "tMpKLdlrU_5I"
      },
      "source": [
        "## **Grid Search**"
      ]
    },
    {
      "cell_type": "code",
      "execution_count": null,
      "metadata": {
        "id": "3jzek5vnVLBD"
      },
      "outputs": [],
      "source": [
        "from sklearn.model_selection import GridSearchCV\n",
        "# Create the parameter grid based on the results of random search\n",
        "#going to hyper parameter tune 4 parameters\n",
        "\n",
        "rf_optimal_pipe = make_pipeline(column_transformer, rf)\n",
        "\n",
        "bootstrap = [True, False] #how to select samples for training each tree\n",
        "\n",
        "n_estimators = [50,100,125,200] #number of trees in the forest\n",
        "\n",
        "max_features = ['auto','sqrt'] #number of feautres to consider at every split\n",
        "\n",
        "min_samples_split = [3,5,10,15] #number of samples required to split a node\n",
        "\n",
        "max_depth = [10,30,50,100,None] #max number of levels in a tree\n",
        "\n",
        "#creare param grid\n",
        "params = [{'randomforestregressor__bootstrap': bootstrap,\n",
        "           'randomforestregressor__max_depth': max_depth,\n",
        "           'randomforestregressor__max_features': max_features,\n",
        "           'randomforestregressor__min_samples_split': min_samples_split,\n",
        "           'randomforestregressor__n_estimators': n_estimators\n",
        "    \n",
        "}]\n",
        "\n",
        "grid_search = GridSearchCV(estimator=rf_optimal_pipe,\n",
        "                           param_grid = params,\n",
        "                           cv=5)\n",
        "\n",
        "\n"
      ]
    },
    {
      "cell_type": "code",
      "source": [
        "#fit grid search to the data\n",
        "grid_search.fit(X_train, y_train)"
      ],
      "metadata": {
        "id": "QDOEB1QgJxiU"
      },
      "execution_count": null,
      "outputs": []
    },
    {
      "cell_type": "code",
      "source": [
        "print(f'Best Parameters: {grid_search.best_params_}')\n",
        "print(f'Score: {grid_search.score(X_train, y_train)}')"
      ],
      "metadata": {
        "id": "hlvg5_HlKTe-"
      },
      "execution_count": null,
      "outputs": []
    },
    {
      "cell_type": "markdown",
      "metadata": {
        "id": "D8mrpnqeXSB4"
      },
      "source": [
        "## **Conclusion**\n",
        "\n",
        "Based on the r<sup>2</sup> score, RMSE and MAE random forest model predicts the base salary the best with the given features. The r<sup>2</sup> test score is significantly greater than those of all the other models. Also the difference between the test and train r<sup>2</sup> scores are approximately 0. Some of the other models like the Bagged Tree model\n",
        "\n",
        "\n",
        "The way the data is collected could also help with predicting data more accurately as there was a lot of inference via imputing missing data."
      ]
    },
    {
      "cell_type": "markdown",
      "source": [
        "## **References**\n",
        "- https://towardsdatascience.com/hyperparameter-tuning-the-random-forest-in-python-using-scikit-learn-28d2aa77dd74"
      ],
      "metadata": {
        "id": "WEf8eMx163Wx"
      }
    },
    {
      "cell_type": "code",
      "execution_count": null,
      "metadata": {
        "id": "4Hin82jArbdq"
      },
      "outputs": [],
      "source": [
        ""
      ]
    }
  ],
  "metadata": {
    "colab": {
      "collapsed_sections": [
        "cT33oqUuFudp",
        "JI8z_Wt8oPDa",
        "2B2Yoizm06je"
      ],
      "name": "3Copy of Copy of Project2_Final.ipynb",
      "provenance": [],
      "mount_file_id": "1EEvHjmuZiKMtHhWMyRyUypc3OjclUxIb",
      "authorship_tag": "ABX9TyM4t4vsnP/yLEA7qfxcpP8z",
      "include_colab_link": true
    },
    "kernelspec": {
      "display_name": "Python 3",
      "name": "python3"
    },
    "language_info": {
      "name": "python"
    }
  },
  "nbformat": 4,
  "nbformat_minor": 0
}