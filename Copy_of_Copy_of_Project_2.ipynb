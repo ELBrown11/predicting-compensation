{
  "cells": [
    {
      "cell_type": "markdown",
      "metadata": {
        "id": "view-in-github",
        "colab_type": "text"
      },
      "source": [
        "<a href=\"https://colab.research.google.com/github/ELBrown11/predicting-compensation/blob/main/Copy_of_Copy_of_Project_2.ipynb\" target=\"_parent\"><img src=\"https://colab.research.google.com/assets/colab-badge.svg\" alt=\"Open In Colab\"/></a>"
      ]
    },
    {
      "cell_type": "markdown",
      "metadata": {
        "id": "3GYoIUS34uWp"
      },
      "source": [
        "# **Using Employee Data to Predict Base Salary**"
      ]
    },
    {
      "cell_type": "code",
      "execution_count": null,
      "metadata": {
        "id": "-xg5VgdFEqxV",
        "colab": {
          "base_uri": "https://localhost:8080/"
        },
        "outputId": "92ec5a79-570d-4dab-9cba-85bb15d12de4"
      },
      "outputs": [
        {
          "output_type": "stream",
          "name": "stdout",
          "text": [
            "Drive already mounted at /content/drive; to attempt to forcibly remount, call drive.mount(\"/content/drive\", force_remount=True).\n"
          ]
        }
      ],
      "source": [
        "#mount drive\n",
        "from google.colab import drive\n",
        "drive.mount('/content/drive')"
      ]
    },
    {
      "cell_type": "code",
      "execution_count": null,
      "metadata": {
        "id": "XfitpKpAKpIL"
      },
      "outputs": [],
      "source": [
        "#import pandas\n",
        "import pandas as pd"
      ]
    },
    {
      "cell_type": "markdown",
      "metadata": {
        "id": "7ZUwaXtwLNpN"
      },
      "source": [
        "## **Data Background**\n",
        "\n",
        "This data comes from [Kaggle](https://www.kaggle.com/jackogozaly/data-science-and-stem-salaries). The data, which consists of 62,000+ records and 29 columns, was scraped from [levels.fyi](http://levels.fyi). Levels is a website where employee of top companies, including FAANG (Facebook, Amazon, Apple, Netflix, Google) companies, share employee data including compensation and demographic information. The data also includes several one hot encoded columns for specific levels of education and racial identities likely created by whomever scraped this data.\n",
        "\n"
      ]
    },
    {
      "cell_type": "code",
      "execution_count": null,
      "metadata": {
        "id": "E8sB7CSMLINV",
        "colab": {
          "base_uri": "https://localhost:8080/",
          "height": 446
        },
        "outputId": "61ae56a5-e692-46e3-abb3-b6573c90fed4"
      },
      "outputs": [
        {
          "output_type": "stream",
          "name": "stdout",
          "text": [
            "Data table contains 62642 rows and 29 columns\n",
            "\n",
            "\n"
          ]
        },
        {
          "output_type": "execute_result",
          "data": {
            "text/html": [
              "\n",
              "  <div id=\"df-1232e7be-e65b-4216-9b5b-5a8c10b1524b\">\n",
              "    <div class=\"colab-df-container\">\n",
              "      <div>\n",
              "<style scoped>\n",
              "    .dataframe tbody tr th:only-of-type {\n",
              "        vertical-align: middle;\n",
              "    }\n",
              "\n",
              "    .dataframe tbody tr th {\n",
              "        vertical-align: top;\n",
              "    }\n",
              "\n",
              "    .dataframe thead th {\n",
              "        text-align: right;\n",
              "    }\n",
              "</style>\n",
              "<table border=\"1\" class=\"dataframe\">\n",
              "  <thead>\n",
              "    <tr style=\"text-align: right;\">\n",
              "      <th></th>\n",
              "      <th>timestamp</th>\n",
              "      <th>company</th>\n",
              "      <th>level</th>\n",
              "      <th>title</th>\n",
              "      <th>totalyearlycompensation</th>\n",
              "      <th>location</th>\n",
              "      <th>yearsofexperience</th>\n",
              "      <th>yearsatcompany</th>\n",
              "      <th>tag</th>\n",
              "      <th>basesalary</th>\n",
              "      <th>stockgrantvalue</th>\n",
              "      <th>bonus</th>\n",
              "      <th>gender</th>\n",
              "      <th>otherdetails</th>\n",
              "      <th>cityid</th>\n",
              "      <th>dmaid</th>\n",
              "      <th>rowNumber</th>\n",
              "      <th>Masters_Degree</th>\n",
              "      <th>Bachelors_Degree</th>\n",
              "      <th>Doctorate_Degree</th>\n",
              "      <th>Highschool</th>\n",
              "      <th>Some_College</th>\n",
              "      <th>Race_Asian</th>\n",
              "      <th>Race_White</th>\n",
              "      <th>Race_Two_Or_More</th>\n",
              "      <th>Race_Black</th>\n",
              "      <th>Race_Hispanic</th>\n",
              "      <th>Race</th>\n",
              "      <th>Education</th>\n",
              "    </tr>\n",
              "  </thead>\n",
              "  <tbody>\n",
              "    <tr>\n",
              "      <th>0</th>\n",
              "      <td>6/7/2017 11:33:27</td>\n",
              "      <td>Oracle</td>\n",
              "      <td>L3</td>\n",
              "      <td>Product Manager</td>\n",
              "      <td>127000</td>\n",
              "      <td>Redwood City, CA</td>\n",
              "      <td>1.5</td>\n",
              "      <td>1.5</td>\n",
              "      <td>NaN</td>\n",
              "      <td>107000.0</td>\n",
              "      <td>20000.0</td>\n",
              "      <td>10000.0</td>\n",
              "      <td>NaN</td>\n",
              "      <td>NaN</td>\n",
              "      <td>7392</td>\n",
              "      <td>807.0</td>\n",
              "      <td>1</td>\n",
              "      <td>0</td>\n",
              "      <td>0</td>\n",
              "      <td>0</td>\n",
              "      <td>0</td>\n",
              "      <td>0</td>\n",
              "      <td>0</td>\n",
              "      <td>0</td>\n",
              "      <td>0</td>\n",
              "      <td>0</td>\n",
              "      <td>0</td>\n",
              "      <td>NaN</td>\n",
              "      <td>NaN</td>\n",
              "    </tr>\n",
              "    <tr>\n",
              "      <th>1</th>\n",
              "      <td>6/10/2017 17:11:29</td>\n",
              "      <td>eBay</td>\n",
              "      <td>SE 2</td>\n",
              "      <td>Software Engineer</td>\n",
              "      <td>100000</td>\n",
              "      <td>San Francisco, CA</td>\n",
              "      <td>5.0</td>\n",
              "      <td>3.0</td>\n",
              "      <td>NaN</td>\n",
              "      <td>0.0</td>\n",
              "      <td>0.0</td>\n",
              "      <td>0.0</td>\n",
              "      <td>NaN</td>\n",
              "      <td>NaN</td>\n",
              "      <td>7419</td>\n",
              "      <td>807.0</td>\n",
              "      <td>2</td>\n",
              "      <td>0</td>\n",
              "      <td>0</td>\n",
              "      <td>0</td>\n",
              "      <td>0</td>\n",
              "      <td>0</td>\n",
              "      <td>0</td>\n",
              "      <td>0</td>\n",
              "      <td>0</td>\n",
              "      <td>0</td>\n",
              "      <td>0</td>\n",
              "      <td>NaN</td>\n",
              "      <td>NaN</td>\n",
              "    </tr>\n",
              "    <tr>\n",
              "      <th>2</th>\n",
              "      <td>6/11/2017 14:53:57</td>\n",
              "      <td>Amazon</td>\n",
              "      <td>L7</td>\n",
              "      <td>Product Manager</td>\n",
              "      <td>310000</td>\n",
              "      <td>Seattle, WA</td>\n",
              "      <td>8.0</td>\n",
              "      <td>0.0</td>\n",
              "      <td>NaN</td>\n",
              "      <td>155000.0</td>\n",
              "      <td>0.0</td>\n",
              "      <td>0.0</td>\n",
              "      <td>NaN</td>\n",
              "      <td>NaN</td>\n",
              "      <td>11527</td>\n",
              "      <td>819.0</td>\n",
              "      <td>3</td>\n",
              "      <td>0</td>\n",
              "      <td>0</td>\n",
              "      <td>0</td>\n",
              "      <td>0</td>\n",
              "      <td>0</td>\n",
              "      <td>0</td>\n",
              "      <td>0</td>\n",
              "      <td>0</td>\n",
              "      <td>0</td>\n",
              "      <td>0</td>\n",
              "      <td>NaN</td>\n",
              "      <td>NaN</td>\n",
              "    </tr>\n",
              "    <tr>\n",
              "      <th>3</th>\n",
              "      <td>6/17/2017 0:23:14</td>\n",
              "      <td>Apple</td>\n",
              "      <td>M1</td>\n",
              "      <td>Software Engineering Manager</td>\n",
              "      <td>372000</td>\n",
              "      <td>Sunnyvale, CA</td>\n",
              "      <td>7.0</td>\n",
              "      <td>5.0</td>\n",
              "      <td>NaN</td>\n",
              "      <td>157000.0</td>\n",
              "      <td>180000.0</td>\n",
              "      <td>35000.0</td>\n",
              "      <td>NaN</td>\n",
              "      <td>NaN</td>\n",
              "      <td>7472</td>\n",
              "      <td>807.0</td>\n",
              "      <td>7</td>\n",
              "      <td>0</td>\n",
              "      <td>0</td>\n",
              "      <td>0</td>\n",
              "      <td>0</td>\n",
              "      <td>0</td>\n",
              "      <td>0</td>\n",
              "      <td>0</td>\n",
              "      <td>0</td>\n",
              "      <td>0</td>\n",
              "      <td>0</td>\n",
              "      <td>NaN</td>\n",
              "      <td>NaN</td>\n",
              "    </tr>\n",
              "    <tr>\n",
              "      <th>4</th>\n",
              "      <td>6/20/2017 10:58:51</td>\n",
              "      <td>Microsoft</td>\n",
              "      <td>60</td>\n",
              "      <td>Software Engineer</td>\n",
              "      <td>157000</td>\n",
              "      <td>Mountain View, CA</td>\n",
              "      <td>5.0</td>\n",
              "      <td>3.0</td>\n",
              "      <td>NaN</td>\n",
              "      <td>0.0</td>\n",
              "      <td>0.0</td>\n",
              "      <td>0.0</td>\n",
              "      <td>NaN</td>\n",
              "      <td>NaN</td>\n",
              "      <td>7322</td>\n",
              "      <td>807.0</td>\n",
              "      <td>9</td>\n",
              "      <td>0</td>\n",
              "      <td>0</td>\n",
              "      <td>0</td>\n",
              "      <td>0</td>\n",
              "      <td>0</td>\n",
              "      <td>0</td>\n",
              "      <td>0</td>\n",
              "      <td>0</td>\n",
              "      <td>0</td>\n",
              "      <td>0</td>\n",
              "      <td>NaN</td>\n",
              "      <td>NaN</td>\n",
              "    </tr>\n",
              "  </tbody>\n",
              "</table>\n",
              "</div>\n",
              "      <button class=\"colab-df-convert\" onclick=\"convertToInteractive('df-1232e7be-e65b-4216-9b5b-5a8c10b1524b')\"\n",
              "              title=\"Convert this dataframe to an interactive table.\"\n",
              "              style=\"display:none;\">\n",
              "        \n",
              "  <svg xmlns=\"http://www.w3.org/2000/svg\" height=\"24px\"viewBox=\"0 0 24 24\"\n",
              "       width=\"24px\">\n",
              "    <path d=\"M0 0h24v24H0V0z\" fill=\"none\"/>\n",
              "    <path d=\"M18.56 5.44l.94 2.06.94-2.06 2.06-.94-2.06-.94-.94-2.06-.94 2.06-2.06.94zm-11 1L8.5 8.5l.94-2.06 2.06-.94-2.06-.94L8.5 2.5l-.94 2.06-2.06.94zm10 10l.94 2.06.94-2.06 2.06-.94-2.06-.94-.94-2.06-.94 2.06-2.06.94z\"/><path d=\"M17.41 7.96l-1.37-1.37c-.4-.4-.92-.59-1.43-.59-.52 0-1.04.2-1.43.59L10.3 9.45l-7.72 7.72c-.78.78-.78 2.05 0 2.83L4 21.41c.39.39.9.59 1.41.59.51 0 1.02-.2 1.41-.59l7.78-7.78 2.81-2.81c.8-.78.8-2.07 0-2.86zM5.41 20L4 18.59l7.72-7.72 1.47 1.35L5.41 20z\"/>\n",
              "  </svg>\n",
              "      </button>\n",
              "      \n",
              "  <style>\n",
              "    .colab-df-container {\n",
              "      display:flex;\n",
              "      flex-wrap:wrap;\n",
              "      gap: 12px;\n",
              "    }\n",
              "\n",
              "    .colab-df-convert {\n",
              "      background-color: #E8F0FE;\n",
              "      border: none;\n",
              "      border-radius: 50%;\n",
              "      cursor: pointer;\n",
              "      display: none;\n",
              "      fill: #1967D2;\n",
              "      height: 32px;\n",
              "      padding: 0 0 0 0;\n",
              "      width: 32px;\n",
              "    }\n",
              "\n",
              "    .colab-df-convert:hover {\n",
              "      background-color: #E2EBFA;\n",
              "      box-shadow: 0px 1px 2px rgba(60, 64, 67, 0.3), 0px 1px 3px 1px rgba(60, 64, 67, 0.15);\n",
              "      fill: #174EA6;\n",
              "    }\n",
              "\n",
              "    [theme=dark] .colab-df-convert {\n",
              "      background-color: #3B4455;\n",
              "      fill: #D2E3FC;\n",
              "    }\n",
              "\n",
              "    [theme=dark] .colab-df-convert:hover {\n",
              "      background-color: #434B5C;\n",
              "      box-shadow: 0px 1px 3px 1px rgba(0, 0, 0, 0.15);\n",
              "      filter: drop-shadow(0px 1px 2px rgba(0, 0, 0, 0.3));\n",
              "      fill: #FFFFFF;\n",
              "    }\n",
              "  </style>\n",
              "\n",
              "      <script>\n",
              "        const buttonEl =\n",
              "          document.querySelector('#df-1232e7be-e65b-4216-9b5b-5a8c10b1524b button.colab-df-convert');\n",
              "        buttonEl.style.display =\n",
              "          google.colab.kernel.accessAllowed ? 'block' : 'none';\n",
              "\n",
              "        async function convertToInteractive(key) {\n",
              "          const element = document.querySelector('#df-1232e7be-e65b-4216-9b5b-5a8c10b1524b');\n",
              "          const dataTable =\n",
              "            await google.colab.kernel.invokeFunction('convertToInteractive',\n",
              "                                                     [key], {});\n",
              "          if (!dataTable) return;\n",
              "\n",
              "          const docLinkHtml = 'Like what you see? Visit the ' +\n",
              "            '<a target=\"_blank\" href=https://colab.research.google.com/notebooks/data_table.ipynb>data table notebook</a>'\n",
              "            + ' to learn more about interactive tables.';\n",
              "          element.innerHTML = '';\n",
              "          dataTable['output_type'] = 'display_data';\n",
              "          await google.colab.output.renderOutput(dataTable, element);\n",
              "          const docLink = document.createElement('div');\n",
              "          docLink.innerHTML = docLinkHtml;\n",
              "          element.appendChild(docLink);\n",
              "        }\n",
              "      </script>\n",
              "    </div>\n",
              "  </div>\n",
              "  "
            ],
            "text/plain": [
              "            timestamp    company level  ... Race_Hispanic  Race Education\n",
              "0   6/7/2017 11:33:27     Oracle    L3  ...             0   NaN       NaN\n",
              "1  6/10/2017 17:11:29       eBay  SE 2  ...             0   NaN       NaN\n",
              "2  6/11/2017 14:53:57     Amazon    L7  ...             0   NaN       NaN\n",
              "3   6/17/2017 0:23:14      Apple    M1  ...             0   NaN       NaN\n",
              "4  6/20/2017 10:58:51  Microsoft    60  ...             0   NaN       NaN\n",
              "\n",
              "[5 rows x 29 columns]"
            ]
          },
          "metadata": {},
          "execution_count": 3
        }
      ],
      "source": [
        "filename2 = '/content/drive/MyDrive/Coding Dojo Bootcamp/Levels_Fyi_Salary_Data.csv'\n",
        "df = pd.read_csv(filename2)\n",
        "\n",
        "\n",
        "print(f'Data table contains {df.shape[0]} rows and {df.shape[1]} columns')\n",
        "print('\\n')\n",
        "df.head()"
      ]
    },
    {
      "cell_type": "markdown",
      "metadata": {
        "id": "2BOOtDc1mULH"
      },
      "source": [
        "## **Hypothesis:** years of experience, years at company, education and gender would have strong correlations with and effects on base salary.\n",
        "\n"
      ]
    },
    {
      "cell_type": "code",
      "source": [
        ""
      ],
      "metadata": {
        "id": "CHkr1Zeg1xhJ"
      },
      "execution_count": null,
      "outputs": []
    },
    {
      "cell_type": "markdown",
      "metadata": {
        "id": "XSG2HFqS_jK0"
      },
      "source": [
        "## **Goal of this Project:** use feature data and regression modeling  to predict base salary.\n",
        "\n"
      ]
    },
    {
      "cell_type": "markdown",
      "metadata": {
        "id": "trbwiHMWDz1z"
      },
      "source": [
        "## **Exploring the Contents of Data in Each Column**"
      ]
    },
    {
      "cell_type": "code",
      "execution_count": null,
      "metadata": {
        "id": "Zprda6ZYHLvJ",
        "colab": {
          "base_uri": "https://localhost:8080/"
        },
        "outputId": "f563dac7-7892-4657-bfe2-3d8490c234ef"
      },
      "outputs": [
        {
          "output_type": "execute_result",
          "data": {
            "text/plain": [
              "Full Stack                                  11382\n",
              "Distributed Systems (Back-End)              10838\n",
              "API Development (Back-End)                   6277\n",
              "ML / AI                                      4204\n",
              "Web Development (Front-End)                  2971\n",
              "                                            ...  \n",
              "Developer Relations / Developer Advocacy        1\n",
              "compensation                                    1\n",
              "Kernel, Storage                                 1\n",
              "Device Modeling                                 1\n",
              "Sales/Pre-Sales                                 1\n",
              "Name: tag, Length: 3058, dtype: int64"
            ]
          },
          "metadata": {},
          "execution_count": 5
        }
      ],
      "source": [
        "#contents of tag column\n",
        "df.tag.value_counts()"
      ]
    },
    {
      "cell_type": "markdown",
      "metadata": {
        "id": "Eyy6s2IlHahL"
      },
      "source": [
        "----------------\n",
        "- contains data about certain skills that the employee has\n",
        "---------------"
      ]
    },
    {
      "cell_type": "code",
      "execution_count": null,
      "metadata": {
        "id": "SyQb2F0fHXKJ",
        "colab": {
          "base_uri": "https://localhost:8080/"
        },
        "outputId": "5786ba4c-f50c-4cfd-f331-a462b95ed2fc"
      },
      "outputs": [
        {
          "output_type": "execute_result",
          "data": {
            "text/plain": [
              "Masters                                                                            3983\n",
              "Title: Software Engineer                                                           1453\n",
              "Race: Asian, Academic Level: Master’s degree                                       1213\n",
              "Race: White, Academic Level: Bachelor’s degree                                     1075\n",
              "Race: Asian, Academic Level: Bachelor’s degree                                      977\n",
              "                                                                                   ... \n",
              "Title: Systems Software Engineer, Academic Level: Master’s degree                     1\n",
              "Title: Yolo, Race: Hispanic / Latino, Academic Level: High school or equivalent       1\n",
              "Remote, Title: Front End Engineer I                                                   1\n",
              "Title: Sr Technical Product Manager, Academic Level: Master’s degree                  1\n",
              "Negotiated twice.                                                                     1\n",
              "Name: otherdetails, Length: 12841, dtype: int64"
            ]
          },
          "metadata": {},
          "execution_count": 6
        }
      ],
      "source": [
        "#contents of otherdetails\n",
        "df.otherdetails.value_counts()"
      ]
    },
    {
      "cell_type": "markdown",
      "metadata": {
        "id": "diKOph8bHnil"
      },
      "source": [
        "--------------\n",
        "- contains metadata, some rows include education, title, race\n",
        "- the data each row contains varies (12841 unique values)\n",
        "- this row contains data that is already in other columns therefore it can be dropped\n",
        "\n",
        "--------------\n",
        "\n"
      ]
    },
    {
      "cell_type": "code",
      "execution_count": null,
      "metadata": {
        "id": "WQtAgwG_KPjZ",
        "colab": {
          "base_uri": "https://localhost:8080/"
        },
        "outputId": "c2fc8de2-e3d0-4ee9-f25b-6a8b990565b6"
      },
      "outputs": [
        {
          "output_type": "execute_result",
          "data": {
            "text/plain": [
              "11527    8701\n",
              "7419     6796\n",
              "10182    4562\n",
              "11521    2649\n",
              "7322     2275\n",
              "         ... \n",
              "12943       1\n",
              "16508       1\n",
              "12402       1\n",
              "10257       1\n",
              "36994       1\n",
              "Name: cityid, Length: 1045, dtype: int64"
            ]
          },
          "metadata": {},
          "execution_count": 7
        }
      ],
      "source": [
        "df.cityid.value_counts()"
      ]
    },
    {
      "cell_type": "code",
      "execution_count": null,
      "metadata": {
        "id": "KvEcPJWLKibN",
        "colab": {
          "base_uri": "https://localhost:8080/"
        },
        "outputId": "fbbdfac3-7c51-45b5-c0ef-bf3bde1d59a2"
      },
      "outputs": [
        {
          "output_type": "execute_result",
          "data": {
            "text/plain": [
              "807.0    20400\n",
              "819.0    12343\n",
              "0.0       9826\n",
              "501.0     5156\n",
              "506.0     1773\n",
              "         ...  \n",
              "643.0        1\n",
              "537.0        1\n",
              "734.0        1\n",
              "576.0        1\n",
              "540.0        1\n",
              "Name: dmaid, Length: 149, dtype: int64"
            ]
          },
          "metadata": {},
          "execution_count": 8
        }
      ],
      "source": [
        "df.dmaid.value_counts()"
      ]
    },
    {
      "cell_type": "code",
      "execution_count": null,
      "metadata": {
        "id": "bDFjSSzfKlHQ",
        "colab": {
          "base_uri": "https://localhost:8080/"
        },
        "outputId": "658983ac-f04c-4c26-c98c-fa2ff66b6304"
      },
      "outputs": [
        {
          "output_type": "execute_result",
          "data": {
            "text/plain": [
              "4094     1\n",
              "533      1\n",
              "12819    1\n",
              "14866    1\n",
              "8721     1\n",
              "        ..\n",
              "34042    1\n",
              "40185    1\n",
              "38136    1\n",
              "60663    1\n",
              "2049     1\n",
              "Name: rowNumber, Length: 62642, dtype: int64"
            ]
          },
          "metadata": {},
          "execution_count": 9
        }
      ],
      "source": [
        "df.rowNumber.value_counts()"
      ]
    },
    {
      "cell_type": "markdown",
      "metadata": {
        "id": "S9jlm_xNK2R-"
      },
      "source": [
        "---------------\n",
        "- `cityid`, `dmaid` and `rowNumber` columns contain data that doesn't give much insight so these can be dropped\n",
        "---------------"
      ]
    },
    {
      "cell_type": "markdown",
      "metadata": {
        "id": "-XdgV5EhB29v"
      },
      "source": [
        "|Column Names | Description of Data |\n",
        "|:--------|:--------------------|\n",
        "|timestamp| date that employee submitted data|\n",
        "|company| name of company where employee works|\n",
        "|level| level of seniority in position/job title|\n",
        "|title| job title|\n",
        "|totalyearlycompensation| total yearly earnings in usd|\n",
        "|location| location of the job|\n",
        "|yearsofexperience| number of years of experience employee has|\n",
        "|yearsatcompany| number of years with the company|\n",
        "|tag| metadata on skills|\n",
        "|basesalary| yearly earnings not including stocks or bonus|\n",
        "|stockgrantvalue| amount of stocks or grants earned in usd|\n",
        "|bonus| amount earned via bonus in usd|\n",
        "|otherdetails| contains metadata about employee|\n",
        "|cityid| ?|\n",
        "|dmaid| ? |\n",
        "|rowNumber| row number|\n",
        "|Masters_Degree| ohe* masters degree data, does this person have this degree, where 1 is yes and 0 is no|\n",
        "|Bachelors_Degree| ohe* bachelors degree data, does this person have this degree, where 1 is yes and 0 is no|\n",
        "|Doctorate_Degree| ohe* doctorate degree data, does this person have this degree, where 1 is yes and 0 is no|\n",
        "|Highschool| ohe* high school data, does this person have this level of education, where 1 is yes and 0 is no|\n",
        "|Some_College| ohe* some college data, does this person have this level of education, where 1 is yes and 0 is no|\n",
        "|Race_Asian| ohe* asian race data, does this person have idenitify as this race, if yes 1 if no 0|\n",
        "|Race_White| ohe* white race data, does this person have idenitify as this race, if yes 1 if no 0|\n",
        "|Race_Two_Or_More|ohe* two or more race data, does this person have idenitify as this race, if yes 1 if no 0|\n",
        "|Race_Black|ohe* black race data, does this person have idenitify as this race, if yes 1 if no 0|\n",
        "|Race_Hispanic|ohe* hispanic race data, does this person have idenitify as this race, if yes 1 if no 0|\n",
        "|Race| complete list of race data|\n",
        "|Education| complete list of education data|\n",
        "\n",
        "****ohe = one hot encoded***"
      ]
    },
    {
      "cell_type": "code",
      "execution_count": null,
      "metadata": {
        "id": "JLbe6u1b7OgE",
        "colab": {
          "base_uri": "https://localhost:8080/"
        },
        "outputId": "c86bbf12-51db-4f00-a815-3841f3bd2d5b"
      },
      "outputs": [
        {
          "output_type": "execute_result",
          "data": {
            "text/plain": [
              "Male                               35702\n",
              "Female                              6999\n",
              "Other                                400\n",
              "Title: Senior Software Engineer        1\n",
              "Name: gender, dtype: int64"
            ]
          },
          "metadata": {},
          "execution_count": 10
        }
      ],
      "source": [
        "df.gender.value_counts()"
      ]
    },
    {
      "cell_type": "markdown",
      "metadata": {
        "id": "0rm2FI_v7VHC"
      },
      "source": [
        "- here we see a few things...\n",
        "  - the gender column has a lot of missing data\n",
        "  - gender columns has an incorrect value which can be changed to the mode of this column\n",
        "  - also gender is not binary here"
      ]
    },
    {
      "cell_type": "code",
      "execution_count": null,
      "metadata": {
        "id": "JLEj9TtI77qi"
      },
      "outputs": [],
      "source": [
        "#for loop that find that incorrect record then replaces it with the most frequent\n",
        "#there's a break because there's only one of these values and a lot of data to loop through\n",
        "for i in range(0, len(df)):\n",
        "  gender_mode = df.gender.mode()[0]\n",
        "  if (df['gender'][i] == 'Title: Senior Software Engineer'):\n",
        "    df['gender'] = df['gender'].replace('Title: Senior Software Engineer',gender_mode)\n",
        "    break"
      ]
    },
    {
      "cell_type": "code",
      "execution_count": null,
      "metadata": {
        "id": "1aoN1sGJ9wpn",
        "colab": {
          "base_uri": "https://localhost:8080/"
        },
        "outputId": "5d3c1339-fb45-4ebc-ad84-899affd0fee6"
      },
      "outputs": [
        {
          "output_type": "execute_result",
          "data": {
            "text/plain": [
              "Male      35703\n",
              "Female     6999\n",
              "Other       400\n",
              "Name: gender, dtype: int64"
            ]
          },
          "metadata": {},
          "execution_count": 12
        }
      ],
      "source": [
        "#to check that the loop worked correctly\n",
        "df.gender.value_counts()"
      ]
    },
    {
      "cell_type": "markdown",
      "metadata": {
        "id": "cT33oqUuFudp"
      },
      "source": [
        "## **Dropping Irelevent Data**"
      ]
    },
    {
      "cell_type": "markdown",
      "source": [
        "- dropping this columns because they contain data with no valuable insights and/or they don't make sense as a feature of basesalary"
      ],
      "metadata": {
        "id": "wUnkS4ULVY66"
      }
    },
    {
      "cell_type": "code",
      "execution_count": null,
      "metadata": {
        "id": "_s45YIcMnN5J",
        "colab": {
          "base_uri": "https://localhost:8080/"
        },
        "outputId": "5ec7d698-f7b2-449a-9386-ffcf46d4534c"
      },
      "outputs": [
        {
          "output_type": "stream",
          "name": "stdout",
          "text": [
            "total of all ohe education data: 30474\n",
            "Education column total contains 30370 non-nulls\n"
          ]
        }
      ],
      "source": [
        "#totaling the education values\n",
        "a = df.Masters_Degree.sum()\n",
        "b = df.Bachelors_Degree.sum()\n",
        "c = df.Doctorate_Degree.sum()\n",
        "d = df.Highschool.sum()\n",
        "e = df.Some_College.sum()\n",
        "print(f'total of all ohe education data: {a+b+c+d+e}')\n",
        "print(f'Education column total contains {(~df.Education.isnull()).sum()} non-nulls')"
      ]
    },
    {
      "cell_type": "code",
      "execution_count": null,
      "metadata": {
        "id": "2fc4zwvasiNo",
        "colab": {
          "base_uri": "https://localhost:8080/"
        },
        "outputId": "eb48e6eb-e393-495f-9fca-591ec310eeb4"
      },
      "outputs": [
        {
          "output_type": "stream",
          "name": "stdout",
          "text": [
            "total of all ohe race data: 22428\n",
            "Race column total contains 22427 non-nulls\n"
          ]
        }
      ],
      "source": [
        "#totaling the race values\n",
        "f = df.Race_Asian.sum()\n",
        "g = df.Race_Black.sum()\n",
        "h = df.Race_Hispanic.sum()\n",
        "i = df.Race_Two_Or_More.sum()\n",
        "j = df.Race_White.sum()\n",
        "print(f'total of all ohe race data: {f+g+h+i+j}')\n",
        "print(f'Race column total contains {(~df.Race.isnull()).sum()} non-nulls')"
      ]
    },
    {
      "cell_type": "markdown",
      "metadata": {
        "id": "BFKwloPCshQc"
      },
      "source": [
        "> - when comparing the ohe columns to the columns containing the same info they have about that same amount of missing data\n",
        "- because there is so much missing data, these columns won't give clear information about the relationship between education and base salary or race and base salary\n"
      ]
    },
    {
      "cell_type": "code",
      "execution_count": null,
      "metadata": {
        "id": "5crze84MMq_j",
        "colab": {
          "base_uri": "https://localhost:8080/",
          "height": 446
        },
        "outputId": "9a9c41a8-c45e-44c8-a0ac-9becede0563a"
      },
      "outputs": [
        {
          "output_type": "stream",
          "name": "stdout",
          "text": [
            "Data table contains 62642 rows and 11 columns\n",
            "\n",
            "\n"
          ]
        },
        {
          "output_type": "execute_result",
          "data": {
            "text/html": [
              "\n",
              "  <div id=\"df-61017d4b-a582-4f99-83e4-85677d689115\">\n",
              "    <div class=\"colab-df-container\">\n",
              "      <div>\n",
              "<style scoped>\n",
              "    .dataframe tbody tr th:only-of-type {\n",
              "        vertical-align: middle;\n",
              "    }\n",
              "\n",
              "    .dataframe tbody tr th {\n",
              "        vertical-align: top;\n",
              "    }\n",
              "\n",
              "    .dataframe thead th {\n",
              "        text-align: right;\n",
              "    }\n",
              "</style>\n",
              "<table border=\"1\" class=\"dataframe\">\n",
              "  <thead>\n",
              "    <tr style=\"text-align: right;\">\n",
              "      <th></th>\n",
              "      <th>company</th>\n",
              "      <th>level</th>\n",
              "      <th>title</th>\n",
              "      <th>location</th>\n",
              "      <th>yearsofexperience</th>\n",
              "      <th>yearsatcompany</th>\n",
              "      <th>tag</th>\n",
              "      <th>basesalary</th>\n",
              "      <th>gender</th>\n",
              "      <th>Race</th>\n",
              "      <th>Education</th>\n",
              "    </tr>\n",
              "  </thead>\n",
              "  <tbody>\n",
              "    <tr>\n",
              "      <th>0</th>\n",
              "      <td>Oracle</td>\n",
              "      <td>L3</td>\n",
              "      <td>Product Manager</td>\n",
              "      <td>Redwood City, CA</td>\n",
              "      <td>1.5</td>\n",
              "      <td>1.5</td>\n",
              "      <td>NaN</td>\n",
              "      <td>107000.0</td>\n",
              "      <td>NaN</td>\n",
              "      <td>NaN</td>\n",
              "      <td>NaN</td>\n",
              "    </tr>\n",
              "    <tr>\n",
              "      <th>1</th>\n",
              "      <td>eBay</td>\n",
              "      <td>SE 2</td>\n",
              "      <td>Software Engineer</td>\n",
              "      <td>San Francisco, CA</td>\n",
              "      <td>5.0</td>\n",
              "      <td>3.0</td>\n",
              "      <td>NaN</td>\n",
              "      <td>0.0</td>\n",
              "      <td>NaN</td>\n",
              "      <td>NaN</td>\n",
              "      <td>NaN</td>\n",
              "    </tr>\n",
              "    <tr>\n",
              "      <th>2</th>\n",
              "      <td>Amazon</td>\n",
              "      <td>L7</td>\n",
              "      <td>Product Manager</td>\n",
              "      <td>Seattle, WA</td>\n",
              "      <td>8.0</td>\n",
              "      <td>0.0</td>\n",
              "      <td>NaN</td>\n",
              "      <td>155000.0</td>\n",
              "      <td>NaN</td>\n",
              "      <td>NaN</td>\n",
              "      <td>NaN</td>\n",
              "    </tr>\n",
              "    <tr>\n",
              "      <th>3</th>\n",
              "      <td>Apple</td>\n",
              "      <td>M1</td>\n",
              "      <td>Software Engineering Manager</td>\n",
              "      <td>Sunnyvale, CA</td>\n",
              "      <td>7.0</td>\n",
              "      <td>5.0</td>\n",
              "      <td>NaN</td>\n",
              "      <td>157000.0</td>\n",
              "      <td>NaN</td>\n",
              "      <td>NaN</td>\n",
              "      <td>NaN</td>\n",
              "    </tr>\n",
              "    <tr>\n",
              "      <th>4</th>\n",
              "      <td>Microsoft</td>\n",
              "      <td>60</td>\n",
              "      <td>Software Engineer</td>\n",
              "      <td>Mountain View, CA</td>\n",
              "      <td>5.0</td>\n",
              "      <td>3.0</td>\n",
              "      <td>NaN</td>\n",
              "      <td>0.0</td>\n",
              "      <td>NaN</td>\n",
              "      <td>NaN</td>\n",
              "      <td>NaN</td>\n",
              "    </tr>\n",
              "  </tbody>\n",
              "</table>\n",
              "</div>\n",
              "      <button class=\"colab-df-convert\" onclick=\"convertToInteractive('df-61017d4b-a582-4f99-83e4-85677d689115')\"\n",
              "              title=\"Convert this dataframe to an interactive table.\"\n",
              "              style=\"display:none;\">\n",
              "        \n",
              "  <svg xmlns=\"http://www.w3.org/2000/svg\" height=\"24px\"viewBox=\"0 0 24 24\"\n",
              "       width=\"24px\">\n",
              "    <path d=\"M0 0h24v24H0V0z\" fill=\"none\"/>\n",
              "    <path d=\"M18.56 5.44l.94 2.06.94-2.06 2.06-.94-2.06-.94-.94-2.06-.94 2.06-2.06.94zm-11 1L8.5 8.5l.94-2.06 2.06-.94-2.06-.94L8.5 2.5l-.94 2.06-2.06.94zm10 10l.94 2.06.94-2.06 2.06-.94-2.06-.94-.94-2.06-.94 2.06-2.06.94z\"/><path d=\"M17.41 7.96l-1.37-1.37c-.4-.4-.92-.59-1.43-.59-.52 0-1.04.2-1.43.59L10.3 9.45l-7.72 7.72c-.78.78-.78 2.05 0 2.83L4 21.41c.39.39.9.59 1.41.59.51 0 1.02-.2 1.41-.59l7.78-7.78 2.81-2.81c.8-.78.8-2.07 0-2.86zM5.41 20L4 18.59l7.72-7.72 1.47 1.35L5.41 20z\"/>\n",
              "  </svg>\n",
              "      </button>\n",
              "      \n",
              "  <style>\n",
              "    .colab-df-container {\n",
              "      display:flex;\n",
              "      flex-wrap:wrap;\n",
              "      gap: 12px;\n",
              "    }\n",
              "\n",
              "    .colab-df-convert {\n",
              "      background-color: #E8F0FE;\n",
              "      border: none;\n",
              "      border-radius: 50%;\n",
              "      cursor: pointer;\n",
              "      display: none;\n",
              "      fill: #1967D2;\n",
              "      height: 32px;\n",
              "      padding: 0 0 0 0;\n",
              "      width: 32px;\n",
              "    }\n",
              "\n",
              "    .colab-df-convert:hover {\n",
              "      background-color: #E2EBFA;\n",
              "      box-shadow: 0px 1px 2px rgba(60, 64, 67, 0.3), 0px 1px 3px 1px rgba(60, 64, 67, 0.15);\n",
              "      fill: #174EA6;\n",
              "    }\n",
              "\n",
              "    [theme=dark] .colab-df-convert {\n",
              "      background-color: #3B4455;\n",
              "      fill: #D2E3FC;\n",
              "    }\n",
              "\n",
              "    [theme=dark] .colab-df-convert:hover {\n",
              "      background-color: #434B5C;\n",
              "      box-shadow: 0px 1px 3px 1px rgba(0, 0, 0, 0.15);\n",
              "      filter: drop-shadow(0px 1px 2px rgba(0, 0, 0, 0.3));\n",
              "      fill: #FFFFFF;\n",
              "    }\n",
              "  </style>\n",
              "\n",
              "      <script>\n",
              "        const buttonEl =\n",
              "          document.querySelector('#df-61017d4b-a582-4f99-83e4-85677d689115 button.colab-df-convert');\n",
              "        buttonEl.style.display =\n",
              "          google.colab.kernel.accessAllowed ? 'block' : 'none';\n",
              "\n",
              "        async function convertToInteractive(key) {\n",
              "          const element = document.querySelector('#df-61017d4b-a582-4f99-83e4-85677d689115');\n",
              "          const dataTable =\n",
              "            await google.colab.kernel.invokeFunction('convertToInteractive',\n",
              "                                                     [key], {});\n",
              "          if (!dataTable) return;\n",
              "\n",
              "          const docLinkHtml = 'Like what you see? Visit the ' +\n",
              "            '<a target=\"_blank\" href=https://colab.research.google.com/notebooks/data_table.ipynb>data table notebook</a>'\n",
              "            + ' to learn more about interactive tables.';\n",
              "          element.innerHTML = '';\n",
              "          dataTable['output_type'] = 'display_data';\n",
              "          await google.colab.output.renderOutput(dataTable, element);\n",
              "          const docLink = document.createElement('div');\n",
              "          docLink.innerHTML = docLinkHtml;\n",
              "          element.appendChild(docLink);\n",
              "        }\n",
              "      </script>\n",
              "    </div>\n",
              "  </div>\n",
              "  "
            ],
            "text/plain": [
              "     company level                         title  ... gender  Race  Education\n",
              "0     Oracle    L3               Product Manager  ...    NaN   NaN        NaN\n",
              "1       eBay  SE 2             Software Engineer  ...    NaN   NaN        NaN\n",
              "2     Amazon    L7               Product Manager  ...    NaN   NaN        NaN\n",
              "3      Apple    M1  Software Engineering Manager  ...    NaN   NaN        NaN\n",
              "4  Microsoft    60             Software Engineer  ...    NaN   NaN        NaN\n",
              "\n",
              "[5 rows x 11 columns]"
            ]
          },
          "metadata": {},
          "execution_count": 15
        }
      ],
      "source": [
        "df2= df.drop(columns=['otherdetails','dmaid','rowNumber','cityid','Masters_Degree','Bachelors_Degree','Doctorate_Degree','Highschool','Some_College','Race_Asian', 'Race_White', 'Race_Two_Or_More', 'Race_Black', 'Race_Hispanic','timestamp','totalyearlycompensation','stockgrantvalue','bonus'])\n",
        "print(f'Data table contains {df2.shape[0]} rows and {df2.shape[1]} columns')\n",
        "print('\\n')\n",
        "df2.head()"
      ]
    },
    {
      "cell_type": "code",
      "execution_count": null,
      "metadata": {
        "id": "kMir3Q5_R3mE",
        "colab": {
          "base_uri": "https://localhost:8080/"
        },
        "outputId": "dd135517-8b1b-44c4-852a-f47155284344"
      },
      "outputs": [
        {
          "output_type": "stream",
          "name": "stdout",
          "text": [
            "<class 'pandas.core.frame.DataFrame'>\n",
            "RangeIndex: 62642 entries, 0 to 62641\n",
            "Data columns (total 11 columns):\n",
            " #   Column             Non-Null Count  Dtype  \n",
            "---  ------             --------------  -----  \n",
            " 0   company            62637 non-null  object \n",
            " 1   level              62523 non-null  object \n",
            " 2   title              62642 non-null  object \n",
            " 3   location           62642 non-null  object \n",
            " 4   yearsofexperience  62642 non-null  float64\n",
            " 5   yearsatcompany     62642 non-null  float64\n",
            " 6   tag                61788 non-null  object \n",
            " 7   basesalary         62642 non-null  float64\n",
            " 8   gender             43102 non-null  object \n",
            " 9   Race               22427 non-null  object \n",
            " 10  Education          30370 non-null  object \n",
            "dtypes: float64(3), object(8)\n",
            "memory usage: 5.3+ MB\n"
          ]
        }
      ],
      "source": [
        "df2.info()"
      ]
    },
    {
      "cell_type": "code",
      "source": [
        "df2.basesalary.value_counts()"
      ],
      "metadata": {
        "colab": {
          "base_uri": "https://localhost:8080/"
        },
        "id": "L4K-mRcksyq7",
        "outputId": "12e8b6f1-0091-4c30-e183-602bc308db6c"
      },
      "execution_count": null,
      "outputs": [
        {
          "output_type": "execute_result",
          "data": {
            "text/plain": [
              "160000.0    2806\n",
              "0.0         2304\n",
              "150000.0    2265\n",
              "130000.0    1721\n",
              "140000.0    1684\n",
              "            ... \n",
              "655000.0       1\n",
              "620000.0       1\n",
              "138814.0       1\n",
              "640000.0       1\n",
              "102200.0       1\n",
              "Name: basesalary, Length: 482, dtype: int64"
            ]
          },
          "metadata": {},
          "execution_count": 17
        }
      ]
    },
    {
      "cell_type": "code",
      "source": [
        "for i in range(109,len(df2)):\n",
        "  median_bs = df2.basesalary.median()\n",
        "  if (df2['basesalary'][i] == 0):\n",
        "    df2['basesalary'] = df2['basesalary'].replace(0,median_bs)"
      ],
      "metadata": {
        "id": "tPLbXQvLsGIw"
      },
      "execution_count": null,
      "outputs": []
    },
    {
      "cell_type": "code",
      "source": [
        "df2.basesalary.value_counts()"
      ],
      "metadata": {
        "id": "VEHTm1hcegL4",
        "colab": {
          "base_uri": "https://localhost:8080/"
        },
        "outputId": "00a8b1fe-05dd-4e05-edbd-3b7ce0f30792"
      },
      "execution_count": null,
      "outputs": [
        {
          "output_type": "execute_result",
          "data": {
            "text/plain": [
              "140000.0    3988\n",
              "160000.0    2806\n",
              "150000.0    2265\n",
              "130000.0    1721\n",
              "120000.0    1680\n",
              "            ... \n",
              "655000.0       1\n",
              "102200.0       1\n",
              "620000.0       1\n",
              "138814.0       1\n",
              "138890.0       1\n",
              "Name: basesalary, Length: 481, dtype: int64"
            ]
          },
          "metadata": {},
          "execution_count": 19
        }
      ]
    },
    {
      "cell_type": "code",
      "execution_count": null,
      "metadata": {
        "id": "YLzuiPvIgOaL"
      },
      "outputs": [],
      "source": [
        "#library for missing data graphics\n",
        "import missingno as msno"
      ]
    },
    {
      "cell_type": "code",
      "execution_count": null,
      "metadata": {
        "id": "Vv7hrGvVgmm3",
        "colab": {
          "base_uri": "https://localhost:8080/",
          "height": 558
        },
        "outputId": "dc651914-e8ab-43d3-e026-162176d91789"
      },
      "outputs": [
        {
          "output_type": "display_data",
          "data": {
            "image/png": "[encoded data removed]",
            "text/plain": [
              "<Figure size 864x576 with 3 Axes>"
            ]
          },
          "metadata": {
            "needs_background": "light"
          }
        }
      ],
      "source": [
        "msno.bar(df2, figsize=(12,8));"
      ]
    },
    {
      "cell_type": "markdown",
      "metadata": {
        "id": "D9Vxhd72-FG5"
      },
      "source": [
        "> <mark>*graph gives a clear picture of which columns have missing data and how much data is missing*</mark>"
      ]
    },
    {
      "cell_type": "markdown",
      "metadata": {
        "id": "JI8z_Wt8oPDa"
      },
      "source": [
        "------------\n",
        "## **Missing Data**\n",
        "- **5** missing in `company` column\n",
        "  - can impute with mode\n",
        "- **119** missing in `level` column\n",
        "  - can impute with mode\n",
        "- **19540** missing in `gender` column\n",
        "  - can impute with mode\n",
        "- **40215** missing in `Race`column\n",
        "  - impute with mode and ohe\n",
        "- **32272** missing in `Education` column\n",
        " - impute with mode and ohe\n",
        "- technically there is missing `basesalary` column\n",
        "  - there are a number of `0` values which should be imputed with mean\n",
        "\n",
        "--------------"
      ]
    },
    {
      "cell_type": "markdown",
      "metadata": {
        "id": "2B2Yoizm06je"
      },
      "source": [
        "## **Duplicated Data**"
      ]
    },
    {
      "cell_type": "code",
      "execution_count": null,
      "metadata": {
        "id": "PvhXZFlq1n5J",
        "colab": {
          "base_uri": "https://localhost:8080/"
        },
        "outputId": "07ac628f-2039-49d1-fd3f-93d05c327fdd"
      },
      "outputs": [
        {
          "output_type": "stream",
          "name": "stdout",
          "text": [
            "934 duplicates\n"
          ]
        }
      ],
      "source": [
        "print(f'{df2.duplicated().sum()} duplicates')"
      ]
    },
    {
      "cell_type": "code",
      "execution_count": null,
      "metadata": {
        "id": "r0yg4Xlt4syx"
      },
      "outputs": [],
      "source": [
        "df2 = df2.drop_duplicates()"
      ]
    },
    {
      "cell_type": "code",
      "execution_count": null,
      "metadata": {
        "id": "_tYMsRVp2GtN",
        "colab": {
          "base_uri": "https://localhost:8080/"
        },
        "outputId": "faaadd8f-5070-4268-a890-962369920cbb"
      },
      "outputs": [
        {
          "output_type": "stream",
          "name": "stdout",
          "text": [
            "Now there are 0 duplicates\n"
          ]
        }
      ],
      "source": [
        "print(f'Now there are {df2.duplicated().sum()} duplicates')"
      ]
    },
    {
      "cell_type": "markdown",
      "metadata": {
        "id": "kONCZzU1_QF2"
      },
      "source": [
        "## **Exploratory Data Visualizations**\n",
        "\n",
        "> Indented block\n",
        "\n"
      ]
    },
    {
      "cell_type": "code",
      "execution_count": null,
      "metadata": {
        "id": "fqR1I9iHCZQW"
      },
      "outputs": [],
      "source": [
        "#import visual libraries\n",
        "import matplotlib.pyplot as plt\n",
        "import seaborn as sns"
      ]
    },
    {
      "cell_type": "code",
      "execution_count": null,
      "metadata": {
        "id": "X3Hq61TTqm8G",
        "colab": {
          "base_uri": "https://localhost:8080/",
          "height": 143
        },
        "outputId": "7b63972e-76a4-4c29-c4e9-df2bbecf6e17"
      },
      "outputs": [
        {
          "output_type": "execute_result",
          "data": {
            "text/html": [
              "<style  type=\"text/css\" >\n",
              "#T_7dbfcbae_7ae4_11ec_b287_0242ac1c0002row0_col0,#T_7dbfcbae_7ae4_11ec_b287_0242ac1c0002row1_col1,#T_7dbfcbae_7ae4_11ec_b287_0242ac1c0002row2_col2{\n",
              "            background-color:  #023858;\n",
              "            color:  #f1f1f1;\n",
              "        }#T_7dbfcbae_7ae4_11ec_b287_0242ac1c0002row0_col1{\n",
              "            background-color:  #96b6d7;\n",
              "            color:  #000000;\n",
              "        }#T_7dbfcbae_7ae4_11ec_b287_0242ac1c0002row0_col2{\n",
              "            background-color:  #c0c9e2;\n",
              "            color:  #000000;\n",
              "        }#T_7dbfcbae_7ae4_11ec_b287_0242ac1c0002row1_col0{\n",
              "            background-color:  #e2dfee;\n",
              "            color:  #000000;\n",
              "        }#T_7dbfcbae_7ae4_11ec_b287_0242ac1c0002row1_col2,#T_7dbfcbae_7ae4_11ec_b287_0242ac1c0002row2_col0,#T_7dbfcbae_7ae4_11ec_b287_0242ac1c0002row2_col1{\n",
              "            background-color:  #fff7fb;\n",
              "            color:  #000000;\n",
              "        }</style><table id=\"T_7dbfcbae_7ae4_11ec_b287_0242ac1c0002\" class=\"dataframe\"><thead>    <tr>        <th class=\"blank level0\" ></th>        <th class=\"col_heading level0 col0\" >yearsofexperience</th>        <th class=\"col_heading level0 col1\" >yearsatcompany</th>        <th class=\"col_heading level0 col2\" >basesalary</th>    </tr></thead><tbody>\n",
              "                <tr>\n",
              "                        <th id=\"T_7dbfcbae_7ae4_11ec_b287_0242ac1c0002level0_row0\" class=\"row_heading level0 row0\" >yearsofexperience</th>\n",
              "                        <td id=\"T_7dbfcbae_7ae4_11ec_b287_0242ac1c0002row0_col0\" class=\"data row0 col0\" >1.000000</td>\n",
              "                        <td id=\"T_7dbfcbae_7ae4_11ec_b287_0242ac1c0002row0_col1\" class=\"data row0 col1\" >0.520272</td>\n",
              "                        <td id=\"T_7dbfcbae_7ae4_11ec_b287_0242ac1c0002row0_col2\" class=\"data row0 col2\" >0.422054</td>\n",
              "            </tr>\n",
              "            <tr>\n",
              "                        <th id=\"T_7dbfcbae_7ae4_11ec_b287_0242ac1c0002level0_row1\" class=\"row_heading level0 row1\" >yearsatcompany</th>\n",
              "                        <td id=\"T_7dbfcbae_7ae4_11ec_b287_0242ac1c0002row1_col0\" class=\"data row1 col0\" >0.520272</td>\n",
              "                        <td id=\"T_7dbfcbae_7ae4_11ec_b287_0242ac1c0002row1_col1\" class=\"data row1 col1\" >1.000000</td>\n",
              "                        <td id=\"T_7dbfcbae_7ae4_11ec_b287_0242ac1c0002row1_col2\" class=\"data row1 col2\" >0.177238</td>\n",
              "            </tr>\n",
              "            <tr>\n",
              "                        <th id=\"T_7dbfcbae_7ae4_11ec_b287_0242ac1c0002level0_row2\" class=\"row_heading level0 row2\" >basesalary</th>\n",
              "                        <td id=\"T_7dbfcbae_7ae4_11ec_b287_0242ac1c0002row2_col0\" class=\"data row2 col0\" >0.422054</td>\n",
              "                        <td id=\"T_7dbfcbae_7ae4_11ec_b287_0242ac1c0002row2_col1\" class=\"data row2 col1\" >0.177238</td>\n",
              "                        <td id=\"T_7dbfcbae_7ae4_11ec_b287_0242ac1c0002row2_col2\" class=\"data row2 col2\" >1.000000</td>\n",
              "            </tr>\n",
              "    </tbody></table>"
            ],
            "text/plain": [
              "<pandas.io.formats.style.Styler at 0x7f28b1afda10>"
            ]
          },
          "metadata": {},
          "execution_count": 26
        }
      ],
      "source": [
        "#make visuals for targets and features\n",
        "#heatmap\n",
        "corr = df2.corr()\n",
        "corr.style.background_gradient()\n"
      ]
    },
    {
      "cell_type": "code",
      "execution_count": null,
      "metadata": {
        "id": "cCJ4bJBD5Jh2",
        "colab": {
          "base_uri": "https://localhost:8080/"
        },
        "outputId": "aa42b1b2-2e03-4f6b-dbe4-24d6f8a1acb8"
      },
      "outputs": [
        {
          "output_type": "execute_result",
          "data": {
            "text/plain": [
              "Seattle, WA               8413\n",
              "San Francisco, CA         6734\n",
              "New York, NY              4483\n",
              "Redmond, WA               2533\n",
              "Mountain View, CA         2238\n",
              "                          ... \n",
              "Yangon, YA, Burma            1\n",
              "Hawaiian Gardens, CA         1\n",
              "Peachtree City, GA           1\n",
              "Bielefeld, NW, Germany       1\n",
              "Dayton, OH                   1\n",
              "Name: location, Length: 1050, dtype: int64"
            ]
          },
          "metadata": {},
          "execution_count": 27
        }
      ],
      "source": [
        "df2.location.value_counts()"
      ]
    },
    {
      "cell_type": "code",
      "execution_count": null,
      "metadata": {
        "id": "0LCIInWU2Vjq",
        "colab": {
          "base_uri": "https://localhost:8080/",
          "height": 380
        },
        "outputId": "d0f3e9c2-eee8-4134-f7d0-ddea0d1ee572"
      },
      "outputs": [
        {
          "output_type": "display_data",
          "data": {
            "image/png": "[encoded data removed]",
            "text/plain": [
              "<Figure size 432x288 with 1 Axes>"
            ]
          },
          "metadata": {
            "needs_background": "light"
          }
        }
      ],
      "source": [
        "df2.location.value_counts()[:10].plot(kind='bar');\n",
        "plt.title('Top 10 Locations', fontsize=14)\n",
        "plt.xlabel('Locations')\n",
        "plt.ylabel('Number of People Working at Location');"
      ]
    },
    {
      "cell_type": "code",
      "execution_count": null,
      "metadata": {
        "id": "CWb7E9UR5ibG",
        "colab": {
          "base_uri": "https://localhost:8080/"
        },
        "outputId": "a0179717-08ea-42b0-e84f-0ad998783e80"
      },
      "outputs": [
        {
          "output_type": "execute_result",
          "data": {
            "text/plain": [
              "Software Engineer               40459\n",
              "Product Manager                  4636\n",
              "Software Engineering Manager     3526\n",
              "Data Scientist                   2552\n",
              "Hardware Engineer                2182\n",
              "Product Designer                 1507\n",
              "Technical Program Manager        1377\n",
              "Solution Architect               1145\n",
              "Management Consultant             973\n",
              "Business Analyst                  879\n",
              "Marketing                         710\n",
              "Mechanical Engineer               487\n",
              "Sales                             460\n",
              "Recruiter                         451\n",
              "Human Resources                   364\n",
              "Name: title, dtype: int64"
            ]
          },
          "metadata": {},
          "execution_count": 29
        }
      ],
      "source": [
        "df2.title.value_counts()"
      ]
    },
    {
      "cell_type": "code",
      "execution_count": null,
      "metadata": {
        "id": "fvu-dJEU2H_B",
        "colab": {
          "base_uri": "https://localhost:8080/",
          "height": 442
        },
        "outputId": "06077f79-5752-4712-9d53-ccc60f432205"
      },
      "outputs": [
        {
          "output_type": "display_data",
          "data": {
            "image/png": "[encoded data removed]",
            "text/plain": [
              "<Figure size 432x288 with 1 Axes>"
            ]
          },
          "metadata": {
            "needs_background": "light"
          }
        }
      ],
      "source": [
        "df2.title.value_counts().plot(kind='bar')\n",
        "plt.title('Job Title Counts', fontsize=16)\n",
        "plt.xlabel('Job Titles')\n",
        "plt.ylabel('Number of People with the Job Title');"
      ]
    },
    {
      "cell_type": "markdown",
      "metadata": {
        "id": "i3SUUKuXFdGX"
      },
      "source": [
        "> ### **Additional Dataframe** \n",
        "created an additional dataframe which contains data with the 25 highest total yearly compensations"
      ]
    },
    {
      "cell_type": "code",
      "execution_count": null,
      "metadata": {
        "id": "0jePbfhy9nlw",
        "colab": {
          "base_uri": "https://localhost:8080/",
          "height": 1000
        },
        "outputId": "3b296bac-dbb0-4029-ecfb-bdd93646b6a6"
      },
      "outputs": [
        {
          "output_type": "execute_result",
          "data": {
            "text/html": [
              "\n",
              "  <div id=\"df-9b6665fc-1c0b-4d25-9fdf-44d6e9a7b2e1\">\n",
              "    <div class=\"colab-df-container\">\n",
              "      <div>\n",
              "<style scoped>\n",
              "    .dataframe tbody tr th:only-of-type {\n",
              "        vertical-align: middle;\n",
              "    }\n",
              "\n",
              "    .dataframe tbody tr th {\n",
              "        vertical-align: top;\n",
              "    }\n",
              "\n",
              "    .dataframe thead th {\n",
              "        text-align: right;\n",
              "    }\n",
              "</style>\n",
              "<table border=\"1\" class=\"dataframe\">\n",
              "  <thead>\n",
              "    <tr style=\"text-align: right;\">\n",
              "      <th></th>\n",
              "      <th>company</th>\n",
              "      <th>level</th>\n",
              "      <th>title</th>\n",
              "      <th>location</th>\n",
              "      <th>yearsofexperience</th>\n",
              "      <th>yearsatcompany</th>\n",
              "      <th>tag</th>\n",
              "      <th>basesalary</th>\n",
              "      <th>gender</th>\n",
              "      <th>Race</th>\n",
              "      <th>Education</th>\n",
              "    </tr>\n",
              "  </thead>\n",
              "  <tbody>\n",
              "    <tr>\n",
              "      <th>62351</th>\n",
              "      <td>Microsoft</td>\n",
              "      <td>64</td>\n",
              "      <td>Product Manager</td>\n",
              "      <td>Redmond, WA</td>\n",
              "      <td>13.0</td>\n",
              "      <td>13.0</td>\n",
              "      <td>NaN</td>\n",
              "      <td>1659870.0</td>\n",
              "      <td>NaN</td>\n",
              "      <td>NaN</td>\n",
              "      <td>NaN</td>\n",
              "    </tr>\n",
              "    <tr>\n",
              "      <th>61851</th>\n",
              "      <td>Squarespace</td>\n",
              "      <td>Senior I</td>\n",
              "      <td>Software Engineer</td>\n",
              "      <td>New York, NY</td>\n",
              "      <td>7.0</td>\n",
              "      <td>7.0</td>\n",
              "      <td>API Development (Back-End)</td>\n",
              "      <td>1620000.0</td>\n",
              "      <td>Male</td>\n",
              "      <td>NaN</td>\n",
              "      <td>NaN</td>\n",
              "    </tr>\n",
              "    <tr>\n",
              "      <th>45054</th>\n",
              "      <td>PwC</td>\n",
              "      <td>Partner / Principal</td>\n",
              "      <td>Management Consultant</td>\n",
              "      <td>Raleigh, NC</td>\n",
              "      <td>22.0</td>\n",
              "      <td>4.0</td>\n",
              "      <td>Cloud, IoT</td>\n",
              "      <td>900000.0</td>\n",
              "      <td>Male</td>\n",
              "      <td>Asian</td>\n",
              "      <td>Master's Degree</td>\n",
              "    </tr>\n",
              "    <tr>\n",
              "      <th>56175</th>\n",
              "      <td>Netflix</td>\n",
              "      <td>Senior Software Engineer</td>\n",
              "      <td>Software Engineer</td>\n",
              "      <td>Los Gatos, CA</td>\n",
              "      <td>19.0</td>\n",
              "      <td>8.0</td>\n",
              "      <td>Platform</td>\n",
              "      <td>893000.0</td>\n",
              "      <td>Male</td>\n",
              "      <td>White</td>\n",
              "      <td>Bachelor's Degree</td>\n",
              "    </tr>\n",
              "    <tr>\n",
              "      <th>57701</th>\n",
              "      <td>Netflix</td>\n",
              "      <td>Senior Software Engineer</td>\n",
              "      <td>Software Engineer</td>\n",
              "      <td>Los Gatos, CA</td>\n",
              "      <td>15.0</td>\n",
              "      <td>7.0</td>\n",
              "      <td>Video</td>\n",
              "      <td>861000.0</td>\n",
              "      <td>Male</td>\n",
              "      <td>White</td>\n",
              "      <td>Bachelor's Degree</td>\n",
              "    </tr>\n",
              "    <tr>\n",
              "      <th>61967</th>\n",
              "      <td>Microsoft</td>\n",
              "      <td>80</td>\n",
              "      <td>Software Engineering Manager</td>\n",
              "      <td>Redmond, WA</td>\n",
              "      <td>24.0</td>\n",
              "      <td>8.0</td>\n",
              "      <td>ML / AI</td>\n",
              "      <td>850000.0</td>\n",
              "      <td>Male</td>\n",
              "      <td>NaN</td>\n",
              "      <td>NaN</td>\n",
              "    </tr>\n",
              "    <tr>\n",
              "      <th>56529</th>\n",
              "      <td>Netflix</td>\n",
              "      <td>Senior Software Engineer</td>\n",
              "      <td>Software Engineer</td>\n",
              "      <td>Los Gatos, CA</td>\n",
              "      <td>20.0</td>\n",
              "      <td>6.0</td>\n",
              "      <td>Full Stack</td>\n",
              "      <td>840000.0</td>\n",
              "      <td>NaN</td>\n",
              "      <td>NaN</td>\n",
              "      <td>NaN</td>\n",
              "    </tr>\n",
              "    <tr>\n",
              "      <th>16640</th>\n",
              "      <td>Netflix</td>\n",
              "      <td>Director</td>\n",
              "      <td>Product Manager</td>\n",
              "      <td>Los Altos, CA</td>\n",
              "      <td>20.0</td>\n",
              "      <td>2.0</td>\n",
              "      <td>NaN</td>\n",
              "      <td>800000.0</td>\n",
              "      <td>NaN</td>\n",
              "      <td>NaN</td>\n",
              "      <td>Master's Degree</td>\n",
              "    </tr>\n",
              "    <tr>\n",
              "      <th>37462</th>\n",
              "      <td>Netflix</td>\n",
              "      <td>Manager</td>\n",
              "      <td>Software Engineering Manager</td>\n",
              "      <td>Los Gatos, CA</td>\n",
              "      <td>8.0</td>\n",
              "      <td>3.0</td>\n",
              "      <td>API Development (Back-End)</td>\n",
              "      <td>800000.0</td>\n",
              "      <td>Male</td>\n",
              "      <td>Asian</td>\n",
              "      <td>Bachelor's Degree</td>\n",
              "    </tr>\n",
              "    <tr>\n",
              "      <th>36746</th>\n",
              "      <td>Netflix</td>\n",
              "      <td>Senior Software Engineer</td>\n",
              "      <td>Software Engineer</td>\n",
              "      <td>Los Gatos, CA</td>\n",
              "      <td>8.0</td>\n",
              "      <td>5.0</td>\n",
              "      <td>Distributed Systems (Back-End)</td>\n",
              "      <td>800000.0</td>\n",
              "      <td>Male</td>\n",
              "      <td>NaN</td>\n",
              "      <td>Bachelor's Degree</td>\n",
              "    </tr>\n",
              "    <tr>\n",
              "      <th>45210</th>\n",
              "      <td>HERE Technologies</td>\n",
              "      <td>11</td>\n",
              "      <td>Product Manager</td>\n",
              "      <td>Chicago, IL</td>\n",
              "      <td>13.0</td>\n",
              "      <td>10.0</td>\n",
              "      <td>Product</td>\n",
              "      <td>794000.0</td>\n",
              "      <td>NaN</td>\n",
              "      <td>NaN</td>\n",
              "      <td>NaN</td>\n",
              "    </tr>\n",
              "    <tr>\n",
              "      <th>38957</th>\n",
              "      <td>Netflix</td>\n",
              "      <td>Senior Software Engineer</td>\n",
              "      <td>Software Engineer</td>\n",
              "      <td>Los Gatos, CA</td>\n",
              "      <td>20.0</td>\n",
              "      <td>6.0</td>\n",
              "      <td>Rather not say</td>\n",
              "      <td>760000.0</td>\n",
              "      <td>Male</td>\n",
              "      <td>White</td>\n",
              "      <td>Bachelor's Degree</td>\n",
              "    </tr>\n",
              "    <tr>\n",
              "      <th>30642</th>\n",
              "      <td>Netflix</td>\n",
              "      <td>Director</td>\n",
              "      <td>Marketing</td>\n",
              "      <td>Hollywood, CA</td>\n",
              "      <td>15.0</td>\n",
              "      <td>0.0</td>\n",
              "      <td>Marketing</td>\n",
              "      <td>750000.0</td>\n",
              "      <td>NaN</td>\n",
              "      <td>NaN</td>\n",
              "      <td>NaN</td>\n",
              "    </tr>\n",
              "    <tr>\n",
              "      <th>12177</th>\n",
              "      <td>Netflix</td>\n",
              "      <td>Senior Software Engineer</td>\n",
              "      <td>Software Engineer</td>\n",
              "      <td>Los Gatos, CA</td>\n",
              "      <td>15.0</td>\n",
              "      <td>7.0</td>\n",
              "      <td>Security</td>\n",
              "      <td>750000.0</td>\n",
              "      <td>Male</td>\n",
              "      <td>NaN</td>\n",
              "      <td>NaN</td>\n",
              "    </tr>\n",
              "    <tr>\n",
              "      <th>40726</th>\n",
              "      <td>Netflix</td>\n",
              "      <td>Senior Software Engineer</td>\n",
              "      <td>Software Engineer</td>\n",
              "      <td>Los Angeles, CA</td>\n",
              "      <td>9.0</td>\n",
              "      <td>0.0</td>\n",
              "      <td>Web Development (Front-End)</td>\n",
              "      <td>715000.0</td>\n",
              "      <td>NaN</td>\n",
              "      <td>NaN</td>\n",
              "      <td>NaN</td>\n",
              "    </tr>\n",
              "    <tr>\n",
              "      <th>35536</th>\n",
              "      <td>Netflix</td>\n",
              "      <td>Senior Software Engineer</td>\n",
              "      <td>Software Engineer</td>\n",
              "      <td>Los Gatos, CA</td>\n",
              "      <td>20.0</td>\n",
              "      <td>4.0</td>\n",
              "      <td>Full Stack</td>\n",
              "      <td>700000.0</td>\n",
              "      <td>Male</td>\n",
              "      <td>White</td>\n",
              "      <td>NaN</td>\n",
              "    </tr>\n",
              "    <tr>\n",
              "      <th>29811</th>\n",
              "      <td>Netflix</td>\n",
              "      <td>Senior Software Engineer</td>\n",
              "      <td>Software Engineering Manager</td>\n",
              "      <td>Los Gatos, CA</td>\n",
              "      <td>10.0</td>\n",
              "      <td>2.0</td>\n",
              "      <td>Full Stack</td>\n",
              "      <td>700000.0</td>\n",
              "      <td>Male</td>\n",
              "      <td>Asian</td>\n",
              "      <td>Master's Degree</td>\n",
              "    </tr>\n",
              "    <tr>\n",
              "      <th>37231</th>\n",
              "      <td>Netflix</td>\n",
              "      <td>Senior Software Engineer</td>\n",
              "      <td>Software Engineer</td>\n",
              "      <td>Los Gatos, CA</td>\n",
              "      <td>15.0</td>\n",
              "      <td>5.0</td>\n",
              "      <td>ML / AI</td>\n",
              "      <td>700000.0</td>\n",
              "      <td>Male</td>\n",
              "      <td>Asian</td>\n",
              "      <td>NaN</td>\n",
              "    </tr>\n",
              "    <tr>\n",
              "      <th>57518</th>\n",
              "      <td>Netflix</td>\n",
              "      <td>Engineering Manager</td>\n",
              "      <td>Software Engineering Manager</td>\n",
              "      <td>Los Gatos, CA</td>\n",
              "      <td>18.0</td>\n",
              "      <td>6.0</td>\n",
              "      <td>Distributed Systems (Back-End)</td>\n",
              "      <td>700000.0</td>\n",
              "      <td>NaN</td>\n",
              "      <td>NaN</td>\n",
              "      <td>NaN</td>\n",
              "    </tr>\n",
              "    <tr>\n",
              "      <th>35867</th>\n",
              "      <td>Netflix</td>\n",
              "      <td>Only one level across Netflix</td>\n",
              "      <td>Data Scientist</td>\n",
              "      <td>Los Angeles, CA</td>\n",
              "      <td>8.0</td>\n",
              "      <td>4.0</td>\n",
              "      <td>ML / AI</td>\n",
              "      <td>700000.0</td>\n",
              "      <td>NaN</td>\n",
              "      <td>NaN</td>\n",
              "      <td>PhD</td>\n",
              "    </tr>\n",
              "    <tr>\n",
              "      <th>14417</th>\n",
              "      <td>Netflix</td>\n",
              "      <td>Senior Software Engineer</td>\n",
              "      <td>Data Scientist</td>\n",
              "      <td>Los Angeles, CA</td>\n",
              "      <td>7.0</td>\n",
              "      <td>4.0</td>\n",
              "      <td>ML / AI</td>\n",
              "      <td>700000.0</td>\n",
              "      <td>Male</td>\n",
              "      <td>NaN</td>\n",
              "      <td>PhD</td>\n",
              "    </tr>\n",
              "    <tr>\n",
              "      <th>58406</th>\n",
              "      <td>IBM</td>\n",
              "      <td>Band 9</td>\n",
              "      <td>Marketing</td>\n",
              "      <td>Dubai, DU, United Arab Emirates</td>\n",
              "      <td>14.0</td>\n",
              "      <td>8.0</td>\n",
              "      <td>Marketing</td>\n",
              "      <td>696000.0</td>\n",
              "      <td>NaN</td>\n",
              "      <td>NaN</td>\n",
              "      <td>NaN</td>\n",
              "    </tr>\n",
              "    <tr>\n",
              "      <th>45642</th>\n",
              "      <td>Netflix</td>\n",
              "      <td>Senior Software Engineer</td>\n",
              "      <td>Software Engineer</td>\n",
              "      <td>Los Gatos, CA</td>\n",
              "      <td>18.0</td>\n",
              "      <td>9.0</td>\n",
              "      <td>Distributed Systems (Back-End)</td>\n",
              "      <td>693000.0</td>\n",
              "      <td>NaN</td>\n",
              "      <td>NaN</td>\n",
              "      <td>Master's Degree</td>\n",
              "    </tr>\n",
              "    <tr>\n",
              "      <th>46371</th>\n",
              "      <td>Brex</td>\n",
              "      <td>Staff Software Engineer</td>\n",
              "      <td>Software Engineer</td>\n",
              "      <td>San Francisco, CA</td>\n",
              "      <td>10.0</td>\n",
              "      <td>0.0</td>\n",
              "      <td>Distributed Systems (Back-End)</td>\n",
              "      <td>690000.0</td>\n",
              "      <td>NaN</td>\n",
              "      <td>NaN</td>\n",
              "      <td>NaN</td>\n",
              "    </tr>\n",
              "    <tr>\n",
              "      <th>52716</th>\n",
              "      <td>Netflix</td>\n",
              "      <td>Senior Software Engineer</td>\n",
              "      <td>Software Engineer</td>\n",
              "      <td>Los Gatos, CA</td>\n",
              "      <td>9.0</td>\n",
              "      <td>4.0</td>\n",
              "      <td>Distributed Systems (Back-End)</td>\n",
              "      <td>683000.0</td>\n",
              "      <td>Male</td>\n",
              "      <td>White</td>\n",
              "      <td>Bachelor's Degree</td>\n",
              "    </tr>\n",
              "  </tbody>\n",
              "</table>\n",
              "</div>\n",
              "      <button class=\"colab-df-convert\" onclick=\"convertToInteractive('df-9b6665fc-1c0b-4d25-9fdf-44d6e9a7b2e1')\"\n",
              "              title=\"Convert this dataframe to an interactive table.\"\n",
              "              style=\"display:none;\">\n",
              "        \n",
              "  <svg xmlns=\"http://www.w3.org/2000/svg\" height=\"24px\"viewBox=\"0 0 24 24\"\n",
              "       width=\"24px\">\n",
              "    <path d=\"M0 0h24v24H0V0z\" fill=\"none\"/>\n",
              "    <path d=\"M18.56 5.44l.94 2.06.94-2.06 2.06-.94-2.06-.94-.94-2.06-.94 2.06-2.06.94zm-11 1L8.5 8.5l.94-2.06 2.06-.94-2.06-.94L8.5 2.5l-.94 2.06-2.06.94zm10 10l.94 2.06.94-2.06 2.06-.94-2.06-.94-.94-2.06-.94 2.06-2.06.94z\"/><path d=\"M17.41 7.96l-1.37-1.37c-.4-.4-.92-.59-1.43-.59-.52 0-1.04.2-1.43.59L10.3 9.45l-7.72 7.72c-.78.78-.78 2.05 0 2.83L4 21.41c.39.39.9.59 1.41.59.51 0 1.02-.2 1.41-.59l7.78-7.78 2.81-2.81c.8-.78.8-2.07 0-2.86zM5.41 20L4 18.59l7.72-7.72 1.47 1.35L5.41 20z\"/>\n",
              "  </svg>\n",
              "      </button>\n",
              "      \n",
              "  <style>\n",
              "    .colab-df-container {\n",
              "      display:flex;\n",
              "      flex-wrap:wrap;\n",
              "      gap: 12px;\n",
              "    }\n",
              "\n",
              "    .colab-df-convert {\n",
              "      background-color: #E8F0FE;\n",
              "      border: none;\n",
              "      border-radius: 50%;\n",
              "      cursor: pointer;\n",
              "      display: none;\n",
              "      fill: #1967D2;\n",
              "      height: 32px;\n",
              "      padding: 0 0 0 0;\n",
              "      width: 32px;\n",
              "    }\n",
              "\n",
              "    .colab-df-convert:hover {\n",
              "      background-color: #E2EBFA;\n",
              "      box-shadow: 0px 1px 2px rgba(60, 64, 67, 0.3), 0px 1px 3px 1px rgba(60, 64, 67, 0.15);\n",
              "      fill: #174EA6;\n",
              "    }\n",
              "\n",
              "    [theme=dark] .colab-df-convert {\n",
              "      background-color: #3B4455;\n",
              "      fill: #D2E3FC;\n",
              "    }\n",
              "\n",
              "    [theme=dark] .colab-df-convert:hover {\n",
              "      background-color: #434B5C;\n",
              "      box-shadow: 0px 1px 3px 1px rgba(0, 0, 0, 0.15);\n",
              "      filter: drop-shadow(0px 1px 2px rgba(0, 0, 0, 0.3));\n",
              "      fill: #FFFFFF;\n",
              "    }\n",
              "  </style>\n",
              "\n",
              "      <script>\n",
              "        const buttonEl =\n",
              "          document.querySelector('#df-9b6665fc-1c0b-4d25-9fdf-44d6e9a7b2e1 button.colab-df-convert');\n",
              "        buttonEl.style.display =\n",
              "          google.colab.kernel.accessAllowed ? 'block' : 'none';\n",
              "\n",
              "        async function convertToInteractive(key) {\n",
              "          const element = document.querySelector('#df-9b6665fc-1c0b-4d25-9fdf-44d6e9a7b2e1');\n",
              "          const dataTable =\n",
              "            await google.colab.kernel.invokeFunction('convertToInteractive',\n",
              "                                                     [key], {});\n",
              "          if (!dataTable) return;\n",
              "\n",
              "          const docLinkHtml = 'Like what you see? Visit the ' +\n",
              "            '<a target=\"_blank\" href=https://colab.research.google.com/notebooks/data_table.ipynb>data table notebook</a>'\n",
              "            + ' to learn more about interactive tables.';\n",
              "          element.innerHTML = '';\n",
              "          dataTable['output_type'] = 'display_data';\n",
              "          await google.colab.output.renderOutput(dataTable, element);\n",
              "          const docLink = document.createElement('div');\n",
              "          docLink.innerHTML = docLinkHtml;\n",
              "          element.appendChild(docLink);\n",
              "        }\n",
              "      </script>\n",
              "    </div>\n",
              "  </div>\n",
              "  "
            ],
            "text/plain": [
              "                 company  ...          Education\n",
              "62351          Microsoft  ...                NaN\n",
              "61851        Squarespace  ...                NaN\n",
              "45054                PwC  ...    Master's Degree\n",
              "56175            Netflix  ...  Bachelor's Degree\n",
              "57701            Netflix  ...  Bachelor's Degree\n",
              "61967          Microsoft  ...                NaN\n",
              "56529            Netflix  ...                NaN\n",
              "16640            Netflix  ...    Master's Degree\n",
              "37462            Netflix  ...  Bachelor's Degree\n",
              "36746            Netflix  ...  Bachelor's Degree\n",
              "45210  HERE Technologies  ...                NaN\n",
              "38957            Netflix  ...  Bachelor's Degree\n",
              "30642            Netflix  ...                NaN\n",
              "12177            Netflix  ...                NaN\n",
              "40726            Netflix  ...                NaN\n",
              "35536            Netflix  ...                NaN\n",
              "29811            Netflix  ...    Master's Degree\n",
              "37231            Netflix  ...                NaN\n",
              "57518            Netflix  ...                NaN\n",
              "35867            Netflix  ...                PhD\n",
              "14417            Netflix  ...                PhD\n",
              "58406                IBM  ...                NaN\n",
              "45642            Netflix  ...    Master's Degree\n",
              "46371               Brex  ...                NaN\n",
              "52716            Netflix  ...  Bachelor's Degree\n",
              "\n",
              "[25 rows x 11 columns]"
            ]
          },
          "metadata": {},
          "execution_count": 31
        }
      ],
      "source": [
        "#records for 25 highest totalyearlycompensation\n",
        "top_25 = df2.sort_values('basesalary', ascending=False)[:25]\n",
        "top_25"
      ]
    },
    {
      "cell_type": "code",
      "execution_count": null,
      "metadata": {
        "id": "DyajcZUDGPGs",
        "colab": {
          "base_uri": "https://localhost:8080/"
        },
        "outputId": "29252fde-ad16-45c9-9822-dfecc08196bf"
      },
      "outputs": [
        {
          "output_type": "execute_result",
          "data": {
            "text/plain": [
              "Netflix              18\n",
              "Microsoft             2\n",
              "IBM                   1\n",
              "Squarespace           1\n",
              "PwC                   1\n",
              "HERE Technologies     1\n",
              "Brex                  1\n",
              "Name: company, dtype: int64"
            ]
          },
          "metadata": {},
          "execution_count": 32
        }
      ],
      "source": [
        "top_25.company.value_counts()"
      ]
    },
    {
      "cell_type": "markdown",
      "metadata": {
        "id": "i9RGXhA4F989"
      },
      "source": [
        "> - companies where the top earners (via total yearly compensation) work"
      ]
    },
    {
      "cell_type": "code",
      "execution_count": null,
      "metadata": {
        "id": "hjKBAQf5DWNB",
        "colab": {
          "base_uri": "https://localhost:8080/",
          "height": 360
        },
        "outputId": "2c970909-0ccd-41e8-e52f-6a72257ab872"
      },
      "outputs": [
        {
          "output_type": "display_data",
          "data": {
            "image/png": "[encoded data removed]",
            "text/plain": [
              "<Figure size 432x288 with 1 Axes>"
            ]
          },
          "metadata": {
            "needs_background": "light"
          }
        }
      ],
      "source": [
        "companies = top_25.groupby('company').mean().sort_values(by='basesalary', ascending=False).reset_index().company\n",
        "sns.barplot(x='company', y='basesalary',data=top_25,order=companies, palette='Blues_d')\n",
        "plt.ticklabel_format(style='plain', axis='y')\n",
        "plt.xticks(rotation=45);\n",
        "plt.title('Companies with Top 25 Total Yearly Compensations', fontsize=14);"
      ]
    },
    {
      "cell_type": "code",
      "execution_count": null,
      "metadata": {
        "id": "P9ZzPW8KEIEn",
        "colab": {
          "base_uri": "https://localhost:8080/"
        },
        "outputId": "49e75dc8-3b56-4f9e-f402-0b555453b5ab"
      },
      "outputs": [
        {
          "output_type": "execute_result",
          "data": {
            "text/plain": [
              "20.0    4\n",
              "15.0    4\n",
              "8.0     3\n",
              "18.0    2\n",
              "10.0    2\n",
              "9.0     2\n",
              "7.0     2\n",
              "13.0    2\n",
              "14.0    1\n",
              "24.0    1\n",
              "19.0    1\n",
              "22.0    1\n",
              "Name: yearsofexperience, dtype: int64"
            ]
          },
          "metadata": {},
          "execution_count": 34
        }
      ],
      "source": [
        "top_25.yearsofexperience.value_counts()"
      ]
    },
    {
      "cell_type": "code",
      "execution_count": null,
      "metadata": {
        "id": "-VjwZ7cMJIT6",
        "colab": {
          "base_uri": "https://localhost:8080/",
          "height": 310
        },
        "outputId": "b4d836d7-3d4b-49de-c12e-831348705b79"
      },
      "outputs": [
        {
          "output_type": "display_data",
          "data": {
            "image/png": "[encoded data removed]",
            "text/plain": [
              "<Figure size 432x288 with 1 Axes>"
            ]
          },
          "metadata": {
            "needs_background": "light"
          }
        }
      ],
      "source": [
        "top_25.yearsofexperience.value_counts().plot(kind='bar')\n",
        "plt.title('Years of Experience Counts for Top 25 Total Yearly Compensation Earners', fontsize=16)\n",
        "plt.xlabel('Years of Experience')\n",
        "plt.ylabel('# of Peoplev W/ X Years of Experience');"
      ]
    },
    {
      "cell_type": "code",
      "execution_count": null,
      "metadata": {
        "id": "Haj1ttRevVN2",
        "colab": {
          "base_uri": "https://localhost:8080/",
          "height": 442
        },
        "outputId": "9374788b-802c-4d11-cd70-353a3345b426"
      },
      "outputs": [
        {
          "output_type": "display_data",
          "data": {
            "image/png": "[encoded data removed]",
            "text/plain": [
              "<Figure size 432x288 with 1 Axes>"
            ]
          },
          "metadata": {
            "needs_background": "light"
          }
        }
      ],
      "source": [
        "titles = df2.groupby('title').mean().sort_values(by='basesalary', ascending=False).reset_index().title\n",
        "sns.barplot(x='title', y='basesalary', data=df2, order=titles, palette='Blues_d')\n",
        "plt.xticks(rotation=90);\n",
        "plt.title('Job Titles of Top Earners (basesalary)', fontsize=16);"
      ]
    },
    {
      "cell_type": "code",
      "execution_count": null,
      "metadata": {
        "id": "qLYF1IHdvsXD",
        "colab": {
          "base_uri": "https://localhost:8080/",
          "height": 292
        },
        "outputId": "3fb05e5f-e9d5-46aa-afcb-2daa21e85cf6"
      },
      "outputs": [
        {
          "output_type": "display_data",
          "data": {
            "image/png": "[encoded data removed]",
            "text/plain": [
              "<Figure size 432x288 with 1 Axes>"
            ]
          },
          "metadata": {
            "needs_background": "light"
          }
        }
      ],
      "source": [
        "years = top_25.groupby('yearsofexperience').mean().sort_values(by='basesalary', ascending=False).reset_index().yearsofexperience\n",
        "\n",
        "sns.barplot(x='yearsofexperience', y='basesalary',data=top_25,order=years, palette='Blues_d')\n",
        "plt.ticklabel_format(style='plain', axis='y')\n",
        "plt.xticks(rotation=90);"
      ]
    },
    {
      "cell_type": "markdown",
      "metadata": {
        "id": "jPBvQx1O8kPj"
      },
      "source": [
        "## **Preprocessing and Modelling**"
      ]
    },
    {
      "cell_type": "code",
      "execution_count": null,
      "metadata": {
        "id": "0CVS_0E5KIJT"
      },
      "outputs": [],
      "source": [
        "#import machine learning libraries and methods\n",
        "from sklearn.metrics import r2_score, mean_absolute_error, mean_squared_error, median_absolute_error\n",
        "from sklearn.linear_model import LinearRegression\n",
        "from sklearn.model_selection import train_test_split\n",
        "from sklearn.dummy import DummyRegressor\n",
        "import numpy as np\n",
        "from sklearn.compose import make_column_selector, make_column_transformer\n",
        "from sklearn.impute import SimpleImputer\n",
        "from sklearn.preprocessing import OneHotEncoder, StandardScaler\n",
        "from sklearn.pipeline import make_pipeline\n"
      ]
    },
    {
      "cell_type": "code",
      "execution_count": null,
      "metadata": {
        "id": "7F15bWzHKU0j"
      },
      "outputs": [],
      "source": [
        "#assign target and features\n",
        "X = df2.drop(columns='basesalary')\n",
        "y = df2['basesalary']"
      ]
    },
    {
      "cell_type": "code",
      "execution_count": null,
      "metadata": {
        "id": "3sXtEUATKnTJ"
      },
      "outputs": [],
      "source": [
        "#create train, test, split\n",
        "X_train, X_test, y_train, y_test = train_test_split(X, y, random_state=42)"
      ]
    },
    {
      "cell_type": "code",
      "execution_count": null,
      "metadata": {
        "id": "odapIQntKxh2",
        "colab": {
          "base_uri": "https://localhost:8080/"
        },
        "outputId": "d51eb1c3-17ea-41c0-e313-c6355a87a0a0"
      },
      "outputs": [
        {
          "output_type": "stream",
          "name": "stdout",
          "text": [
            "numeric columns are ['yearsofexperience', 'yearsatcompany']\n",
            "categorical columns are ['company', 'level', 'title', 'location', 'tag', 'gender', 'Race', 'Education']\n"
          ]
        }
      ],
      "source": [
        "#instatiate the selectors for numerical and categorical\n",
        "num_selector = make_column_selector(dtype_include='number')\n",
        "cat_selector = make_column_selector(dtype_include='object')\n",
        "\n",
        "num_columns = num_selector(X_train)\n",
        "cat_columns = cat_selector(X_train)\n",
        "\n",
        "print('numeric columns are', num_columns)\n",
        "print('categorical columns are', cat_columns)\n"
      ]
    },
    {
      "cell_type": "markdown",
      "metadata": {
        "id": "niflI66tQEuM"
      },
      "source": [
        "### **Preprocessing Pipelines**"
      ]
    },
    {
      "cell_type": "code",
      "execution_count": null,
      "metadata": {
        "id": "EvYRLxAyLCoR"
      },
      "outputs": [],
      "source": [
        "#instantiate imputer with mean strategy\n",
        "mean_imputer = SimpleImputer(strategy='mean')\n",
        "#instantiate imputer with most frequent strategy\n",
        "freq_imputer = SimpleImputer(strategy='most_frequent')\n",
        "#instantiate one hot encoder\n",
        "ohe_encoder = OneHotEncoder(sparse=False, handle_unknown='ignore')\n",
        "\n",
        "\n",
        "#match transformation to type of column\n",
        "num_tuple = (mean_imputer, num_selector)\n",
        "ohe_tuple = (ohe_encoder, cat_selector)\n",
        "cat_pipe = make_pipeline(freq_imputer,ohe_encoder)\n",
        "cat_tuple = (cat_pipe, cat_selector)\n",
        "\n",
        "column_transformer = make_column_transformer(num_tuple,cat_tuple)"
      ]
    },
    {
      "cell_type": "markdown",
      "metadata": {
        "id": "2tomsgh_QLSW"
      },
      "source": [
        "### **Linear Regression Model**"
      ]
    },
    {
      "cell_type": "code",
      "execution_count": null,
      "metadata": {
        "id": "jeH42fD0NL3q",
        "colab": {
          "base_uri": "https://localhost:8080/"
        },
        "outputId": "e7be8b81-9100-4672-d15f-e1e20f53656a"
      },
      "outputs": [
        {
          "output_type": "stream",
          "name": "stdout",
          "text": [
            "Train R2 score (linear regression): 0.8323794950160586\n",
            "Test R2 score (linear regression): 0.6981634495917013\n",
            "Difference 0.13\n"
          ]
        }
      ],
      "source": [
        "#instantiate linear regression\n",
        "lin_reg = LinearRegression()\n",
        "#instatiate linear regression pipeline\n",
        "linreg_pipe = make_pipeline(column_transformer, lin_reg)\n",
        "#fit pipeline one the training data\n",
        "linreg_pipe.fit(X_train, y_train)\n",
        "\n",
        "#analysis of linear regression\n",
        "linreg_score_train = r2_score(y_train, linreg_pipe.predict(X_train))\n",
        "linreg_score_test = r2_score(y_test, linreg_pipe.predict(X_test))\n",
        "print(f'Train R2 score (linear regression): {linreg_score_train}')\n",
        "print(f'Test R2 score (linear regression): {linreg_score_test}')\n",
        "print(f'Difference {linreg_score_train - linreg_score_test:.2f}')\n"
      ]
    },
    {
      "cell_type": "markdown",
      "source": [
        "#### **More Linear Regression Model Analysis**"
      ],
      "metadata": {
        "id": "M-dHTG7JLJeJ"
      }
    },
    {
      "cell_type": "code",
      "source": [
        "#test and train predictions\n",
        "linreg_test_preds = linreg_pipe.predict(X_test)\n",
        "linreg_train_preds = linreg_pipe.predict(X_train)\n",
        "\n",
        "#mean absolute errors for test and train\n",
        "MAE_linreg_test = mean_absolute_error(y_test,linreg_test_preds)\n",
        "MAE_linreg_train = mean_absolute_error(y_train,linreg_train_preds)\n",
        "\n",
        "#RMSE for test and train\n",
        "RSME_linreg_test = np.sqrt(mean_squared_error(y_test, linreg_test_preds))\n",
        "RSME_linreg_train = np.sqrt(mean_squared_error(y_train, linreg_train_preds))\n",
        "\n",
        "print(f'Linear Regression MAE (test): {MAE_linreg_test}')\n",
        "print(f'Linear Regression MAE (train): {MAE_linreg_train}')\n",
        "print(f'Linear Regression RMSE (test): {RSME_linreg_test}')\n",
        "print(f'Linear Regression RMSE (train): {RSME_linreg_train}')"
      ],
      "metadata": {
        "id": "ol1fwM46LGIg",
        "colab": {
          "base_uri": "https://localhost:8080/"
        },
        "outputId": "dc438482-9c34-449e-b4c0-ae3f87f0269a"
      },
      "execution_count": null,
      "outputs": [
        {
          "output_type": "stream",
          "name": "stdout",
          "text": [
            "Linear Regression MAE (test): 17307.783674004935\n",
            "Linear Regression MAE (train): 13561.102673757847\n",
            "Linear Regression RMSE (test): 30478.70331293259\n",
            "Linear Regression RMSE (train): 22706.51409188063\n"
          ]
        }
      ]
    },
    {
      "cell_type": "markdown",
      "metadata": {
        "id": "jnoCvZESQXVm"
      },
      "source": [
        "### **Decision Trees Model**"
      ]
    },
    {
      "cell_type": "code",
      "execution_count": null,
      "metadata": {
        "id": "bQpFARWJPVeq",
        "colab": {
          "base_uri": "https://localhost:8080/"
        },
        "outputId": "56bba817-eead-426f-93db-9310fcc62dfa"
      },
      "outputs": [
        {
          "output_type": "stream",
          "name": "stdout",
          "text": [
            "Train R2 score (decision tree): 0.9975491457793987\n",
            "Test R2 score (decision tree): 0.5553280447764557\n",
            "Difference 0.44\n"
          ]
        }
      ],
      "source": [
        "from sklearn.tree import DecisionTreeRegressor\n",
        "\n",
        "#insantiate decision tree\n",
        "dectree = DecisionTreeRegressor(random_state=42)\n",
        "\n",
        "#decision tree pipeline\n",
        "dectree_pipe = make_pipeline(column_transformer, dectree)\n",
        "\n",
        "#fit decision tree\n",
        "dectree_pipe.fit(X_train, y_train)\n",
        "\n",
        "\n",
        "#decision tree analysis\n",
        "dectree_score_train = r2_score(y_train, dectree_pipe.predict(X_train))\n",
        "dectree_score_test = r2_score(y_test, dectree_pipe.predict(X_test))\n",
        "print(f'Train R2 score (decision tree): {dectree_score_train}')\n",
        "print(f'Test R2 score (decision tree): {dectree_score_test}')\n",
        "print(f'Difference {dectree_score_train - dectree_score_test:.2f}')"
      ]
    },
    {
      "cell_type": "markdown",
      "source": [
        "#### **More Decision Tree Model Analysis**"
      ],
      "metadata": {
        "id": "-OpwOnwyMsIK"
      }
    },
    {
      "cell_type": "code",
      "source": [
        "#test and train predictions\n",
        "dectree_test_preds = dectree_pipe.predict(X_test)\n",
        "dectree_train_preds = dectree_pipe.predict(X_train)\n",
        "\n",
        "#mean absolute errors for test and train\n",
        "MAE_dectree_test = mean_absolute_error(y_test,dectree_test_preds)\n",
        "MAE_dectree_train = mean_absolute_error(y_train,dectree_train_preds)\n",
        "\n",
        "#RMSE for test and train\n",
        "RSME_dectree_test = np.sqrt(mean_squared_error(y_test, dectree_test_preds))\n",
        "RSME_dectree_train = np.sqrt(mean_squared_error(y_train, dectree_train_preds))\n",
        "\n",
        "print(f'Decision Tree MAE (test): {MAE_dectree_test}')\n",
        "print(f'Decision Tree MAE (train): {MAE_dectree_train}')\n",
        "print(f'Decision Tree RMSE (test): {RSME_dectree_test}')\n",
        "print(f'Decision Tree RMSE (train): {RSME_dectree_train}')"
      ],
      "metadata": {
        "id": "0NVwe4EeMusl",
        "colab": {
          "base_uri": "https://localhost:8080/"
        },
        "outputId": "bcdf8407-fa38-4122-ca8e-e9761f7b67d5"
      },
      "execution_count": null,
      "outputs": [
        {
          "output_type": "stream",
          "name": "stdout",
          "text": [
            "Decision Tree MAE (test): 22250.127503087806\n",
            "Decision Tree MAE (train): 428.8361129573734\n",
            "Decision Tree RMSE (test): 36993.92757886453\n",
            "Decision Tree RMSE (train): 2745.652901000469\n"
          ]
        }
      ]
    },
    {
      "cell_type": "markdown",
      "metadata": {
        "id": "utpjHfJvQQFO"
      },
      "source": [
        "### **Bagged Trees Model**"
      ]
    },
    {
      "cell_type": "code",
      "execution_count": null,
      "metadata": {
        "id": "VhiGZjGONwwR",
        "colab": {
          "base_uri": "https://localhost:8080/"
        },
        "outputId": "7ee0093e-5887-4618-b5ea-6b0dc7d5ab8f"
      },
      "outputs": [
        {
          "output_type": "stream",
          "name": "stdout",
          "text": [
            "Train R2 score (bagged trees): 0.9513111969355109\n",
            "Test R2 score (bagged trees): 0.6816490308266459\n",
            "Difference 0.27\n"
          ]
        }
      ],
      "source": [
        "#import bagged tree\n",
        "from sklearn.ensemble import BaggingRegressor\n",
        "#instantiate bagged tree\n",
        "bagreg = BaggingRegressor(random_state=42)\n",
        "#bagged pipeline\n",
        "bagreg_pipe = make_pipeline(column_transformer, bagreg)\n",
        "#fit pipeline\n",
        "bagreg_pipe.fit(X_train,y_train)\n",
        "\n",
        "bagreg_score_train = r2_score(y_train, bagreg_pipe.predict(X_train))\n",
        "bagreg_score_test = r2_score(y_test, bagreg_pipe.predict(X_test))\n",
        "print(f'Train R2 score (bagged trees): {bagreg_score_train}')\n",
        "print(f'Test R2 score (bagged trees): {bagreg_score_test}')\n",
        "print(f'Difference {bagreg_score_train - bagreg_score_test:.2f}')"
      ]
    },
    {
      "cell_type": "markdown",
      "source": [
        "#### **More Bagged Trees Model Analysis**"
      ],
      "metadata": {
        "id": "-YVTpjRQVIKS"
      }
    },
    {
      "cell_type": "code",
      "source": [
        "#test and train predictions\n",
        "bagreg_test_preds = bagreg_pipe.predict(X_test)\n",
        "bagreg_train_preds = bagreg_pipe.predict(X_train)\n",
        "\n",
        "#mean absolute errors for test and train\n",
        "MAE_bagreg_test = mean_absolute_error(y_test,bagreg_test_preds)\n",
        "MAE_bagreg_train = mean_absolute_error(y_train,bagreg_train_preds)\n",
        "\n",
        "#RMSE for test and train\n",
        "RSME_bagreg_test = np.sqrt(mean_squared_error(y_test, bagreg_test_preds))\n",
        "RSME_bagreg_train = np.sqrt(mean_squared_error(y_train, bagreg_train_preds))\n",
        "\n",
        "print(f'Bagged Tree MAE (test): {MAE_bagreg_test}')\n",
        "print(f'Bagged Tree MAE (train): {MAE_bagreg_train}')\n",
        "print(f'Bagged Tree RMSE (test): {RSME_bagreg_test}')\n",
        "print(f'Bagged Tree RMSE (train): {RSME_bagreg_train}')"
      ],
      "metadata": {
        "id": "2kklXj1qVHn3",
        "colab": {
          "base_uri": "https://localhost:8080/"
        },
        "outputId": "b1015313-00c9-4b70-8185-d341c808d39d"
      },
      "execution_count": null,
      "outputs": [
        {
          "output_type": "stream",
          "name": "stdout",
          "text": [
            "Bagged Tree MAE (test): 18516.159613964708\n",
            "Bagged Tree MAE (train): 7297.525728716271\n",
            "Bagged Tree RMSE (test): 31301.392631477996\n",
            "Bagged Tree RMSE (train): 12237.746230184192\n"
          ]
        }
      ]
    },
    {
      "cell_type": "code",
      "source": [
        "print(f'Difference between Random Forest Test score and Bagged Trees Test Score: {0.903726156640484-0.9006363840648496:.3f}')"
      ],
      "metadata": {
        "id": "XwbfUWshrI-z",
        "colab": {
          "base_uri": "https://localhost:8080/"
        },
        "outputId": "10730c6b-e109-4c50-a8f3-52b7ad56ce1f"
      },
      "execution_count": null,
      "outputs": [
        {
          "output_type": "stream",
          "name": "stdout",
          "text": [
            "Difference between Random Forest Test score and Bagged Trees Test Score: 0.003\n"
          ]
        }
      ]
    },
    {
      "cell_type": "markdown",
      "metadata": {
        "id": "D8mrpnqeXSB4"
      },
      "source": [
        "> While Random Forest modelling has the best test r2 score it is only by about .003 but running the Random Forest takes a significantly longer amount of time (almost 40 mins versus the 2 mins than bagged trees takes). So the production model we will be using and hyperparameter tuning is the Bagged Tree model to improve R2 score and other metrics.\n"
      ]
    },
    {
      "cell_type": "markdown",
      "metadata": {
        "id": "PnuGqSmaYCP1"
      },
      "source": [
        "## Resource for Hyperparameter Tuning\n",
        "\n",
        "- https://towardsdatascience.com/hyperparameter-tuning-the-random-forest-in-python-using-scikit-learn-28d2aa77dd74"
      ]
    },
    {
      "cell_type": "code",
      "execution_count": null,
      "metadata": {
        "id": "RV5BPSvS1ic1",
        "colab": {
          "base_uri": "https://localhost:8080/"
        },
        "outputId": "d29545ea-c1da-438b-8901-632b84b32258"
      },
      "outputs": [
        {
          "output_type": "stream",
          "name": "stdout",
          "text": [
            "Parameters currently in use:\n",
            "\n",
            "{'base_estimator': None,\n",
            " 'bootstrap': True,\n",
            " 'bootstrap_features': False,\n",
            " 'max_features': 1.0,\n",
            " 'max_samples': 1.0,\n",
            " 'n_estimators': 10,\n",
            " 'n_jobs': None,\n",
            " 'oob_score': False,\n",
            " 'random_state': 42,\n",
            " 'verbose': 0,\n",
            " 'warm_start': False}\n"
          ]
        }
      ],
      "source": [
        "bagreg = BaggingRegressor(random_state=42)\n",
        "from pprint import pprint\n",
        "# Look at parameters used by our current forest\n",
        "print('Parameters currently in use:\\n')\n",
        "pprint(bagreg.get_params())"
      ]
    },
    {
      "cell_type": "markdown",
      "metadata": {
        "id": "WL2tCzdv8B5p"
      },
      "source": [
        "> - this shows that parameters of our currrent model which give a starting point for hyperparameter tuning"
      ]
    },
    {
      "cell_type": "markdown",
      "source": [
        ""
      ],
      "metadata": {
        "id": "cSZAYD9p6Wba"
      }
    },
    {
      "cell_type": "code",
      "execution_count": null,
      "metadata": {
        "id": "wx6J3EwAWkAO"
      },
      "outputs": [],
      "source": [
        "\n",
        "from sklearn.model_selection import GridSearchCV\n",
        "# Create the parameter grid based on the results of random search\n",
        "# Number of trees in random forest\n",
        "n_estimators = list(range(5,55,5))\n",
        "# Number of features to consider at every split\n",
        "max_features = list(range(1,15))\n",
        "# Method of selecting samples for training each tree\n",
        "bootstrap = [True, False]\n",
        "#method of fitting new estimator or reusing\n",
        "warm_start = [True,False]\n",
        "#method of \n",
        "oob_score = [True, False]\n",
        "# Create the random grid\n",
        "param_grid = {'n_estimators': n_estimators,\n",
        "               'max_features': max_features,\n",
        "               'warm_start': warm_start,\n",
        "               'bootstrap': bootstrap}\n",
        "\n",
        "##param_grid = {\n",
        "    ##'max_depth': [10, 20, None],\n",
        "    ##'max_features': [2, 3,'auto'],\n",
        "    ##'min_samples_leaf': [1, 4, 5],\n",
        "    ##'min_samples_split': [2, 3, 6],\n",
        "    ##'n_estimators': [50, 100, 150, 250]\n",
        "#}\n",
        "\n",
        "#}\n",
        "# Create a based model\n",
        "bagreg_improved = BaggingRegressor(random_state=42)# Instantiate the grid search model\n",
        "grid_search = GridSearchCV(estimator = bagreg_improved, param_grid = param_grid, \n",
        "                          cv = 3, n_jobs = -1, verbose = 2)"
      ]
    },
    {
      "cell_type": "code",
      "execution_count": null,
      "metadata": {
        "id": "4gtUCu9nZKTz",
        "colab": {
          "base_uri": "https://localhost:8080/"
        },
        "outputId": "0ca8e23c-3c3d-414d-f5b0-7e2071e0b12a"
      },
      "outputs": [
        {
          "output_type": "stream",
          "name": "stdout",
          "text": [
            "Fitting 3 folds for each of 560 candidates, totalling 1680 fits\n"
          ]
        }
      ],
      "source": [
        "pipe_bagreg_improved = make_pipeline(column_transformer, grid_search)\n",
        "# Fit the grid search to the data\n",
        "pipe_bagreg_improved.fit(X_train, y_train)\n",
        "grid_search.best_params_\n"
      ]
    },
    {
      "cell_type": "code",
      "execution_count": null,
      "metadata": {
        "id": "ExNEeKUPZNL-"
      },
      "outputs": [],
      "source": [
        "bagreg_best = BaggingRegressor(bootstrap=True, max_features=5, n_estimators=50, warm_start=True)"
      ]
    },
    {
      "cell_type": "code",
      "execution_count": null,
      "metadata": {
        "id": "4f9fnTZ-jcxV",
        "colab": {
          "base_uri": "https://localhost:8080/"
        },
        "outputId": "31f6256e-c58b-479c-f911-2686b3d2f4e7"
      },
      "outputs": [
        {
          "output_type": "execute_result",
          "data": {
            "text/plain": [
              "Pipeline(steps=[('columntransformer',\n",
              "                 ColumnTransformer(transformers=[('simpleimputer',\n",
              "                                                  SimpleImputer(),\n",
              "                                                  <sklearn.compose._column_transformer.make_column_selector object at 0x7f28a85f2d90>),\n",
              "                                                 ('pipeline',\n",
              "                                                  Pipeline(steps=[('simpleimputer',\n",
              "                                                                   SimpleImputer(strategy='most_frequent')),\n",
              "                                                                  ('onehotencoder',\n",
              "                                                                   OneHotEncoder(handle_unknown='ignore',\n",
              "                                                                                 sparse=False))]),\n",
              "                                                  <sklearn.compose._column_transformer.make_column_selector object at 0x7f28a88b12d0>)])),\n",
              "                ('baggingregressor',\n",
              "                 BaggingRegressor(max_features=5, n_estimators=50,\n",
              "                                  warm_start=True))])"
            ]
          },
          "metadata": {},
          "execution_count": 66
        }
      ],
      "source": [
        "pipe_bagreg_best = make_pipeline(column_transformer, bagreg_best)\n",
        "pipe_bagreg_best.fit(X_train,y_train)"
      ]
    },
    {
      "cell_type": "code",
      "execution_count": null,
      "metadata": {
        "id": "se8rk6w0jlcc",
        "colab": {
          "base_uri": "https://localhost:8080/"
        },
        "outputId": "7750c055-140f-46d6-cef0-fa1113b58360"
      },
      "outputs": [
        {
          "output_type": "stream",
          "name": "stdout",
          "text": [
            "Train R2 score (best bagging tree): 0.0010970794218267965\n",
            "Test R2 score (best bagged tree): 0.0008418262615130789\n"
          ]
        }
      ],
      "source": [
        "print(f'Train R2 score (best bagging tree): {r2_score(y_train, pipe_bagreg_best.predict(X_train))}')\n",
        "print(f'Test R2 score (best bagged tree): {r2_score(y_test, pipe_bagreg_best.predict(X_test))}')"
      ]
    },
    {
      "cell_type": "code",
      "source": [
        "best_pred_train = pipe_bagreg_best.predict(X_train)\n",
        "best_pred_test = pipe_bagreg_best.predict(X_test)\n",
        "MAE_bagregBest_test = mean_absolute_error(y_test,best_pred_test)\n",
        "MAE_bagregBest_train = mean_absolute_error(y_train,best_pred_train)\n",
        "\n",
        "print(f'Bagged Tree MAE (test): {MAE_bagregBest_test}')\n",
        "print(f'Bagged Tree MAE (train): {MAE_bagregBest_train}')"
      ],
      "metadata": {
        "id": "yb_7Z4aTNEBo",
        "colab": {
          "base_uri": "https://localhost:8080/"
        },
        "outputId": "7c8a2051-6830-4a1c-b760-456576d5a2fb"
      },
      "execution_count": null,
      "outputs": [
        {
          "output_type": "stream",
          "name": "stdout",
          "text": [
            "Bagged Tree MAE (test): 38243.56254902005\n",
            "Bagged Tree MAE (train): 38342.79870466092\n"
          ]
        }
      ]
    }
  ],
  "metadata": {
    "colab": {
      "collapsed_sections": [
        "cT33oqUuFudp",
        "JI8z_Wt8oPDa",
        "2B2Yoizm06je"
      ],
      "name": "Copy of Copy of Project 2.ipynb",
      "provenance": [],
      "mount_file_id": "1WFac6SU7bRbf2j-qJMd5tIFHVUqv43FX",
      "authorship_tag": "ABX9TyME9xHx/i8+ToOpfMISnZUq",
      "include_colab_link": true
    },
    "kernelspec": {
      "display_name": "Python 3",
      "name": "python3"
    },
    "language_info": {
      "name": "python"
    }
  },
  "nbformat": 4,
  "nbformat_minor": 0
}